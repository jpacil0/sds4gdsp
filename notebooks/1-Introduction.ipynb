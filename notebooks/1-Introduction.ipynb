{
 "cells": [
  {
   "cell_type": "markdown",
   "id": "b6e47932-f73f-4903-8924-d5c3d983ad9b",
   "metadata": {
    "tags": []
   },
   "source": [
    "# Introduction: Grammar of Spatial Data Science"
   ]
  },
  {
   "cell_type": "markdown",
   "id": "15555f74-0930-470f-b38e-fa368c4951b5",
   "metadata": {
    "tags": []
   },
   "source": [
    "## 1. Learning Objectives"
   ]
  },
  {
   "cell_type": "markdown",
   "id": "426d4309-4e7e-4f8a-8981-637c423c6a9b",
   "metadata": {},
   "source": [
    "This lecture provides students with **little-to-zero prior knowledge** core competences in Spatial Data Science (SDS).\n",
    "\n",
    "a. Advance their numerical, computational, and statistical literacy. <br>\n",
    "b. Introduce basic principles of programming and state of the art (SOTA) computational tools for SDS. <br>\n",
    "c. Present a rich overview of the methodologies available to the Spatial Data Scientist, as well as intuition as to how and when they can be applied. <br>\n",
    "d. Focus on real world applications of these techniques in a geographical and applied context."
   ]
  },
  {
   "cell_type": "markdown",
   "id": "e48b9f8e-90c2-4048-9dd8-c1edf113a4af",
   "metadata": {
    "tags": []
   },
   "source": [
    "## 2. Learning Outcomes"
   ]
  },
  {
   "cell_type": "markdown",
   "id": "ad6c5455-1daf-4cce-8a7a-e43c4034e64f",
   "metadata": {
    "tags": []
   },
   "source": [
    "By the end of the lecture & workshop, students will be able to:\n",
    "\n",
    "a. Demonstrate SDS concepts and be able to use tools programmatically to import, manipulate, and analyze spatial data in different formats. <br>\n",
    "b. Understand the motivation and inner workings of the main methodological approaches of SDS, both analytical and visual. <br>\n",
    "3. Apply spatial analysis techniques and explain how to interpret the results, in a process of turning data into information."
   ]
  },
  {
   "cell_type": "code",
   "execution_count": null,
   "id": "0ffcf369-d2eb-4481-a084-27fba8bd061f",
   "metadata": {
    "tags": []
   },
   "outputs": [],
   "source": [
    "# for reproducibility\n",
    "import random\n",
    "random.seed(2023)\n",
    "\n",
    "# for text matching \n",
    "import re\n",
    "\n",
    "# for downloading data and parsing dictionary\n",
    "import json\n",
    "import requests\n",
    "\n",
    "# for spatial data I/O, manipulation, and visualization\n",
    "import shapely\n",
    "import leafmap\n",
    "import osmnx as ox\n",
    "import networkx as nx\n",
    "import contextily as ctx\n",
    "import geopandas as gpd\n",
    "from shapely.geometry import (\n",
    "    Point, LineString, Polygon\n",
    ")\n",
    "from gadm import GADMDownloader\n",
    "\n",
    "# standard python libraries\n",
    "import numpy as np\n",
    "import pandas as pd\n",
    "pd.options.display.max_colwidth=200\n",
    "pd.options.display.max_columns=100\n",
    "from itertools import combinations\n",
    "import matplotlib.pyplot as plt\n",
    "\n",
    "# custom lib for the lecture\n",
    "# from sds4gdsp import loader, processor"
   ]
  },
  {
   "cell_type": "code",
   "execution_count": null,
   "id": "a20b68c5-d574-45c9-b777-bde3ff96f559",
   "metadata": {
    "tags": []
   },
   "outputs": [],
   "source": [
    "def make_points(num_points, lng_min, lng_max, lat_min, lat_max):\n",
    "    coords = []\n",
    "    for _ in range(num_points):\n",
    "        lng = random.uniform(lng_min, lng_max)\n",
    "        lat = random.uniform(lat_min, lat_max)\n",
    "        coords.append((lng, lat))\n",
    "    return coords\n",
    "\n",
    "def make_lines(points):\n",
    "    random.shuffle(points)\n",
    "    lines = []\n",
    "    for orig, dest in zip(points, points[1:]):\n",
    "        if random.choices([True, False], [30, 70], k=1)[0]:\n",
    "            lines.append(LineString([orig, dest]))\n",
    "    return lines\n",
    "\n",
    "def make_polygon(points):\n",
    "    return Polygon(points)\n",
    "\n",
    "def make_spatial_data(n):\n",
    "    coords = np.random.random((n, 2))\n",
    "    points = list(map(lambda z: Point(z), coords))\n",
    "    lines = LineString(points)\n",
    "    lines = list(map(lambda x: LineString(x), list(zip(points, points[1:]))))\n",
    "    polygon = Polygon(points)\n",
    "    return points, lines, polygon\n",
    "\n",
    "def make_graph(\n",
    "    origin, network_type, dist=500, dist_type=\"bbox\", retain_all=False, simplify=True\n",
    "):\n",
    "    # query the road network using OSMNx\n",
    "    G = ox.graph_from_point(\n",
    "        center_point=origin, # origin point of query\n",
    "        dist=dist, # radius in meters from the origin\n",
    "        dist_type=dist_type, # examples is `bbox`\n",
    "        retain_all=retain_all, # filter connected components?\n",
    "        simplify=simplify, # simplify network topology\n",
    "        network_type=network_type # filter to <insert type from OSM> roads\n",
    "    )\n",
    "    return G\n",
    "\n",
    "def get_coord_sequence(G, route):\n",
    "    route_coords = []\n",
    "    for node in route:\n",
    "        route_coords.append((G.nodes[node][\"x\"], G.nodes[node][\"y\"]))\n",
    "    return route_coords"
   ]
  },
  {
   "cell_type": "markdown",
   "id": "fd02ae8b-296d-40d5-a076-ef8780d1ad24",
   "metadata": {
    "jp-MarkdownHeadingCollapsed": true,
    "tags": []
   },
   "source": [
    "## 3. Motivation"
   ]
  },
  {
   "cell_type": "markdown",
   "id": "79e43ea2-95ce-4737-8799-3a36d1c1c0ef",
   "metadata": {
    "tags": []
   },
   "source": [
    "### a. What makes SDS so spatial (special)?"
   ]
  },
  {
   "cell_type": "markdown",
   "id": "e38ccaea-c277-416f-a093-54a6d5f7fb2d",
   "metadata": {},
   "source": [
    "a. SDS aims to answer the twofold question -> **WHERE and WHY things happen?**\n",
    "\n",
    "SDS is interested in understanding both where certain things (or events) happen and why they happen in those places. To do this, Spatial Data Scientists leverage location, distance, and spatial interactions as core aspects of the data they work with and use highly specialized methods and cutting-edge software to analyze, visualize, and draw actionable insights from various spatial use cases.\n",
    "\n",
    "b. SDS is the intersection of Data Science (DS) and **Geographic Information System (GIS).**\n",
    "\n",
    "GIS is a niche field that refers to different types of information systems, such as websites, apps, or databases for storing and processing spatial datasets. Today, Spatial Data Scientists use GIS as part of a wider, more modern tech stack allowing them to do more advanced statistical and modeling-based data analyses while also being able to leverage the latest artificial intelligence (AI) and machine learning (ML) techniques more effectively.\n",
    "\n",
    "c. Only **1 in 3 Data Scientists** are experts in spatial analysis.\n",
    "\n",
    "SDS is clearly still a niche area of data science, it is nonetheless an attractive area for organizations to explore and focus on in the years ahead. According to this survey **[HI PAO, INSERT LINK PLEASE]**, 9 in 10 of the industries surveyed (telco, software & tech, consulting, cities & government, etc.)\n",
    "- Have a difficult time finding, recruiting, and hiring talent with SDS in their toolbelt  \n",
    "- Very likely to increase their investment in SDS for the next two years\n",
    "\n",
    "d. There's a ton of **publicly available** geo datasets out there!\n",
    "\n",
    "Yes! That's true. Be it points of interest (POI) like buildings, man-made road networks, internet submarine cables, etc"
   ]
  },
  {
   "cell_type": "markdown",
   "id": "c1f45e48-53e1-415a-a85a-c22e015efc74",
   "metadata": {
    "jp-MarkdownHeadingCollapsed": true,
    "tags": []
   },
   "source": [
    "### Q1: Where (might) have you used geospatial data before?\n",
    "\n",
    "- Answer #1\n",
    "- Answer #2\n",
    "- Answer #n"
   ]
  },
  {
   "cell_type": "markdown",
   "id": "eb5d8aa3-0068-485a-ba13-1e9c2cb8ba20",
   "metadata": {
    "tags": []
   },
   "source": [
    "### b. How can I relate this to my work in Globe?"
   ]
  },
  {
   "cell_type": "markdown",
   "id": "c477d9b9-e70b-4be1-a152-ec8324c522ce",
   "metadata": {
    "tags": []
   },
   "source": [
    "Geospatial data and assets in the telco universe is **ubiquitous.**\n",
    "\n",
    "Here are some examples you can encounter in the wild.\n",
    "\n",
    "**POINT** representation\n",
    "\n",
    "- Globe cellsites\n",
    "- Globe fiber NAPs\n",
    "- Globe physical stores\n",
    "- Globe sub households\n",
    "- Globe blitz deployments\n",
    "- Globe OOH advertisements\n",
    "- Web-scraped POIs\n",
    "\n",
    "**POLYGON** representation\n",
    "\n",
    "- PH admin boundaries\n",
    "- Globe cellsite coverage areas\n",
    "- Globe fiber coverage areas\n",
    "- Custom enumeration units (rectangles, hexagons, etc)\n",
    "- Competitor coverage estimates\n",
    "- Building footprints\n",
    "\n",
    "**GRAPH** representation\n",
    "\n",
    "- PH road networks\n",
    "- Globe fiber wiring connections\n",
    "- WW submarine cable network"
   ]
  },
  {
   "cell_type": "markdown",
   "id": "625f0241-3f4f-4a38-8a7a-12d48f2f948d",
   "metadata": {},
   "source": [
    "### Q2: Can you find the USD 150 million PDSCN project?\n",
    "\n",
    "The [**Philippine Domestic Submarine Cable Network (PDSCN)**](https://www.globe.com.ph/about-us/newsroom/corporate/pdscn-for-april-2023-completion.html#gref) is the longest undersea fiber cable network in the Philippines to date, spanning a total of 2,500 KM."
   ]
  },
  {
   "cell_type": "code",
   "execution_count": null,
   "id": "b57e40b3-8dfe-4601-92e6-8acc31c52d9e",
   "metadata": {},
   "outputs": [],
   "source": [
    "M = leafmap.Map(center=[0, 0], zoom=2)\n",
    "filepath_cable = \"https://raw.githubusercontent.com/opengeos/leafmap/master/examples/data/cable_geo.geojson\"\n",
    "M.add_geojson(filepath_cable, layer_name=\"WW internet submarine cables\")\n",
    "display(M)"
   ]
  },
  {
   "cell_type": "markdown",
   "id": "e109bf97-2e56-440d-bb9b-92d29feaaebe",
   "metadata": {},
   "source": [
    "If you have a hard time finding it, get your hands dirty!\n",
    "\n",
    "1. Load the GeoJSON file using the URL filepath earlier.\n",
    "2. Parse the dictionary, look for the keyword using regex\n",
    "3. Use this key to fetch the necessary geometry"
   ]
  },
  {
   "cell_type": "code",
   "execution_count": null,
   "id": "8f191a80-22a3-41de-9126-2e15b1f73c08",
   "metadata": {},
   "outputs": [],
   "source": [
    "response = requests.get(filepath_cable)\n",
    "submarine_cables = json.loads(response.text)\n",
    "\n",
    "# apply 'Philippine' regex to this list, you'll find it for sure!\n",
    "names_submarine_cables = list(map(lambda x: x[\"properties\"][\"name\"], submarine_cables[\"features\"]))\n",
    "\n",
    "r = re.compile(\".*Philippine\")\n",
    "key_pdscn = list(filter(r.match, names_submarine_cables))[0]"
   ]
  },
  {
   "cell_type": "code",
   "execution_count": null,
   "id": "50c3ab8d-695f-4a87-bc9e-d6528d69f11f",
   "metadata": {},
   "outputs": [],
   "source": [
    "key_pdscn"
   ]
  },
  {
   "cell_type": "code",
   "execution_count": null,
   "id": "01a8089c-d889-4945-aea5-cbbe05d637bd",
   "metadata": {},
   "outputs": [],
   "source": [
    "for test in list(map(lambda x: x[\"properties\"], submarine_cables[\"features\"])):\n",
    "    if test[\"name\"] == key_pdscn:\n",
    "        geojson_pdscn = test"
   ]
  },
  {
   "cell_type": "code",
   "execution_count": null,
   "id": "00de5e7c-2a7a-4130-b299-67cf65a5190d",
   "metadata": {},
   "outputs": [],
   "source": [
    "geojson_pdscn # hooray! you can use the coordinate data and plot it to any of your favorite geo library"
   ]
  },
  {
   "cell_type": "markdown",
   "id": "96c2dac6-fa77-41d1-9d6c-eb1f1cfa45cf",
   "metadata": {
    "jp-MarkdownHeadingCollapsed": true,
    "tags": []
   },
   "source": [
    "### Q3: Can you think of any telco geospatial data that is not yet included?\n",
    "\n",
    "- Answer #1\n",
    "- Answer #2\n",
    "- Answer #n"
   ]
  },
  {
   "cell_type": "markdown",
   "id": "85779f4a-f759-4349-8814-2e326baf1af4",
   "metadata": {
    "tags": []
   },
   "source": [
    "## 4. Familiarizing yourself with **nouns**"
   ]
  },
  {
   "cell_type": "markdown",
   "id": "a3506004-1ae6-40ab-bb4d-5c3fac9cf637",
   "metadata": {},
   "source": [
    "### c. Shapely and basic geometric objects\n",
    "\n",
    "With the use of the **Shapely** library, you can work with geometric objects such as points, lines, and polygons. Most of the data you'll work with can be modeled using these object representations."
   ]
  },
  {
   "cell_type": "code",
   "execution_count": null,
   "id": "277c02bf-c136-492b-86b8-df8ea3d22a14",
   "metadata": {
    "tags": []
   },
   "outputs": [],
   "source": [
    "n = 20\n",
    "points, lines, polygon = make_spatial_data(n)\n",
    "\n",
    "fig, ax = plt.subplots(1, 3, figsize=(13, 9))\n",
    "colors = [random.choice([\"red\", \"green\", \"blue\"]) for _ in range(n)]\n",
    "markersizes = [random.choice(range(100, 600, 100)) for _ in range(n)]\n",
    "gpd.GeoSeries(points).plot(ax=ax[0], markersize=markersizes, color=colors)\n",
    "linewidths = [random.choice(range(2, 10, 2)) for _ in range(n)]\n",
    "gpd.GeoSeries(lines).plot(ax=ax[1], linewidth=linewidths, color=colors)\n",
    "gpd.GeoSeries(polygon).plot(ax=ax[2], linewidth=5, color=random.choice(colors))\n",
    "ax[0].set_title(f\"shapely.geometry.Point\", fontsize=18)\n",
    "ax[1].set_title(f\"shapely.geometry.LineString\", fontsize=18)\n",
    "ax[2].set_title(f\"shapely.geometry.Polygon\", fontsize=18)\n",
    "ax[0].tick_params(axis=\"both\", which=\"major\", labelsize=12)\n",
    "ax[0].tick_params(axis=\"both\", which=\"minor\", labelsize=12)\n",
    "ax[1].tick_params(axis=\"both\", which=\"major\", labelsize=12)\n",
    "ax[1].tick_params(axis=\"both\", which=\"minor\", labelsize=12)\n",
    "ax[2].tick_params(axis=\"both\", which=\"major\", labelsize=12)\n",
    "ax[2].tick_params(axis=\"both\", which=\"minor\", labelsize=12)\n",
    "plt.tight_layout();"
   ]
  },
  {
   "cell_type": "code",
   "execution_count": null,
   "id": "ba148669-94b4-479d-bcf2-0b2d52686147",
   "metadata": {
    "collapsed": true,
    "jupyter": {
     "outputs_hidden": true
    },
    "scrolled": true,
    "tags": []
   },
   "outputs": [],
   "source": [
    "help(points[0])"
   ]
  },
  {
   "cell_type": "code",
   "execution_count": null,
   "id": "e7d0db7c-1f7b-4757-bd1c-e26082391c78",
   "metadata": {
    "collapsed": true,
    "jupyter": {
     "outputs_hidden": true
    },
    "scrolled": true,
    "tags": []
   },
   "outputs": [],
   "source": [
    "lines[0]"
   ]
  },
  {
   "cell_type": "code",
   "execution_count": null,
   "id": "d1e2c848-4fe4-4050-a306-58ed678b2a38",
   "metadata": {
    "collapsed": true,
    "jupyter": {
     "outputs_hidden": true
    },
    "tags": []
   },
   "outputs": [],
   "source": [
    "polygon"
   ]
  },
  {
   "cell_type": "markdown",
   "id": "5476ac32-3736-409b-b4ac-54a123074f07",
   "metadata": {},
   "source": [
    "### Q4: Provide real-world scenario examples of a point, linestring and polygon\n",
    "- Answer for point : \n",
    "- Answer for linestring : \n",
    "- Answer for polygon : "
   ]
  },
  {
   "cell_type": "markdown",
   "id": "cbd068c2",
   "metadata": {},
   "source": [
    "### Nice! To sum it up:\n",
    "- A **point** generally would represent a single location in Earth defined by a pair of coordinates\n",
    "- A **linestring** is a sequence of connected points and represents a continuous path. This is made up of at least two coordiantes\n",
    "- A **polygon** is closed 2D shape usually defined by a sequence of coordinates that form a closed loop"
   ]
  },
  {
   "cell_type": "markdown",
   "id": "7b4be114-f572-48ee-886f-a8e9944a6b12",
   "metadata": {},
   "source": [
    "### d. Geopandas and dataframes\n",
    "\n",
    "This tool allows you to process tabular geometric data with a Pandas API like interface. Let's look at an example using the GADM shapefile (PH)."
   ]
  },
  {
   "cell_type": "code",
   "execution_count": null,
   "id": "4e298118-65a3-4340-ae78-5c79019c57b5",
   "metadata": {},
   "outputs": [],
   "source": [
    "country_name = \"Philippines\"\n",
    "gadm_version = \"4.0\"\n",
    "ad_level = 2\n",
    "downloader = GADMDownloader(version=gadm_version)\n",
    "gadm = downloader.get_shape_data_by_country_name(\n",
    "    country_name=country_name, ad_level=ad_level\n",
    ")"
   ]
  },
  {
   "cell_type": "code",
   "execution_count": null,
   "id": "49acb707-7f0c-408d-b3e2-f3a09096cdef",
   "metadata": {},
   "outputs": [],
   "source": [
    "gadm.head()"
   ]
  },
  {
   "cell_type": "markdown",
   "id": "49421c13-69ef-4acb-97b5-e9c8861e5c17",
   "metadata": {},
   "source": [
    "Our dataset contains the city/town level boundaries (L2 in GADM). Let's look at the dtype of one geom object."
   ]
  },
  {
   "cell_type": "code",
   "execution_count": null,
   "id": "5c7a8c03-6009-4d63-a20e-4831bed9b06f",
   "metadata": {},
   "outputs": [],
   "source": [
    "print(type(gadm.loc[0, \"geometry\"]))\n",
    "gadm.loc[0, \"geometry\"]"
   ]
  },
  {
   "cell_type": "markdown",
   "id": "71717aa3-ddc2-4f35-b78b-832c4eeee097",
   "metadata": {},
   "source": [
    "Like pandas, we can perform `.plot()` in geopandas. Let's look into the PH boundaries."
   ]
  },
  {
   "cell_type": "code",
   "execution_count": null,
   "id": "51b5ca85-5308-4080-9590-d94e36130abf",
   "metadata": {},
   "outputs": [],
   "source": [
    "fig, ax = plt.subplots(1, figsize=(7, 10))\n",
    "gadm.plot(ax=ax)\n",
    "ax.axis(\"off\");"
   ]
  },
  {
   "cell_type": "code",
   "execution_count": null,
   "id": "cbbd4dc9-b380-4902-a01d-289f879e374e",
   "metadata": {},
   "outputs": [],
   "source": [
    "is_metro_manila = gadm.NAME_1==\"Metropolitan Manila\"\n",
    "gadm_metro_manila = gadm.loc[is_metro_manila].reset_index()\n",
    "display(gadm_metro_manila)"
   ]
  },
  {
   "cell_type": "code",
   "execution_count": null,
   "id": "df22f6aa-f3d6-4f0a-9fdf-b6bc6027769b",
   "metadata": {},
   "outputs": [],
   "source": [
    "for idx, row in gadm_metro_manila.iterrows():\n",
    "    display(row.NAME_2)\n",
    "    display(row.geometry)"
   ]
  },
  {
   "cell_type": "markdown",
   "id": "b7086855-5cb2-4f8c-ac33-3b3bec61f7d0",
   "metadata": {},
   "source": [
    "### Q5: Which two towns in metro manila has the smallest and largest land mass, respectively?\n",
    "\n",
    "Show your solution."
   ]
  },
  {
   "cell_type": "code",
   "execution_count": null,
   "id": "d3327648-6362-48b1-b34d-461485d43086",
   "metadata": {
    "collapsed": true,
    "jupyter": {
     "outputs_hidden": true
    },
    "scrolled": true,
    "tags": []
   },
   "outputs": [],
   "source": [
    "gadm_metro_manila.iloc[[np.argmin(gadm_metro_manila.to_crs(3857).area)]]"
   ]
  },
  {
   "cell_type": "code",
   "execution_count": null,
   "id": "fd711e27-901f-476c-8980-1edaeb9ccf16",
   "metadata": {
    "collapsed": true,
    "jupyter": {
     "outputs_hidden": true
    },
    "tags": []
   },
   "outputs": [],
   "source": [
    "gadm_metro_manila.iloc[[np.argmax(gadm_metro_manila.to_crs(3857).area)]]"
   ]
  },
  {
   "cell_type": "markdown",
   "id": "0c2498a7-d40d-4cbd-b90d-f6641b94e5e3",
   "metadata": {},
   "source": [
    "### e. OSMNx and graphs\n",
    "\n",
    "This is a useful library for dealing with spatial graph network datasets. One good example of this is the street networks we see when travelling in land with a vehicle everyday. You can use this to model, analyze, and visualize street networks and other geospatial features from OSM. Let us walk thru an example."
   ]
  },
  {
   "cell_type": "code",
   "execution_count": null,
   "id": "a9657fc0-738b-491b-9802-689b9e070058",
   "metadata": {
    "tags": []
   },
   "outputs": [],
   "source": [
    "COORD_TGT = (14.553514, 121.050110) # the globe tower @ bonifacio global city, taguig\n",
    "COORD = COORD_TGT # you can replace this with any point within the region of interest\n",
    "NAME_PLACE = \"TGT\"\n",
    "G_drive = make_graph(origin=COORD, network_type=\"drive\")\n",
    "G_walk = make_graph(origin=COORD, network_type=\"walk\")\n",
    "G_bike = make_graph(origin=COORD, network_type=\"bike\")"
   ]
  },
  {
   "cell_type": "code",
   "execution_count": null,
   "id": "d2e1e35b-49b7-4019-b4b5-19865dc399e8",
   "metadata": {
    "tags": []
   },
   "outputs": [],
   "source": [
    "fig, ax = plt.subplots(1, 3, figsize=(30, 30))\n",
    "ox.plot_graph(G=G_drive, ax=ax[0], node_size=50, edge_linewidth=2, node_color=\"red\", bgcolor=\"white\", show=False, close=False)\n",
    "ox.plot_graph(G=G_bike, ax=ax[1], node_size=50, edge_linewidth=2, node_color=\"red\", bgcolor=\"white\", show=False, close=False)\n",
    "ox.plot_graph(G=G_walk, ax=ax[2], node_size=50, edge_linewidth=2, node_color=\"red\", bgcolor=\"white\", show=False, close=False)\n",
    "ax[0].set_title(f\"driving around {NAME_PLACE}?\\n\", fontsize=18)\n",
    "ax[1].set_title(f\"biking around {NAME_PLACE}?\\n\", fontsize=18)\n",
    "ax[2].set_title(f\"walking around {NAME_PLACE}?\\n\", fontsize=18)\n",
    "ax[0].scatter(*COORD[::-1], c=\"blue\", s=250)\n",
    "ax[1].scatter(*COORD[::-1], c=\"blue\", s=250)\n",
    "ax[2].scatter(*COORD[::-1], c=\"blue\", s=250);"
   ]
  },
  {
   "cell_type": "markdown",
   "id": "9cc655b2-7adb-4c35-aaab-377b4807a413",
   "metadata": {},
   "source": [
    "- Walkable networks are denser than the driving networks\n",
    "- Road networks like this can (and should) change over time"
   ]
  },
  {
   "cell_type": "markdown",
   "id": "7e357140-a4ff-4322-89d9-7890078bb7c4",
   "metadata": {},
   "source": [
    "`NOTES`\n",
    "\n",
    "These data representations isn't exclusive to Shapely, GeoPandas, and OSMNx. For instance, Snowflake (the data cloud company) has [its own](https://docs.snowflake.com/en/sql-reference/data-types-geospatial) geospatial data types and formats patterned to PostGIS. The more you work with SDS and understand its nuts and bolts, the more you realize that beyond these vast offerings of tools and software, there are common concepts and abstractions that needs to be mastered. Do yourself a favor and invest some time on the core concepts as well instead of purely memorizing the syntax of these modern tools."
   ]
  },
  {
   "cell_type": "markdown",
   "id": "25ea27de-72be-4d8c-b7fd-0e4f8563191c",
   "metadata": {},
   "source": [
    "### Q6: How large is each of the road networks displayed above?\n",
    "\n",
    "Hint: Look at all the properties/attributes of the three G's.\n",
    "\n",
    "- Answer for G_drive\n",
    "- Answer for G_bike\n",
    "- Answer for G_walk"
   ]
  },
  {
   "cell_type": "markdown",
   "id": "72404738-6d52-45eb-9c54-d59b457f9cae",
   "metadata": {},
   "source": [
    "## 5. Getting things done with **verbs**"
   ]
  },
  {
   "cell_type": "markdown",
   "id": "fec86f49-4484-4db9-a414-217b463645c1",
   "metadata": {},
   "source": [
    "### Buffering points and spatial matching"
   ]
  },
  {
   "cell_type": "markdown",
   "id": "eb3428d1-47b7-40c8-82cd-227ce26604fb",
   "metadata": {},
   "source": [
    "One of the common task in SDS is spatial matching. Say for example, you are given the task to find out **how many points of interest are within x kilometers from this origin point?**"
   ]
  },
  {
   "cell_type": "code",
   "execution_count": null,
   "id": "600aa020-8878-47bb-9f20-92500c575aee",
   "metadata": {},
   "outputs": [],
   "source": [
    "n = 40\n",
    "points = make_spatial_data(n)[0]\n",
    "\n",
    "fig, ax = plt.subplots(1, figsize=(7, 12))\n",
    "gs_points = gpd.GeoSeries(points)\n",
    "gs_points.plot(ax=ax, zorder=2, color=\"red\")\n",
    "mean_x = np.mean(list(map(lambda z: z.x, points)))\n",
    "mean_y = np.mean(list(map(lambda z: z.y, points)))\n",
    "mean_point = Point(mean_x, mean_y)\n",
    "mean_point_buffered = gpd.GeoSeries(mean_point).buffer(3e-1)\n",
    "bmask_within = [mean_point_buffered.contains(p)[0] for p in gs_points]\n",
    "mean_point_buffered.plot(ax=ax, alpha=0.5, zorder=1, color=\"green\")\n",
    "gs_points.loc[bmask_within].plot(ax=ax, zorder=3, color=\"blue\")\n",
    "ax.legend([\"outside\", \"inside\"]);"
   ]
  },
  {
   "cell_type": "markdown",
   "id": "0adc6e93-8619-4fab-9994-10b05d351e5b",
   "metadata": {},
   "source": [
    "### Q7: What if a rectangular buffer is needed? How many points will intersect above?\n",
    "\n",
    "Hint: Look at shapely's [docs](https://shapely.readthedocs.io/en/stable/manual.html) and find something called **cap_style**.\n",
    "\n",
    "- Answer for rectangular cap style"
   ]
  },
  {
   "cell_type": "markdown",
   "id": "eaa00ba6-74d7-4c45-91c7-88f5674ee6dc",
   "metadata": {},
   "source": [
    "### Identifying the shortest path bet two points"
   ]
  },
  {
   "cell_type": "code",
   "execution_count": null,
   "id": "541a3f15-6077-486a-8832-bbd9eeb62ebc",
   "metadata": {},
   "outputs": [],
   "source": [
    "COORD_UPT = (14.556714, 121.054081)\n",
    "orig_coord = COORD_TGT\n",
    "dest_coord = COORD_UPT\n",
    "\n",
    "orig_node = ox.distance.nearest_nodes(G_bike, *orig_coord[::-1])\n",
    "dest_node = ox.distance.nearest_nodes(G_bike, *dest_coord[::-1])\n",
    "route_od = ox.shortest_path(G_bike, orig_node, dest_node, weight=\"travel_time\")\n",
    "route_do = ox.shortest_path(G_bike, dest_node, orig_node, weight=\"travel_time\")"
   ]
  },
  {
   "cell_type": "code",
   "execution_count": null,
   "id": "48f9a4f7-4bec-4a62-8656-4116119e8284",
   "metadata": {
    "tags": []
   },
   "outputs": [],
   "source": [
    "fig, ax = plt.subplots(1, 1, figsize=(10, 10))\n",
    "ox.plot_graph(G=G_bike, ax=ax, node_size=50, edge_linewidth=2, node_color=\"red\", bgcolor=\"white\", show=False, close=False)\n",
    "gpd.GeoSeries(shapely.geometry.LineString(get_coord_sequence(G_bike, route_od))).plot(ax=ax, color=\"green\", linewidth=10)\n",
    "gpd.GeoSeries(shapely.geometry.LineString(get_coord_sequence(G_bike, route_do))).plot(ax=ax, color=\"blue\", linewidth=10)\n",
    "ax.scatter(*COORD_TGT[::-1], c=\"green\", s=200)\n",
    "ax.scatter(*COORD_UPT[::-1], c=\"blue\", s=200)\n",
    "ax.legend([\"__\", \"__\", \"O/D shortest path\", \"D/O shortest path\", \"origin\", \"dest\"], edgecolor=\"white\", loc=\"upper left\");"
   ]
  },
  {
   "cell_type": "markdown",
   "id": "4647483d-3f11-4bde-8d88-0d15ea5c8638",
   "metadata": {},
   "source": [
    "`NOTES`\n",
    "\n",
    "The shortest O-D path is not always the same D-O path in real-life! Most especially in driveable networks."
   ]
  },
  {
   "cell_type": "code",
   "execution_count": null,
   "id": "044ba91b-6481-4289-b7cc-f0c017351b7f",
   "metadata": {
    "tags": []
   },
   "outputs": [],
   "source": [
    "nodes_walk, edges_walk = ox.graph_to_gdfs(G_walk)\n",
    "print(f\"nodes_walk: {type(nodes_walk)}\\n\", f\"edges_walk: {type(nodes_walk)}\")"
   ]
  },
  {
   "cell_type": "code",
   "execution_count": null,
   "id": "c3768894-c470-467f-b1b5-3c3b57aa52b5",
   "metadata": {
    "tags": []
   },
   "outputs": [],
   "source": [
    "nodes_walk.head()"
   ]
  },
  {
   "cell_type": "code",
   "execution_count": null,
   "id": "3fbd8dc0-ac4d-436a-b67a-9454402c5be7",
   "metadata": {
    "tags": []
   },
   "outputs": [],
   "source": [
    "edges_walk.head()"
   ]
  },
  {
   "cell_type": "markdown",
   "id": "c994508e-0fee-4dd4-b3e1-4c3a81b88b26",
   "metadata": {
    "tags": []
   },
   "source": [
    "## 6. References [WIP]"
   ]
  },
  {
   "cell_type": "markdown",
   "id": "2a6b8516-b05f-43a1-a8c6-6be48adfda77",
   "metadata": {
    "tags": []
   },
   "source": [
    "1. https://carto.com/what-is-spatial-data-science"
   ]
  },
  {
   "cell_type": "markdown",
   "id": "fc2973f3-f147-4137-bda9-57ce49d330dd",
   "metadata": {},
   "source": [
    "### 7. TODO [WIP]"
   ]
  },
  {
   "cell_type": "markdown",
   "id": "b1565151-dfa5-443f-a10f-2dd19b087e95",
   "metadata": {},
   "source": [
    "1. Expound on the solution per mini quiz, like CRS conversion\n",
    "2. Explain the difference between pandas and geopandas"
   ]
  }
 ],
 "metadata": {
  "kernelspec": {
   "display_name": "Python 3 (ipykernel)",
   "language": "python",
   "name": "python3"
  },
  "language_info": {
   "codemirror_mode": {
    "name": "ipython",
    "version": 3
   },
   "file_extension": ".py",
   "mimetype": "text/x-python",
   "name": "python",
   "nbconvert_exporter": "python",
   "pygments_lexer": "ipython3",
   "version": "3.8.16"
  }
 },
 "nbformat": 4,
 "nbformat_minor": 5
}
