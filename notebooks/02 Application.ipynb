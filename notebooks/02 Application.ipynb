{
 "cells": [
  {
   "cell_type": "markdown",
   "id": "48e64794-94a8-4f20-9077-7d9927cea576",
   "metadata": {},
   "source": [
    "# Application: Creating a Telco Mobility Index\n",
    "\n",
    "1. Add total travel distance\n",
    "2. Add radius of gyration\n",
    "3. Add activity entropy"
   ]
  },
  {
   "cell_type": "code",
   "execution_count": null,
   "id": "32b982a1-8e9e-4fd8-953e-cb38dfe4df84",
   "metadata": {},
   "outputs": [],
   "source": [
    "# TESTING OF SUB DIAL\n",
    "d = fake_transactions.copy()\n",
    "sample_sub = d.sample(1).sub_id.item()\n",
    "d = d.loc[d.sub_id==sample_sub]\n",
    "days = d.transaction_dt.unique().tolist()\n",
    "route_figs = []\n",
    "for sample_day in days:\n",
    "    sites = fake_transactions\\\n",
    "        .loc[fake_transactions.sub_id==sample_sub]\\\n",
    "        .loc[fake_transactions.transaction_dt==sample_day]\\\n",
    "        .cel_id.tolist()\n",
    "    points = list(map(lambda z: convert_cel_to_point(z, fake_cellsites), sites))\n",
    "    r = shapely.geometry.LineString(points)\n",
    "    route_figs.append(get_route_fig(r))\n",
    "for idx, fig in enumerate(route_figs):\n",
    "    fname = \"sample/{}_tmp.jpg\".format(idx+1)\n",
    "    fig.savefig(fname)\n",
    "imgs = load_images(\"sample\")\n",
    "plot_images(imgs)"
   ]
  }
 ],
 "metadata": {
  "kernelspec": {
   "display_name": "Python 3 (ipykernel)",
   "language": "python",
   "name": "python3"
  },
  "language_info": {
   "codemirror_mode": {
    "name": "ipython",
    "version": 3
   },
   "file_extension": ".py",
   "mimetype": "text/x-python",
   "name": "python",
   "nbconvert_exporter": "python",
   "pygments_lexer": "ipython3",
   "version": "3.8.16"
  }
 },
 "nbformat": 4,
 "nbformat_minor": 5
}
