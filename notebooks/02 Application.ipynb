{
 "cells": [
  {
   "cell_type": "markdown",
   "id": "48e64794-94a8-4f20-9077-7d9927cea576",
   "metadata": {},
   "source": [
    "# Application: Creating a Telco Mobility Index\n",
    "\n",
    "1. Total travel distance\n",
    "2. Radius of gyration\n",
    "3. Activity entropy"
   ]
  },
  {
   "cell_type": "code",
   "execution_count": 1,
   "id": "07555507-e170-49ed-bd04-344f6280fcc6",
   "metadata": {},
   "outputs": [],
   "source": [
    "import os\n",
    "os.chdir(\"../\")\n",
    "\n",
    "import warnings\n",
    "warnings.filterwarnings(\"ignore\")"
   ]
  },
  {
   "cell_type": "code",
   "execution_count": 2,
   "id": "32b982a1-8e9e-4fd8-953e-cb38dfe4df84",
   "metadata": {},
   "outputs": [],
   "source": [
    "import random\n",
    "import shapely\n",
    "import pendulum\n",
    "import numpy as np\n",
    "import pandas as pd\n",
    "pd.options.display.max_rows=200\n",
    "import geopandas as gpd\n",
    "import matplotlib.pyplot as plt\n",
    "from sds4gdsp.processor import convert_cel_to_point, calc_haversine_distance\n",
    "from sds4gdsp.plotter import get_route_fig, load_images, plot_images\n",
    "from IPython.display import HTML, display\n",
    "from functools import reduce"
   ]
  },
  {
   "cell_type": "markdown",
   "id": "ae64ef51-ab62-4b1a-98a7-cad554bd8c3f",
   "metadata": {},
   "source": [
    "Load, take a peek, and get a gist of the given datasets\n",
    "\n",
    "a. Fake Subscribers <br>\n",
    "b. Fake Cellsites <br>\n",
    "c. Fake Transactions"
   ]
  },
  {
   "cell_type": "code",
   "execution_count": 3,
   "id": "dae54e5e-f526-414b-b94f-ccccbc4fc1aa",
   "metadata": {
    "tags": []
   },
   "outputs": [
    {
     "data": {
      "text/html": [
       "<div>\n",
       "<style scoped>\n",
       "    .dataframe tbody tr th:only-of-type {\n",
       "        vertical-align: middle;\n",
       "    }\n",
       "\n",
       "    .dataframe tbody tr th {\n",
       "        vertical-align: top;\n",
       "    }\n",
       "\n",
       "    .dataframe thead th {\n",
       "        text-align: right;\n",
       "    }\n",
       "</style>\n",
       "<table border=\"1\" class=\"dataframe\">\n",
       "  <thead>\n",
       "    <tr style=\"text-align: right;\">\n",
       "      <th></th>\n",
       "      <th>sub_uid</th>\n",
       "      <th>gender</th>\n",
       "      <th>age</th>\n",
       "      <th>name</th>\n",
       "      <th>chi_indicator</th>\n",
       "      <th>ewallet_user_indicator</th>\n",
       "    </tr>\n",
       "  </thead>\n",
       "  <tbody>\n",
       "    <tr>\n",
       "      <th>10</th>\n",
       "      <td>glo-sub-011</td>\n",
       "      <td>male</td>\n",
       "      <td>42</td>\n",
       "      <td>David Rich</td>\n",
       "      <td>True</td>\n",
       "      <td>Y</td>\n",
       "    </tr>\n",
       "    <tr>\n",
       "      <th>113</th>\n",
       "      <td>glo-sub-114</td>\n",
       "      <td>male</td>\n",
       "      <td>47</td>\n",
       "      <td>Derek Davis</td>\n",
       "      <td>True</td>\n",
       "      <td>Y</td>\n",
       "    </tr>\n",
       "    <tr>\n",
       "      <th>76</th>\n",
       "      <td>glo-sub-077</td>\n",
       "      <td>female</td>\n",
       "      <td>58</td>\n",
       "      <td>Sarah Larson</td>\n",
       "      <td>False</td>\n",
       "      <td>Y</td>\n",
       "    </tr>\n",
       "    <tr>\n",
       "      <th>198</th>\n",
       "      <td>glo-sub-199</td>\n",
       "      <td>male</td>\n",
       "      <td>61</td>\n",
       "      <td>David Butler</td>\n",
       "      <td>True</td>\n",
       "      <td>N</td>\n",
       "    </tr>\n",
       "    <tr>\n",
       "      <th>75</th>\n",
       "      <td>glo-sub-076</td>\n",
       "      <td>male</td>\n",
       "      <td>46</td>\n",
       "      <td>Steven Mann</td>\n",
       "      <td>False</td>\n",
       "      <td>N</td>\n",
       "    </tr>\n",
       "  </tbody>\n",
       "</table>\n",
       "</div>"
      ],
      "text/plain": [
       "         sub_uid  gender  age          name  chi_indicator  \\\n",
       "10   glo-sub-011    male   42    David Rich           True   \n",
       "113  glo-sub-114    male   47   Derek Davis           True   \n",
       "76   glo-sub-077  female   58  Sarah Larson          False   \n",
       "198  glo-sub-199    male   61  David Butler           True   \n",
       "75   glo-sub-076    male   46   Steven Mann          False   \n",
       "\n",
       "    ewallet_user_indicator  \n",
       "10                       Y  \n",
       "113                      Y  \n",
       "76                       Y  \n",
       "198                      N  \n",
       "75                       N  "
      ]
     },
     "execution_count": 3,
     "metadata": {},
     "output_type": "execute_result"
    }
   ],
   "source": [
    "filepath_subscribers = \"data/fake_subscribers.csv\"\n",
    "dtype = dict(\n",
    "    gender=\"category\",\n",
    "    age=int,\n",
    "    name=str,\n",
    "    chi_indicator=bool,\n",
    "    ewallet_user_indicator=\"category\"\n",
    ")\n",
    "fake_subscribers = pd.read_csv(filepath_subscribers, dtype=dtype)\n",
    "fake_subscribers.sample(5)"
   ]
  },
  {
   "cell_type": "code",
   "execution_count": 4,
   "id": "85867b4c-6641-4e41-b9ba-8b96a0477b45",
   "metadata": {},
   "outputs": [
    {
     "data": {
      "text/plain": [
       "(200, 6)"
      ]
     },
     "execution_count": 4,
     "metadata": {},
     "output_type": "execute_result"
    }
   ],
   "source": [
    "fake_subscribers.shape"
   ]
  },
  {
   "cell_type": "code",
   "execution_count": 5,
   "id": "db806cc6-7daa-4bb5-8934-94130bbd27c8",
   "metadata": {},
   "outputs": [
    {
     "data": {
      "text/html": [
       "<div>\n",
       "<style scoped>\n",
       "    .dataframe tbody tr th:only-of-type {\n",
       "        vertical-align: middle;\n",
       "    }\n",
       "\n",
       "    .dataframe tbody tr th {\n",
       "        vertical-align: top;\n",
       "    }\n",
       "\n",
       "    .dataframe thead th {\n",
       "        text-align: right;\n",
       "    }\n",
       "</style>\n",
       "<table border=\"1\" class=\"dataframe\">\n",
       "  <thead>\n",
       "    <tr style=\"text-align: right;\">\n",
       "      <th></th>\n",
       "      <th>gender</th>\n",
       "      <th>chi_indicator</th>\n",
       "      <th>ewallet_user_indicator</th>\n",
       "      <th>cnt</th>\n",
       "      <th>pcnt</th>\n",
       "    </tr>\n",
       "  </thead>\n",
       "  <tbody>\n",
       "    <tr>\n",
       "      <th>0</th>\n",
       "      <td>female</td>\n",
       "      <td>False</td>\n",
       "      <td>N</td>\n",
       "      <td>27</td>\n",
       "      <td>13.5</td>\n",
       "    </tr>\n",
       "    <tr>\n",
       "      <th>1</th>\n",
       "      <td>female</td>\n",
       "      <td>False</td>\n",
       "      <td>Y</td>\n",
       "      <td>24</td>\n",
       "      <td>12.0</td>\n",
       "    </tr>\n",
       "    <tr>\n",
       "      <th>2</th>\n",
       "      <td>female</td>\n",
       "      <td>True</td>\n",
       "      <td>N</td>\n",
       "      <td>23</td>\n",
       "      <td>11.5</td>\n",
       "    </tr>\n",
       "    <tr>\n",
       "      <th>3</th>\n",
       "      <td>female</td>\n",
       "      <td>True</td>\n",
       "      <td>Y</td>\n",
       "      <td>33</td>\n",
       "      <td>16.5</td>\n",
       "    </tr>\n",
       "    <tr>\n",
       "      <th>4</th>\n",
       "      <td>male</td>\n",
       "      <td>False</td>\n",
       "      <td>N</td>\n",
       "      <td>22</td>\n",
       "      <td>11.0</td>\n",
       "    </tr>\n",
       "    <tr>\n",
       "      <th>5</th>\n",
       "      <td>male</td>\n",
       "      <td>False</td>\n",
       "      <td>Y</td>\n",
       "      <td>29</td>\n",
       "      <td>14.5</td>\n",
       "    </tr>\n",
       "    <tr>\n",
       "      <th>6</th>\n",
       "      <td>male</td>\n",
       "      <td>True</td>\n",
       "      <td>N</td>\n",
       "      <td>25</td>\n",
       "      <td>12.5</td>\n",
       "    </tr>\n",
       "    <tr>\n",
       "      <th>7</th>\n",
       "      <td>male</td>\n",
       "      <td>True</td>\n",
       "      <td>Y</td>\n",
       "      <td>17</td>\n",
       "      <td>8.5</td>\n",
       "    </tr>\n",
       "  </tbody>\n",
       "</table>\n",
       "</div>"
      ],
      "text/plain": [
       "   gender  chi_indicator ewallet_user_indicator  cnt  pcnt\n",
       "0  female          False                      N   27  13.5\n",
       "1  female          False                      Y   24  12.0\n",
       "2  female           True                      N   23  11.5\n",
       "3  female           True                      Y   33  16.5\n",
       "4    male          False                      N   22  11.0\n",
       "5    male          False                      Y   29  14.5\n",
       "6    male           True                      N   25  12.5\n",
       "7    male           True                      Y   17   8.5"
      ]
     },
     "execution_count": 5,
     "metadata": {},
     "output_type": "execute_result"
    }
   ],
   "source": [
    "cat_cols = [\"gender\", \"chi_indicator\", \"ewallet_user_indicator\"]\n",
    "fs_breakdown = fake_subscribers.groupby(cat_cols).size().reset_index(name=\"cnt\")\n",
    "fs_breakdown.assign(pcnt=fs_breakdown.cnt.div(len(fake_subscribers)).mul(100).round(2))"
   ]
  },
  {
   "cell_type": "code",
   "execution_count": 6,
   "id": "976ed413-2d54-4e9c-924f-3794c869bea4",
   "metadata": {
    "tags": []
   },
   "outputs": [
    {
     "data": {
      "text/html": [
       "<div>\n",
       "<style scoped>\n",
       "    .dataframe tbody tr th:only-of-type {\n",
       "        vertical-align: middle;\n",
       "    }\n",
       "\n",
       "    .dataframe tbody tr th {\n",
       "        vertical-align: top;\n",
       "    }\n",
       "\n",
       "    .dataframe thead th {\n",
       "        text-align: right;\n",
       "    }\n",
       "</style>\n",
       "<table border=\"1\" class=\"dataframe\">\n",
       "  <thead>\n",
       "    <tr style=\"text-align: right;\">\n",
       "      <th></th>\n",
       "      <th>cel_uid</th>\n",
       "      <th>coords</th>\n",
       "    </tr>\n",
       "  </thead>\n",
       "  <tbody>\n",
       "    <tr>\n",
       "      <th>29</th>\n",
       "      <td>glo-cel-030</td>\n",
       "      <td>POINT (121.0493484 14.5234169)</td>\n",
       "    </tr>\n",
       "    <tr>\n",
       "      <th>90</th>\n",
       "      <td>glo-cel-091</td>\n",
       "      <td>POINT (121.0778367 14.5185647)</td>\n",
       "    </tr>\n",
       "    <tr>\n",
       "      <th>60</th>\n",
       "      <td>glo-cel-061</td>\n",
       "      <td>POINT (121.0609937 14.515681)</td>\n",
       "    </tr>\n",
       "    <tr>\n",
       "      <th>74</th>\n",
       "      <td>glo-cel-075</td>\n",
       "      <td>POINT (121.0683106 14.5054757)</td>\n",
       "    </tr>\n",
       "    <tr>\n",
       "      <th>54</th>\n",
       "      <td>glo-cel-055</td>\n",
       "      <td>POINT (121.0590322 14.4964165)</td>\n",
       "    </tr>\n",
       "  </tbody>\n",
       "</table>\n",
       "</div>"
      ],
      "text/plain": [
       "        cel_uid                          coords\n",
       "29  glo-cel-030  POINT (121.0493484 14.5234169)\n",
       "90  glo-cel-091  POINT (121.0778367 14.5185647)\n",
       "60  glo-cel-061   POINT (121.0609937 14.515681)\n",
       "74  glo-cel-075  POINT (121.0683106 14.5054757)\n",
       "54  glo-cel-055  POINT (121.0590322 14.4964165)"
      ]
     },
     "execution_count": 6,
     "metadata": {},
     "output_type": "execute_result"
    }
   ],
   "source": [
    "filepath_cellsites = \"data/fake_cellsites.csv\"\n",
    "fake_cellsites = pd.read_csv(filepath_cellsites)\n",
    "fake_cellsites.sample(5)"
   ]
  },
  {
   "cell_type": "code",
   "execution_count": 7,
   "id": "8af95fe1-d862-4d12-873f-7bf39014b571",
   "metadata": {},
   "outputs": [
    {
     "data": {
      "text/plain": [
       "(111, 2)"
      ]
     },
     "execution_count": 7,
     "metadata": {},
     "output_type": "execute_result"
    }
   ],
   "source": [
    "fake_cellsites.shape"
   ]
  },
  {
   "cell_type": "code",
   "execution_count": 8,
   "id": "3d8cb418-3ea5-45bd-964d-6d50b8eb7681",
   "metadata": {},
   "outputs": [
    {
     "data": {
      "text/html": [
       "<img src=\"../docs/fake_cellsites.png\" width=\"600\" height=\"600\"/>"
      ],
      "text/plain": [
       "<IPython.core.display.HTML object>"
      ]
     },
     "execution_count": 8,
     "metadata": {},
     "output_type": "execute_result"
    }
   ],
   "source": [
    "HTML('<img src=\"../docs/fake_cellsites.png\" width=\"600\" height=\"600\"/>')"
   ]
  },
  {
   "cell_type": "code",
   "execution_count": 9,
   "id": "c380abfe-6354-4d3a-9585-db9b09290dd2",
   "metadata": {
    "tags": []
   },
   "outputs": [],
   "source": [
    "filepath_transactions = \"data/fake_transactions.csv\"\n",
    "fake_transactions = pd.read_csv(filepath_transactions)"
   ]
  },
  {
   "cell_type": "code",
   "execution_count": 10,
   "id": "7012c326-7d7e-4b03-a08e-9e4831de1e40",
   "metadata": {},
   "outputs": [
    {
     "data": {
      "text/plain": [
       "(65766, 5)"
      ]
     },
     "execution_count": 10,
     "metadata": {},
     "output_type": "execute_result"
    }
   ],
   "source": [
    "fake_transactions.shape"
   ]
  },
  {
   "cell_type": "code",
   "execution_count": 11,
   "id": "c634c960-3b85-4585-9cb6-390d7e8b25d0",
   "metadata": {
    "tags": []
   },
   "outputs": [],
   "source": [
    "min_date = pendulum.parse(fake_transactions.transaction_dt.min(), exact=True)\n",
    "max_date = pendulum.parse(fake_transactions.transaction_dt.max(), exact=True)\n",
    "period = pendulum.period(min_date, max_date)"
   ]
  },
  {
   "cell_type": "code",
   "execution_count": 12,
   "id": "268d2a95-102e-4cd5-884a-8a2f200a0cb8",
   "metadata": {
    "tags": []
   },
   "outputs": [
    {
     "data": {
      "text/html": [
       "<div>\n",
       "<style scoped>\n",
       "    .dataframe tbody tr th:only-of-type {\n",
       "        vertical-align: middle;\n",
       "    }\n",
       "\n",
       "    .dataframe tbody tr th {\n",
       "        vertical-align: top;\n",
       "    }\n",
       "\n",
       "    .dataframe thead th {\n",
       "        text-align: right;\n",
       "    }\n",
       "</style>\n",
       "<table border=\"1\" class=\"dataframe\">\n",
       "  <thead>\n",
       "    <tr style=\"text-align: right;\">\n",
       "      <th></th>\n",
       "      <th>txn_uid</th>\n",
       "      <th>sub_uid</th>\n",
       "      <th>cel_uid</th>\n",
       "      <th>transaction_dt</th>\n",
       "      <th>transaction_hr</th>\n",
       "    </tr>\n",
       "  </thead>\n",
       "  <tbody>\n",
       "    <tr>\n",
       "      <th>24317</th>\n",
       "      <td>glo-txn-24318</td>\n",
       "      <td>glo-sub-142</td>\n",
       "      <td>glo-cel-026</td>\n",
       "      <td>2023-06-16</td>\n",
       "      <td>3</td>\n",
       "    </tr>\n",
       "    <tr>\n",
       "      <th>24318</th>\n",
       "      <td>glo-txn-24319</td>\n",
       "      <td>glo-sub-142</td>\n",
       "      <td>glo-cel-031</td>\n",
       "      <td>2023-06-16</td>\n",
       "      <td>4</td>\n",
       "    </tr>\n",
       "    <tr>\n",
       "      <th>24319</th>\n",
       "      <td>glo-txn-24320</td>\n",
       "      <td>glo-sub-142</td>\n",
       "      <td>glo-cel-026</td>\n",
       "      <td>2023-06-16</td>\n",
       "      <td>5</td>\n",
       "    </tr>\n",
       "    <tr>\n",
       "      <th>24320</th>\n",
       "      <td>glo-txn-24321</td>\n",
       "      <td>glo-sub-142</td>\n",
       "      <td>glo-cel-033</td>\n",
       "      <td>2023-06-16</td>\n",
       "      <td>6</td>\n",
       "    </tr>\n",
       "    <tr>\n",
       "      <th>24321</th>\n",
       "      <td>glo-txn-24322</td>\n",
       "      <td>glo-sub-142</td>\n",
       "      <td>glo-cel-031</td>\n",
       "      <td>2023-06-16</td>\n",
       "      <td>9</td>\n",
       "    </tr>\n",
       "    <tr>\n",
       "      <th>24322</th>\n",
       "      <td>glo-txn-24323</td>\n",
       "      <td>glo-sub-142</td>\n",
       "      <td>glo-cel-033</td>\n",
       "      <td>2023-06-16</td>\n",
       "      <td>10</td>\n",
       "    </tr>\n",
       "    <tr>\n",
       "      <th>24323</th>\n",
       "      <td>glo-txn-24324</td>\n",
       "      <td>glo-sub-142</td>\n",
       "      <td>glo-cel-028</td>\n",
       "      <td>2023-06-16</td>\n",
       "      <td>11</td>\n",
       "    </tr>\n",
       "    <tr>\n",
       "      <th>24324</th>\n",
       "      <td>glo-txn-24325</td>\n",
       "      <td>glo-sub-142</td>\n",
       "      <td>glo-cel-033</td>\n",
       "      <td>2023-06-16</td>\n",
       "      <td>13</td>\n",
       "    </tr>\n",
       "    <tr>\n",
       "      <th>24325</th>\n",
       "      <td>glo-txn-24326</td>\n",
       "      <td>glo-sub-142</td>\n",
       "      <td>glo-cel-028</td>\n",
       "      <td>2023-06-16</td>\n",
       "      <td>17</td>\n",
       "    </tr>\n",
       "    <tr>\n",
       "      <th>24326</th>\n",
       "      <td>glo-txn-24327</td>\n",
       "      <td>glo-sub-142</td>\n",
       "      <td>glo-cel-026</td>\n",
       "      <td>2023-06-16</td>\n",
       "      <td>19</td>\n",
       "    </tr>\n",
       "    <tr>\n",
       "      <th>24327</th>\n",
       "      <td>glo-txn-24328</td>\n",
       "      <td>glo-sub-142</td>\n",
       "      <td>glo-cel-031</td>\n",
       "      <td>2023-06-16</td>\n",
       "      <td>21</td>\n",
       "    </tr>\n",
       "    <tr>\n",
       "      <th>24328</th>\n",
       "      <td>glo-txn-24329</td>\n",
       "      <td>glo-sub-142</td>\n",
       "      <td>glo-cel-033</td>\n",
       "      <td>2023-06-16</td>\n",
       "      <td>22</td>\n",
       "    </tr>\n",
       "    <tr>\n",
       "      <th>24329</th>\n",
       "      <td>glo-txn-24330</td>\n",
       "      <td>glo-sub-142</td>\n",
       "      <td>glo-cel-026</td>\n",
       "      <td>2023-06-16</td>\n",
       "      <td>23</td>\n",
       "    </tr>\n",
       "  </tbody>\n",
       "</table>\n",
       "</div>"
      ],
      "text/plain": [
       "             txn_uid      sub_uid      cel_uid transaction_dt  transaction_hr\n",
       "24317  glo-txn-24318  glo-sub-142  glo-cel-026     2023-06-16               3\n",
       "24318  glo-txn-24319  glo-sub-142  glo-cel-031     2023-06-16               4\n",
       "24319  glo-txn-24320  glo-sub-142  glo-cel-026     2023-06-16               5\n",
       "24320  glo-txn-24321  glo-sub-142  glo-cel-033     2023-06-16               6\n",
       "24321  glo-txn-24322  glo-sub-142  glo-cel-031     2023-06-16               9\n",
       "24322  glo-txn-24323  glo-sub-142  glo-cel-033     2023-06-16              10\n",
       "24323  glo-txn-24324  glo-sub-142  glo-cel-028     2023-06-16              11\n",
       "24324  glo-txn-24325  glo-sub-142  glo-cel-033     2023-06-16              13\n",
       "24325  glo-txn-24326  glo-sub-142  glo-cel-028     2023-06-16              17\n",
       "24326  glo-txn-24327  glo-sub-142  glo-cel-026     2023-06-16              19\n",
       "24327  glo-txn-24328  glo-sub-142  glo-cel-031     2023-06-16              21\n",
       "24328  glo-txn-24329  glo-sub-142  glo-cel-033     2023-06-16              22\n",
       "24329  glo-txn-24330  glo-sub-142  glo-cel-026     2023-06-16              23"
      ]
     },
     "execution_count": 12,
     "metadata": {},
     "output_type": "execute_result"
    }
   ],
   "source": [
    "sample_dt = str(random.sample(list(period), 1)[0])\n",
    "filter_dt = fake_transactions.transaction_dt == sample_dt\n",
    "sample_sub = fake_subscribers.sub_uid.sample(1).item()\n",
    "filter_sub = fake_transactions.sub_uid == sample_sub\n",
    "fake_transactions.loc[filter_sub&filter_dt]"
   ]
  },
  {
   "cell_type": "markdown",
   "id": "a60cc41a-6a8f-4e73-9ec5-0143a00eb791",
   "metadata": {},
   "source": [
    "Create a helper function to help fetch subscriber trajectory"
   ]
  },
  {
   "cell_type": "code",
   "execution_count": 13,
   "id": "0d04b7e3-4c08-4414-a063-8ed7ad108256",
   "metadata": {},
   "outputs": [],
   "source": [
    "def get_sub_traj(\n",
    "    sub: str,\n",
    "    date: str,\n",
    "    window: str,\n",
    "    transactions: pd.DataFrame,\n",
    "    cellsites: pd.DataFrame\n",
    "):\n",
    "    if window==\"month\":\n",
    "        date_filter = transactions.transaction_dt.apply(lambda d: pendulum.parse(d, exact=True).start_of(\"month\").to_date_string())==date\n",
    "    elif window==\"day\":\n",
    "        date_filter = transactions.transaction_dt==date\n",
    "    sub_filter = transactions.sub_uid==sub\n",
    "    transactions_red = transactions.loc[sub_filter&date_filter]\n",
    "    transactions_red = transactions_red.merge(cellsites, on=\"cel_uid\")\n",
    "    return transactions_red.sort_values(by=[\"transaction_dt\", \"transaction_hr\"], ascending=[1, 1]).reset_index(drop=True)\n",
    "\n",
    "def fetch_sample_trajs(scoring_base, metric, date, window, fake_transactions, fake_cellsites):\n",
    "    scoring_base.sort_values(by=metric, ascending=True, inplace=True)\n",
    "    scoring_base.reset_index(drop=True, inplace=True)\n",
    "    sample_sub_low = scoring_base.loc[0, \"sub_uid\"]\n",
    "    sample_sub_mid = scoring_base.loc[len(scoring_base)//2, \"sub_uid\"]\n",
    "    sample_sub_high = scoring_base.loc[len(scoring_base)-1, \"sub_uid\"]\n",
    "    sample_traj_low = get_sub_traj(sample_sub_low, date, window, fake_transactions, fake_cellsites)\n",
    "    sample_traj_mid = get_sub_traj(sample_sub_mid, date, window, fake_transactions, fake_cellsites)\n",
    "    sample_traj_high = get_sub_traj(sample_sub_high, date, window, fake_transactions, fake_cellsites)\n",
    "    return sample_traj_low, sample_traj_mid, sample_traj_high"
   ]
  },
  {
   "cell_type": "code",
   "execution_count": 14,
   "id": "3aab204b-5d1e-441f-a04f-9b75422870dc",
   "metadata": {},
   "outputs": [
    {
     "data": {
      "text/html": [
       "<div>\n",
       "<style scoped>\n",
       "    .dataframe tbody tr th:only-of-type {\n",
       "        vertical-align: middle;\n",
       "    }\n",
       "\n",
       "    .dataframe tbody tr th {\n",
       "        vertical-align: top;\n",
       "    }\n",
       "\n",
       "    .dataframe thead th {\n",
       "        text-align: right;\n",
       "    }\n",
       "</style>\n",
       "<table border=\"1\" class=\"dataframe\">\n",
       "  <thead>\n",
       "    <tr style=\"text-align: right;\">\n",
       "      <th></th>\n",
       "      <th>txn_uid</th>\n",
       "      <th>sub_uid</th>\n",
       "      <th>cel_uid</th>\n",
       "      <th>transaction_dt</th>\n",
       "      <th>transaction_hr</th>\n",
       "      <th>coords</th>\n",
       "    </tr>\n",
       "  </thead>\n",
       "  <tbody>\n",
       "    <tr>\n",
       "      <th>0</th>\n",
       "      <td>glo-txn-10362</td>\n",
       "      <td>glo-sub-001</td>\n",
       "      <td>glo-cel-009</td>\n",
       "      <td>2023-06-01</td>\n",
       "      <td>6</td>\n",
       "      <td>POINT (121.0347379 14.5119065)</td>\n",
       "    </tr>\n",
       "    <tr>\n",
       "      <th>1</th>\n",
       "      <td>glo-txn-10363</td>\n",
       "      <td>glo-sub-001</td>\n",
       "      <td>glo-cel-013</td>\n",
       "      <td>2023-06-01</td>\n",
       "      <td>7</td>\n",
       "      <td>POINT (121.04006 14.5105057)</td>\n",
       "    </tr>\n",
       "    <tr>\n",
       "      <th>2</th>\n",
       "      <td>glo-txn-10364</td>\n",
       "      <td>glo-sub-001</td>\n",
       "      <td>glo-cel-012</td>\n",
       "      <td>2023-06-01</td>\n",
       "      <td>8</td>\n",
       "      <td>POINT (121.0395857 14.5055214)</td>\n",
       "    </tr>\n",
       "    <tr>\n",
       "      <th>3</th>\n",
       "      <td>glo-txn-10365</td>\n",
       "      <td>glo-sub-001</td>\n",
       "      <td>glo-cel-010</td>\n",
       "      <td>2023-06-01</td>\n",
       "      <td>9</td>\n",
       "      <td>POINT (121.0364372 14.5051236)</td>\n",
       "    </tr>\n",
       "    <tr>\n",
       "      <th>4</th>\n",
       "      <td>glo-txn-10366</td>\n",
       "      <td>glo-sub-001</td>\n",
       "      <td>glo-cel-013</td>\n",
       "      <td>2023-06-01</td>\n",
       "      <td>13</td>\n",
       "      <td>POINT (121.04006 14.5105057)</td>\n",
       "    </tr>\n",
       "    <tr>\n",
       "      <th>...</th>\n",
       "      <td>...</td>\n",
       "      <td>...</td>\n",
       "      <td>...</td>\n",
       "      <td>...</td>\n",
       "      <td>...</td>\n",
       "      <td>...</td>\n",
       "    </tr>\n",
       "    <tr>\n",
       "      <th>222</th>\n",
       "      <td>glo-txn-10584</td>\n",
       "      <td>glo-sub-001</td>\n",
       "      <td>glo-cel-103</td>\n",
       "      <td>2023-06-30</td>\n",
       "      <td>16</td>\n",
       "      <td>POINT (121.0843146 14.5417498)</td>\n",
       "    </tr>\n",
       "    <tr>\n",
       "      <th>223</th>\n",
       "      <td>glo-txn-10585</td>\n",
       "      <td>glo-sub-001</td>\n",
       "      <td>glo-cel-106</td>\n",
       "      <td>2023-06-30</td>\n",
       "      <td>17</td>\n",
       "      <td>POINT (121.0885482 14.5413748)</td>\n",
       "    </tr>\n",
       "    <tr>\n",
       "      <th>224</th>\n",
       "      <td>glo-txn-10586</td>\n",
       "      <td>glo-sub-001</td>\n",
       "      <td>glo-cel-107</td>\n",
       "      <td>2023-06-30</td>\n",
       "      <td>20</td>\n",
       "      <td>POINT (121.0897214 14.5382141)</td>\n",
       "    </tr>\n",
       "    <tr>\n",
       "      <th>225</th>\n",
       "      <td>glo-txn-10587</td>\n",
       "      <td>glo-sub-001</td>\n",
       "      <td>glo-cel-100</td>\n",
       "      <td>2023-06-30</td>\n",
       "      <td>22</td>\n",
       "      <td>POINT (121.0821408 14.5359371)</td>\n",
       "    </tr>\n",
       "    <tr>\n",
       "      <th>226</th>\n",
       "      <td>glo-txn-10588</td>\n",
       "      <td>glo-sub-001</td>\n",
       "      <td>glo-cel-103</td>\n",
       "      <td>2023-06-30</td>\n",
       "      <td>23</td>\n",
       "      <td>POINT (121.0843146 14.5417498)</td>\n",
       "    </tr>\n",
       "  </tbody>\n",
       "</table>\n",
       "<p>227 rows × 6 columns</p>\n",
       "</div>"
      ],
      "text/plain": [
       "           txn_uid      sub_uid      cel_uid transaction_dt  transaction_hr  \\\n",
       "0    glo-txn-10362  glo-sub-001  glo-cel-009     2023-06-01               6   \n",
       "1    glo-txn-10363  glo-sub-001  glo-cel-013     2023-06-01               7   \n",
       "2    glo-txn-10364  glo-sub-001  glo-cel-012     2023-06-01               8   \n",
       "3    glo-txn-10365  glo-sub-001  glo-cel-010     2023-06-01               9   \n",
       "4    glo-txn-10366  glo-sub-001  glo-cel-013     2023-06-01              13   \n",
       "..             ...          ...          ...            ...             ...   \n",
       "222  glo-txn-10584  glo-sub-001  glo-cel-103     2023-06-30              16   \n",
       "223  glo-txn-10585  glo-sub-001  glo-cel-106     2023-06-30              17   \n",
       "224  glo-txn-10586  glo-sub-001  glo-cel-107     2023-06-30              20   \n",
       "225  glo-txn-10587  glo-sub-001  glo-cel-100     2023-06-30              22   \n",
       "226  glo-txn-10588  glo-sub-001  glo-cel-103     2023-06-30              23   \n",
       "\n",
       "                             coords  \n",
       "0    POINT (121.0347379 14.5119065)  \n",
       "1      POINT (121.04006 14.5105057)  \n",
       "2    POINT (121.0395857 14.5055214)  \n",
       "3    POINT (121.0364372 14.5051236)  \n",
       "4      POINT (121.04006 14.5105057)  \n",
       "..                              ...  \n",
       "222  POINT (121.0843146 14.5417498)  \n",
       "223  POINT (121.0885482 14.5413748)  \n",
       "224  POINT (121.0897214 14.5382141)  \n",
       "225  POINT (121.0821408 14.5359371)  \n",
       "226  POINT (121.0843146 14.5417498)  \n",
       "\n",
       "[227 rows x 6 columns]"
      ]
     },
     "execution_count": 14,
     "metadata": {},
     "output_type": "execute_result"
    }
   ],
   "source": [
    "get_sub_traj(\"glo-sub-001\", \"2023-06-01\", \"month\", fake_transactions, fake_cellsites)"
   ]
  },
  {
   "cell_type": "markdown",
   "id": "3f43fccf-7fe5-4560-9389-445c95a28efc",
   "metadata": {},
   "source": [
    "We'll use this scoring base moving forward"
   ]
  },
  {
   "cell_type": "code",
   "execution_count": 15,
   "id": "a1f1aa24-3f7c-4446-95b5-cf4b060a285c",
   "metadata": {},
   "outputs": [],
   "source": [
    "scoring_base = fake_subscribers.copy()"
   ]
  },
  {
   "cell_type": "code",
   "execution_count": 16,
   "id": "c69a84d4-27be-42d5-8582-e7bdda7eba28",
   "metadata": {
    "tags": []
   },
   "outputs": [],
   "source": [
    "# for uniformity\n",
    "date = \"2023-06-01\"\n",
    "window = \"month\""
   ]
  },
  {
   "cell_type": "markdown",
   "id": "af1e8cbb-64aa-4e69-addc-9965eb34e625",
   "metadata": {},
   "source": [
    "## 1: Total Travel Distance\n",
    "\n",
    "Pseudocode\n",
    "\n",
    "a. Get chronologically-sequenced coordinate data from `traj` <br>\n",
    "NOTE: Sort first if not yet done, using date and hour fields\n",
    "\n",
    "b. Make O-D coord pairs with from (a) with lag=1 <br>\n",
    "NOTE: This should consider all of the origin points in the specified time window, i.e. an O-D transaction that originated from end of month (say 2023-06-30) and ends on the start of another month (say 2023-07-01) should still be computed (for monthly mobility index) \n",
    "\n",
    "c. Compute for the haversine distance from the O-D pairs then apply map then reduce"
   ]
  },
  {
   "cell_type": "markdown",
   "id": "26093911-798e-4934-b06f-8c34d9b6becc",
   "metadata": {
    "tags": []
   },
   "source": [
    "Check total travel distance (in meters) for a sample sub"
   ]
  },
  {
   "cell_type": "code",
   "execution_count": 17,
   "id": "0d11fc64-ce67-48c4-b899-e8c0cdfd4206",
   "metadata": {},
   "outputs": [
    {
     "data": {
      "text/html": [
       "<div>\n",
       "<style scoped>\n",
       "    .dataframe tbody tr th:only-of-type {\n",
       "        vertical-align: middle;\n",
       "    }\n",
       "\n",
       "    .dataframe tbody tr th {\n",
       "        vertical-align: top;\n",
       "    }\n",
       "\n",
       "    .dataframe thead th {\n",
       "        text-align: right;\n",
       "    }\n",
       "</style>\n",
       "<table border=\"1\" class=\"dataframe\">\n",
       "  <thead>\n",
       "    <tr style=\"text-align: right;\">\n",
       "      <th></th>\n",
       "      <th>txn_uid</th>\n",
       "      <th>sub_uid</th>\n",
       "      <th>cel_uid</th>\n",
       "      <th>transaction_dt</th>\n",
       "      <th>transaction_hr</th>\n",
       "      <th>coords</th>\n",
       "    </tr>\n",
       "  </thead>\n",
       "  <tbody>\n",
       "    <tr>\n",
       "      <th>0</th>\n",
       "      <td>glo-txn-17760</td>\n",
       "      <td>glo-sub-065</td>\n",
       "      <td>glo-cel-027</td>\n",
       "      <td>2023-06-01</td>\n",
       "      <td>5</td>\n",
       "      <td>POINT (121.0482758 14.5207167)</td>\n",
       "    </tr>\n",
       "    <tr>\n",
       "      <th>1</th>\n",
       "      <td>glo-txn-17761</td>\n",
       "      <td>glo-sub-065</td>\n",
       "      <td>glo-cel-036</td>\n",
       "      <td>2023-06-01</td>\n",
       "      <td>8</td>\n",
       "      <td>POINT (121.052231 14.519476)</td>\n",
       "    </tr>\n",
       "    <tr>\n",
       "      <th>2</th>\n",
       "      <td>glo-txn-17762</td>\n",
       "      <td>glo-sub-065</td>\n",
       "      <td>glo-cel-043</td>\n",
       "      <td>2023-06-01</td>\n",
       "      <td>9</td>\n",
       "      <td>POINT (121.0548721 14.5216456)</td>\n",
       "    </tr>\n",
       "    <tr>\n",
       "      <th>3</th>\n",
       "      <td>glo-txn-17763</td>\n",
       "      <td>glo-sub-065</td>\n",
       "      <td>glo-cel-049</td>\n",
       "      <td>2023-06-01</td>\n",
       "      <td>10</td>\n",
       "      <td>POINT (121.0568161 14.5177119)</td>\n",
       "    </tr>\n",
       "    <tr>\n",
       "      <th>4</th>\n",
       "      <td>glo-txn-17764</td>\n",
       "      <td>glo-sub-065</td>\n",
       "      <td>glo-cel-051</td>\n",
       "      <td>2023-06-01</td>\n",
       "      <td>11</td>\n",
       "      <td>POINT (121.0572633 14.5141269)</td>\n",
       "    </tr>\n",
       "  </tbody>\n",
       "</table>\n",
       "</div>"
      ],
      "text/plain": [
       "         txn_uid      sub_uid      cel_uid transaction_dt  transaction_hr  \\\n",
       "0  glo-txn-17760  glo-sub-065  glo-cel-027     2023-06-01               5   \n",
       "1  glo-txn-17761  glo-sub-065  glo-cel-036     2023-06-01               8   \n",
       "2  glo-txn-17762  glo-sub-065  glo-cel-043     2023-06-01               9   \n",
       "3  glo-txn-17763  glo-sub-065  glo-cel-049     2023-06-01              10   \n",
       "4  glo-txn-17764  glo-sub-065  glo-cel-051     2023-06-01              11   \n",
       "\n",
       "                           coords  \n",
       "0  POINT (121.0482758 14.5207167)  \n",
       "1    POINT (121.052231 14.519476)  \n",
       "2  POINT (121.0548721 14.5216456)  \n",
       "3  POINT (121.0568161 14.5177119)  \n",
       "4  POINT (121.0572633 14.5141269)  "
      ]
     },
     "execution_count": 17,
     "metadata": {},
     "output_type": "execute_result"
    }
   ],
   "source": [
    "sub = fake_subscribers.sample(1).sub_uid.item()\n",
    "traj = get_sub_traj(sub, date, window, fake_transactions, fake_cellsites)\n",
    "traj.head()"
   ]
  },
  {
   "cell_type": "code",
   "execution_count": 18,
   "id": "54f7cc45-dd8b-416c-a9f1-c0616a3c3660",
   "metadata": {
    "tags": []
   },
   "outputs": [],
   "source": [
    "coords = traj.coords.tolist()\n",
    "od_pairs = list(zip(coords, coords[1:])) # think lag-1 in SQL"
   ]
  },
  {
   "cell_type": "code",
   "execution_count": 19,
   "id": "521c4c23-048d-4a39-9886-0447294800b7",
   "metadata": {
    "tags": []
   },
   "outputs": [
    {
     "data": {
      "text/plain": [
       "[('POINT (121.0482758 14.5207167)', 'POINT (121.052231 14.519476)'),\n",
       " ('POINT (121.052231 14.519476)', 'POINT (121.0548721 14.5216456)'),\n",
       " ('POINT (121.0548721 14.5216456)', 'POINT (121.0568161 14.5177119)'),\n",
       " ('POINT (121.0568161 14.5177119)', 'POINT (121.0572633 14.5141269)')]"
      ]
     },
     "execution_count": 19,
     "metadata": {},
     "output_type": "execute_result"
    }
   ],
   "source": [
    "od_pairs[:4] # check with the traj table above"
   ]
  },
  {
   "cell_type": "code",
   "execution_count": 20,
   "id": "c20f88dd-4892-44f8-8ef5-f673295a2074",
   "metadata": {
    "tags": []
   },
   "outputs": [],
   "source": [
    "total_travel_distance = reduce(\n",
    "    lambda a, b: a + b,\n",
    "    list(map(lambda p: calc_haversine_distance(*p), od_pairs))\n",
    ")"
   ]
  },
  {
   "cell_type": "code",
   "execution_count": 21,
   "id": "2a9d733b-cb64-46b5-94ed-1a054080cf6e",
   "metadata": {},
   "outputs": [
    {
     "data": {
      "text/plain": [
       "125.26329011005284"
      ]
     },
     "execution_count": 21,
     "metadata": {},
     "output_type": "execute_result"
    }
   ],
   "source": [
    "# convert to kilometer\n",
    "total_travel_distance / 1_000"
   ]
  },
  {
   "cell_type": "markdown",
   "id": "1ae49f22-01cf-4708-af1a-062a3097359c",
   "metadata": {},
   "source": [
    "Apply `calc_total_travel_distance` to the scoring base"
   ]
  },
  {
   "cell_type": "code",
   "execution_count": 22,
   "id": "f0172880-f9be-4af0-970c-e35238ca795a",
   "metadata": {},
   "outputs": [],
   "source": [
    "def calc_total_travel_distance(traj):\n",
    "    coords = traj.coords.tolist()\n",
    "    od_pairs = list(zip(coords, coords[1:]))\n",
    "    total_travel_distance = reduce(\n",
    "        lambda a, b: a + b,\n",
    "        list(map(lambda p: calc_haversine_distance(*p), od_pairs))\n",
    "    )\n",
    "    return total_travel_distance"
   ]
  },
  {
   "cell_type": "code",
   "execution_count": 23,
   "id": "54300eba-c2e6-4acc-93f8-3c8aad02c7f7",
   "metadata": {},
   "outputs": [],
   "source": [
    "total_travel_distances = []\n",
    "for sub in scoring_base.sub_uid.tolist():\n",
    "    traj = get_sub_traj(sub, date, window, fake_transactions, fake_cellsites)\n",
    "    total_travel_distance = calc_total_travel_distance(traj)\n",
    "    total_travel_distances.append(total_travel_distance)\n",
    "\n",
    "scoring_base[\"total_travel_distance\"] = total_travel_distances"
   ]
  },
  {
   "cell_type": "code",
   "execution_count": 24,
   "id": "8ba2219e-64d7-468e-9dd8-e2a0235919bd",
   "metadata": {},
   "outputs": [
    {
     "data": {
      "text/html": [
       "<div>\n",
       "<style scoped>\n",
       "    .dataframe tbody tr th:only-of-type {\n",
       "        vertical-align: middle;\n",
       "    }\n",
       "\n",
       "    .dataframe tbody tr th {\n",
       "        vertical-align: top;\n",
       "    }\n",
       "\n",
       "    .dataframe thead th {\n",
       "        text-align: right;\n",
       "    }\n",
       "</style>\n",
       "<table border=\"1\" class=\"dataframe\">\n",
       "  <thead>\n",
       "    <tr style=\"text-align: right;\">\n",
       "      <th></th>\n",
       "      <th>sub_uid</th>\n",
       "      <th>gender</th>\n",
       "      <th>age</th>\n",
       "      <th>name</th>\n",
       "      <th>chi_indicator</th>\n",
       "      <th>ewallet_user_indicator</th>\n",
       "      <th>total_travel_distance</th>\n",
       "    </tr>\n",
       "  </thead>\n",
       "  <tbody>\n",
       "    <tr>\n",
       "      <th>138</th>\n",
       "      <td>glo-sub-139</td>\n",
       "      <td>female</td>\n",
       "      <td>18</td>\n",
       "      <td>Laura Lewis</td>\n",
       "      <td>False</td>\n",
       "      <td>N</td>\n",
       "      <td>124286.417201</td>\n",
       "    </tr>\n",
       "    <tr>\n",
       "      <th>169</th>\n",
       "      <td>glo-sub-170</td>\n",
       "      <td>female</td>\n",
       "      <td>70</td>\n",
       "      <td>Linda Johnson</td>\n",
       "      <td>False</td>\n",
       "      <td>N</td>\n",
       "      <td>140029.346742</td>\n",
       "    </tr>\n",
       "    <tr>\n",
       "      <th>161</th>\n",
       "      <td>glo-sub-162</td>\n",
       "      <td>female</td>\n",
       "      <td>47</td>\n",
       "      <td>Erika Randall</td>\n",
       "      <td>False</td>\n",
       "      <td>N</td>\n",
       "      <td>159537.908326</td>\n",
       "    </tr>\n",
       "    <tr>\n",
       "      <th>42</th>\n",
       "      <td>glo-sub-043</td>\n",
       "      <td>female</td>\n",
       "      <td>61</td>\n",
       "      <td>Lori Watson</td>\n",
       "      <td>False</td>\n",
       "      <td>Y</td>\n",
       "      <td>185304.273252</td>\n",
       "    </tr>\n",
       "    <tr>\n",
       "      <th>136</th>\n",
       "      <td>glo-sub-137</td>\n",
       "      <td>female</td>\n",
       "      <td>64</td>\n",
       "      <td>Kaitlyn Levine</td>\n",
       "      <td>False</td>\n",
       "      <td>N</td>\n",
       "      <td>92168.801722</td>\n",
       "    </tr>\n",
       "  </tbody>\n",
       "</table>\n",
       "</div>"
      ],
      "text/plain": [
       "         sub_uid  gender  age            name  chi_indicator  \\\n",
       "138  glo-sub-139  female   18     Laura Lewis          False   \n",
       "169  glo-sub-170  female   70   Linda Johnson          False   \n",
       "161  glo-sub-162  female   47   Erika Randall          False   \n",
       "42   glo-sub-043  female   61     Lori Watson          False   \n",
       "136  glo-sub-137  female   64  Kaitlyn Levine          False   \n",
       "\n",
       "    ewallet_user_indicator  total_travel_distance  \n",
       "138                      N          124286.417201  \n",
       "169                      N          140029.346742  \n",
       "161                      N          159537.908326  \n",
       "42                       Y          185304.273252  \n",
       "136                      N           92168.801722  "
      ]
     },
     "execution_count": 24,
     "metadata": {},
     "output_type": "execute_result"
    }
   ],
   "source": [
    "scoring_base.sample(5)"
   ]
  },
  {
   "cell_type": "markdown",
   "id": "681f23c3-235e-413e-8eb5-0a8fb82df44b",
   "metadata": {},
   "source": [
    "Let's visualize `calc_total_travel_distance` to better understand the concept\n",
    "\n",
    "Check the dist of total travel distance, this should mirror a normal dist, since we have set the stay proba in the settings to truncated norm curve"
   ]
  },
  {
   "cell_type": "markdown",
   "id": "25d9ae81-db48-44c7-8d6d-da1f40352d3a",
   "metadata": {},
   "source": [
    "Clearly, the more transaction (hops) that you have, the higher is the travelled distance. "
   ]
  },
  {
   "cell_type": "code",
   "execution_count": 25,
   "id": "b0d54280-7b33-4208-846a-c1c561f5c1aa",
   "metadata": {},
   "outputs": [],
   "source": [
    "def fetch_total_travel_distance(traj):\n",
    "    coords = traj.coords.tolist()\n",
    "    od_pairs = list(zip(coords, coords[1:]))\n",
    "    dts = traj.transaction_dt.tolist()\n",
    "    hrs = traj.transaction_hr.tolist()\n",
    "    cels = traj.cel_uid.tolist()\n",
    "    hr_pairs = list(zip(hrs, hrs[1:]))\n",
    "    travel_distances = list(map(lambda p: calc_haversine_distance(*p), od_pairs))\n",
    "    dt_df = pd.DataFrame(list(zip(dts, dts[1:])), columns=[\"orig_dt\", \"dest_dt\"])\n",
    "    hr_df = pd.DataFrame(list(zip(hrs, hrs[1:])), columns=[\"orig_hr\", \"dest_hr\"])\n",
    "    cel_df = pd.DataFrame(list(zip(cels, cels[1:])), columns=[\"orig_cel\", \"dest_cel\"])\n",
    "    data = pd.concat([dt_df, hr_df, cel_df], axis=1)\n",
    "    data[\"travel_distance\"] = travel_distances\n",
    "    return data.loc[data.travel_distance>0].reset_index(drop=True)"
   ]
  },
  {
   "cell_type": "code",
   "execution_count": 26,
   "id": "de84887e-031a-437f-b7cb-33aba79e5334",
   "metadata": {},
   "outputs": [],
   "source": [
    "metric = \"total_travel_distance\"\n",
    "sample_traj_low, sample_traj_mid, sample_traj_high = fetch_sample_trajs(scoring_base, metric, date, window, fake_transactions, fake_cellsites)"
   ]
  },
  {
   "cell_type": "code",
   "execution_count": 27,
   "id": "42550edd-6a09-47fe-b876-21874a56cd0b",
   "metadata": {},
   "outputs": [],
   "source": [
    "def plot_total_travel_distance(traj_low, traj_mid, traj_high):\n",
    "    fig, (ax1, ax2) = plt.subplots(1, 2, figsize=(13, 5))\n",
    "    sample_low = fetch_total_travel_distance(traj_low)\n",
    "    sample_mid = fetch_total_travel_distance(traj_mid)\n",
    "    sample_high = fetch_total_travel_distance(traj_high)\n",
    "    sample_low[\"orig_dt\"] = pd.to_datetime(sample_low[\"orig_dt\"])\n",
    "    sample_mid[\"orig_dt\"] = pd.to_datetime(sample_mid[\"orig_dt\"])\n",
    "    sample_high[\"orig_dt\"] = pd.to_datetime(sample_high[\"orig_dt\"])\n",
    "    sample_low.groupby(\"orig_dt\")[\"travel_distance\"].sum().plot(ax=ax1, color=\"red\", kind=\"line\")\n",
    "    sample_mid.groupby(\"orig_dt\")[\"travel_distance\"].sum().plot(ax=ax1, color=\"blue\", kind=\"line\")\n",
    "    sample_high.groupby(\"orig_dt\")[\"travel_distance\"].sum().plot(ax=ax1, color=\"green\", kind=\"line\")\n",
    "    sample_low.groupby(\"orig_dt\")[\"travel_distance\"].sum().plot(ax=ax2, color=\"red\", kind=\"density\")\n",
    "    sample_mid.groupby(\"orig_dt\")[\"travel_distance\"].sum().plot(ax=ax2, color=\"blue\", kind=\"density\")\n",
    "    sample_high.groupby(\"orig_dt\")[\"travel_distance\"].sum().plot(ax=ax2, color=\"green\", kind=\"density\")\n",
    "    ax1.set_ylabel(\"travel distance (in KM)\")\n",
    "    ax2.set_ylabel(\"density\")\n",
    "    ax1.set_xlabel(\"\")\n",
    "    ax2.set_xlabel(\"travel distance (in KM)\")\n",
    "    ax1.legend([\"low\", \"mid\", \"high\"], frameon=False)\n",
    "    ax2.legend([\"low\", \"mid\", \"high\"], frameon=False)\n",
    "    plt.tight_layout()\n",
    "    plt.close();\n",
    "    return fig"
   ]
  },
  {
   "cell_type": "code",
   "execution_count": 29,
   "id": "c127ad5a-9176-4f3b-9248-e8d77592c8bc",
   "metadata": {},
   "outputs": [
    {
     "data": {
      "image/png": "[encoded data removed]",
      "text/plain": [
       "<Figure size 1300x500 with 2 Axes>"
      ]
     },
     "execution_count": 29,
     "metadata": {},
     "output_type": "execute_result"
    }
   ],
   "source": [
    "plot_total_travel_distance(sample_traj_low, sample_traj_mid, sample_traj_high)"
   ]
  },
  {
   "cell_type": "markdown",
   "id": "dfee7017-e681-4bc8-807a-ab0a17c24634",
   "metadata": {},
   "source": [
    "**TODO:** add viz transaction count per day vs total distance travelled"
   ]
  },
  {
   "cell_type": "markdown",
   "id": "e45e31f7-02b7-40ee-b211-f2ea1d42bd9c",
   "metadata": {},
   "source": [
    "Based on the time series and distribution of the **total travel distance** alone, we can already get a rough picture for the assignment of the  HIGH, MID, and LOW mobility groups. But this does not paint the whole picture. Let's try to visualize the actual movement of the subs using their monthly route (you should get a graph-like visualization) to see why."
   ]
  },
  {
   "cell_type": "code",
   "execution_count": 30,
   "id": "ad599159-3966-4ec5-8d7e-5bfecc399e44",
   "metadata": {},
   "outputs": [],
   "source": [
    "def plot_routes(traj_low, traj_mid, traj_high):\n",
    "    coords_low = traj_low.coords.tolist()\n",
    "    coords_mid = traj_mid.coords.tolist()\n",
    "    coords_high = traj_high.coords.tolist()\n",
    "    od_pairs_low = list(zip(coords_low, coords_low[1:]))\n",
    "    od_pairs_mid = list(zip(coords_mid, coords_mid[1:]))\n",
    "    od_pairs_high = list(zip(coords_high, coords_high[1:]))\n",
    "    routes_low, routes_mid, routes_high = [], [], []\n",
    "    for od_pair in od_pairs_low:\n",
    "        routes_low.append(\n",
    "            shapely.geometry.LineString(\n",
    "                map(shapely.wkt.loads, od_pair)\n",
    "            )\n",
    "        )\n",
    "    for od_pair in od_pairs_mid:\n",
    "        routes_mid.append(\n",
    "            shapely.geometry.LineString(\n",
    "                map(shapely.wkt.loads, od_pair)\n",
    "            )\n",
    "        )\n",
    "    for od_pair in od_pairs_high:\n",
    "        routes_high.append(\n",
    "            shapely.geometry.LineString(\n",
    "                map(shapely.wkt.loads, od_pair)\n",
    "            )\n",
    "        )\n",
    "    fig, (ax1, ax2, ax3) = plt.subplots(1, 3, figsize=(13, 7), sharex=True, sharey=True)\n",
    "    gpd.GeoSeries(traj_low[\"coords\"].apply(shapely.wkt.loads)).plot(ax=ax1, color=\"red\", markersize=60, zorder=2);\n",
    "    gpd.GeoSeries(traj_mid[\"coords\"].apply(shapely.wkt.loads)).plot(ax=ax2, color=\"blue\", markersize=60, zorder=2);\n",
    "    gpd.GeoSeries(traj_high[\"coords\"].apply(shapely.wkt.loads)).plot(ax=ax3, color=\"green\", markersize=60, zorder=2);\n",
    "    gpd.GeoSeries(routes_low).plot(ax=ax1, color=\"grey\", linewidth=3, zorder=1, alpha=0.6)\n",
    "    gpd.GeoSeries(routes_mid).plot(ax=ax2, color=\"grey\", linewidth=3, zorder=1, alpha=0.6)\n",
    "    gpd.GeoSeries(routes_high).plot(ax=ax3, color=\"grey\", linewidth=3, zorder=1, alpha=0.6)\n",
    "    ax1.ticklabel_format(useOffset=False)\n",
    "    ax2.ticklabel_format(useOffset=False)\n",
    "    ax3.ticklabel_format(useOffset=False)\n",
    "    ax1.axis(\"off\")\n",
    "    ax2.axis(\"off\")\n",
    "    ax3.axis(\"off\")\n",
    "    ax1.legend([\"low\"], frameon=False, loc=\"lower center\")\n",
    "    ax2.legend([\"mid\"], frameon=False, loc=\"lower center\")\n",
    "    ax3.legend([\"high\"], frameon=False, loc=\"lower center\")\n",
    "    plt.tight_layout()\n",
    "    plt.close()\n",
    "    return fig"
   ]
  },
  {
   "cell_type": "code",
   "execution_count": 31,
   "id": "35e62464-87d4-457f-8b64-00417ee05cd6",
   "metadata": {},
   "outputs": [
    {
     "data": {
      "image/png": "[encoded data removed]",
      "text/plain": [
       "<Figure size 1300x700 with 3 Axes>"
      ]
     },
     "execution_count": 31,
     "metadata": {},
     "output_type": "execute_result"
    }
   ],
   "source": [
    "plot_routes(sample_traj_low, sample_traj_mid, sample_traj_high)"
   ]
  },
  {
   "cell_type": "markdown",
   "id": "ceed1c66-81fb-4131-862e-112e010335cf",
   "metadata": {},
   "source": [
    "Total travel distance alone, cannot be used to approximate mobilty."
   ]
  },
  {
   "cell_type": "markdown",
   "id": "4a598350-1a2a-4d3c-9aa0-7c5cc9e8d51e",
   "metadata": {},
   "source": [
    "## 2: Radius of Gyration\n",
    "\n",
    "In mobility analysis, the radius of gyration indicates the characteristic distance travelled by the agent (in our case, the telco mobile subscriber). This is computed using the given formula below:\n",
    "\n",
    "$RoG$ = $\\sqrt{\\frac{1}{n} \\sum \\limits_{i=1}^{n} {dist(CoM,coord_i)^2}}$\n",
    "\n",
    "$CoM$ = $\\frac{1}{n} \\sum \\limits_{i=1}^{n} (lat_i, lng_i)$\n",
    "\n",
    "Where: <br>\n",
    "RoG is Radius of Gyration <br>\n",
    "CoM is Center of Mass"
   ]
  },
  {
   "cell_type": "markdown",
   "id": "e156f0d1-7066-445d-9de3-62572d57d54c",
   "metadata": {},
   "source": [
    "Check radius of gyration (in meters) for a sample sub "
   ]
  },
  {
   "cell_type": "code",
   "execution_count": 87,
   "id": "13f55bc8-d380-4e2b-8dbd-c64cf770d082",
   "metadata": {},
   "outputs": [
    {
     "data": {
      "text/html": [
       "<div>\n",
       "<style scoped>\n",
       "    .dataframe tbody tr th:only-of-type {\n",
       "        vertical-align: middle;\n",
       "    }\n",
       "\n",
       "    .dataframe tbody tr th {\n",
       "        vertical-align: top;\n",
       "    }\n",
       "\n",
       "    .dataframe thead th {\n",
       "        text-align: right;\n",
       "    }\n",
       "</style>\n",
       "<table border=\"1\" class=\"dataframe\">\n",
       "  <thead>\n",
       "    <tr style=\"text-align: right;\">\n",
       "      <th></th>\n",
       "      <th>txn_uid</th>\n",
       "      <th>sub_uid</th>\n",
       "      <th>cel_uid</th>\n",
       "      <th>transaction_dt</th>\n",
       "      <th>transaction_hr</th>\n",
       "      <th>coords</th>\n",
       "    </tr>\n",
       "  </thead>\n",
       "  <tbody>\n",
       "    <tr>\n",
       "      <th>0</th>\n",
       "      <td>glo-txn-39481</td>\n",
       "      <td>glo-sub-050</td>\n",
       "      <td>glo-cel-110</td>\n",
       "      <td>2023-06-01</td>\n",
       "      <td>5</td>\n",
       "      <td>POINT (121.0970233 14.5342057)</td>\n",
       "    </tr>\n",
       "    <tr>\n",
       "      <th>1</th>\n",
       "      <td>glo-txn-39482</td>\n",
       "      <td>glo-sub-050</td>\n",
       "      <td>glo-cel-111</td>\n",
       "      <td>2023-06-01</td>\n",
       "      <td>7</td>\n",
       "      <td>POINT (121.104064 14.5348903)</td>\n",
       "    </tr>\n",
       "    <tr>\n",
       "      <th>2</th>\n",
       "      <td>glo-txn-39483</td>\n",
       "      <td>glo-sub-050</td>\n",
       "      <td>glo-cel-110</td>\n",
       "      <td>2023-06-01</td>\n",
       "      <td>8</td>\n",
       "      <td>POINT (121.0970233 14.5342057)</td>\n",
       "    </tr>\n",
       "    <tr>\n",
       "      <th>3</th>\n",
       "      <td>glo-txn-39484</td>\n",
       "      <td>glo-sub-050</td>\n",
       "      <td>glo-cel-111</td>\n",
       "      <td>2023-06-01</td>\n",
       "      <td>9</td>\n",
       "      <td>POINT (121.104064 14.5348903)</td>\n",
       "    </tr>\n",
       "    <tr>\n",
       "      <th>4</th>\n",
       "      <td>glo-txn-39485</td>\n",
       "      <td>glo-sub-050</td>\n",
       "      <td>glo-cel-110</td>\n",
       "      <td>2023-06-01</td>\n",
       "      <td>10</td>\n",
       "      <td>POINT (121.0970233 14.5342057)</td>\n",
       "    </tr>\n",
       "  </tbody>\n",
       "</table>\n",
       "</div>"
      ],
      "text/plain": [
       "         txn_uid      sub_uid      cel_uid transaction_dt  transaction_hr  \\\n",
       "0  glo-txn-39481  glo-sub-050  glo-cel-110     2023-06-01               5   \n",
       "1  glo-txn-39482  glo-sub-050  glo-cel-111     2023-06-01               7   \n",
       "2  glo-txn-39483  glo-sub-050  glo-cel-110     2023-06-01               8   \n",
       "3  glo-txn-39484  glo-sub-050  glo-cel-111     2023-06-01               9   \n",
       "4  glo-txn-39485  glo-sub-050  glo-cel-110     2023-06-01              10   \n",
       "\n",
       "                           coords  \n",
       "0  POINT (121.0970233 14.5342057)  \n",
       "1   POINT (121.104064 14.5348903)  \n",
       "2  POINT (121.0970233 14.5342057)  \n",
       "3   POINT (121.104064 14.5348903)  \n",
       "4  POINT (121.0970233 14.5342057)  "
      ]
     },
     "execution_count": 87,
     "metadata": {},
     "output_type": "execute_result"
    }
   ],
   "source": [
    "sub = fake_subscribers.sample(1).sub_uid.item()\n",
    "traj = get_sub_traj(sub, date, window, fake_transactions, fake_cellsites)\n",
    "traj.head()"
   ]
  },
  {
   "cell_type": "code",
   "execution_count": 88,
   "id": "a9407154-7cf4-485c-949a-0d3f25d0d3e9",
   "metadata": {
    "tags": []
   },
   "outputs": [],
   "source": [
    "coords = traj.coords.tolist()"
   ]
  },
  {
   "cell_type": "code",
   "execution_count": 89,
   "id": "f51d585a-e8cc-469f-a289-c4ed3f52d2b4",
   "metadata": {
    "tags": []
   },
   "outputs": [],
   "source": [
    "mean_lat = np.mean([shapely.wkt.loads(coord).y for coord in coords])\n",
    "mean_lng = np.mean([shapely.wkt.loads(coord).x for coord in coords])\n",
    "com = shapely.geometry.Point(mean_lng, mean_lat).wkt"
   ]
  },
  {
   "cell_type": "code",
   "execution_count": 90,
   "id": "4322a560-9b9e-4694-a208-f756066fae31",
   "metadata": {
    "tags": []
   },
   "outputs": [
    {
     "name": "stdout",
     "output_type": "stream",
     "text": [
      "14.517850905714287 121.063812682 POINT (121.063812682 14.517850905714287)\n"
     ]
    }
   ],
   "source": [
    "print(mean_lat, mean_lng, com)"
   ]
  },
  {
   "cell_type": "code",
   "execution_count": 91,
   "id": "d75a5b5f-2a7d-4b48-b2a5-99f43d8d4af5",
   "metadata": {
    "tags": []
   },
   "outputs": [],
   "source": [
    "# compute for the distances from center of mass to each of the individual points\n",
    "pt_pairs = list(zip(coords, [com]*len(coords))) # points-to-centerofmass\n",
    "radius_of_gyration = np.sqrt(\n",
    "    reduce(\n",
    "        lambda a, b: a + b,\n",
    "        list(map(lambda p: calc_haversine_distance(*p)**2, pt_pairs))\n",
    "    ) / len(coords)\n",
    ")"
   ]
  },
  {
   "cell_type": "code",
   "execution_count": 92,
   "id": "99b78d6f-40a9-475f-9196-67e4308e77ae",
   "metadata": {
    "tags": []
   },
   "outputs": [
    {
     "data": {
      "text/plain": [
       "1401.6161206795764"
      ]
     },
     "execution_count": 92,
     "metadata": {},
     "output_type": "execute_result"
    }
   ],
   "source": [
    "radius_of_gyration"
   ]
  },
  {
   "cell_type": "markdown",
   "id": "14923c0b-c1e2-44d6-b806-5e49d43417a9",
   "metadata": {},
   "source": [
    "Apply `calc_radius_of_gyration` to the scoring base"
   ]
  },
  {
   "cell_type": "code",
   "execution_count": 93,
   "id": "ad874f99-71a2-4784-8e84-a334dde6ff5d",
   "metadata": {
    "tags": []
   },
   "outputs": [],
   "source": [
    "def calc_radius_of_gyration(traj):\n",
    "    \n",
    "    coords = traj.coords.tolist()\n",
    "    \n",
    "    # compute for the center of mass\n",
    "    mean_lat = np.mean([shapely.wkt.loads(coord).y for coord in coords])\n",
    "    mean_lng = np.mean([shapely.wkt.loads(coord).x for coord in coords])\n",
    "    com = shapely.geometry.Point(mean_lng, mean_lat).wkt\n",
    "    \n",
    "    # compute for the distances from CoM to individual points\n",
    "    pt_pairs = list(zip(coords, [com]*len(coords)))\n",
    "    radius_of_gyration = np.sqrt(\n",
    "        reduce(\n",
    "            lambda a, b: a + b,\n",
    "            list(map(lambda p: calc_haversine_distance(*p)**2, pt_pairs))\n",
    "        ) / len(coords)\n",
    "    )\n",
    "    return radius_of_gyration"
   ]
  },
  {
   "cell_type": "code",
   "execution_count": 94,
   "id": "e5db0cfc-ff41-4488-8f01-281aa556a3b1",
   "metadata": {
    "tags": []
   },
   "outputs": [],
   "source": [
    "radius_of_gyrations = []\n",
    "for sub in scoring_base.sub_uid.tolist():\n",
    "    traj = get_sub_traj(sub, date, window, fake_transactions, fake_cellsites)\n",
    "    radius_of_gyration = calc_radius_of_gyration(traj)\n",
    "    radius_of_gyrations.append(radius_of_gyration)\n",
    "\n",
    "scoring_base[\"radius_of_gyration\"] = radius_of_gyrations"
   ]
  },
  {
   "cell_type": "code",
   "execution_count": 95,
   "id": "4a168425-fbbc-4fbd-b698-59a7bb74d55b",
   "metadata": {
    "tags": []
   },
   "outputs": [
    {
     "data": {
      "text/html": [
       "<div>\n",
       "<style scoped>\n",
       "    .dataframe tbody tr th:only-of-type {\n",
       "        vertical-align: middle;\n",
       "    }\n",
       "\n",
       "    .dataframe tbody tr th {\n",
       "        vertical-align: top;\n",
       "    }\n",
       "\n",
       "    .dataframe thead th {\n",
       "        text-align: right;\n",
       "    }\n",
       "</style>\n",
       "<table border=\"1\" class=\"dataframe\">\n",
       "  <thead>\n",
       "    <tr style=\"text-align: right;\">\n",
       "      <th></th>\n",
       "      <th>sub_uid</th>\n",
       "      <th>gender</th>\n",
       "      <th>age</th>\n",
       "      <th>name</th>\n",
       "      <th>chi_indicator</th>\n",
       "      <th>ewallet_user_indicator</th>\n",
       "      <th>total_travel_distance</th>\n",
       "      <th>radius_of_gyration</th>\n",
       "    </tr>\n",
       "  </thead>\n",
       "  <tbody>\n",
       "    <tr>\n",
       "      <th>46</th>\n",
       "      <td>glo-sub-150</td>\n",
       "      <td>female</td>\n",
       "      <td>44</td>\n",
       "      <td>Anna Wilson</td>\n",
       "      <td>False</td>\n",
       "      <td>Y</td>\n",
       "      <td>110414.409321</td>\n",
       "      <td>918.347203</td>\n",
       "    </tr>\n",
       "    <tr>\n",
       "      <th>186</th>\n",
       "      <td>glo-sub-079</td>\n",
       "      <td>male</td>\n",
       "      <td>57</td>\n",
       "      <td>Adrian Lopez</td>\n",
       "      <td>False</td>\n",
       "      <td>Y</td>\n",
       "      <td>187977.013357</td>\n",
       "      <td>806.840483</td>\n",
       "    </tr>\n",
       "    <tr>\n",
       "      <th>82</th>\n",
       "      <td>glo-sub-012</td>\n",
       "      <td>male</td>\n",
       "      <td>52</td>\n",
       "      <td>Russell Wood</td>\n",
       "      <td>False</td>\n",
       "      <td>N</td>\n",
       "      <td>123681.816641</td>\n",
       "      <td>2220.815435</td>\n",
       "    </tr>\n",
       "    <tr>\n",
       "      <th>127</th>\n",
       "      <td>glo-sub-151</td>\n",
       "      <td>female</td>\n",
       "      <td>49</td>\n",
       "      <td>Julie Johnson</td>\n",
       "      <td>False</td>\n",
       "      <td>Y</td>\n",
       "      <td>145577.396570</td>\n",
       "      <td>1594.642176</td>\n",
       "    </tr>\n",
       "    <tr>\n",
       "      <th>40</th>\n",
       "      <td>glo-sub-165</td>\n",
       "      <td>female</td>\n",
       "      <td>35</td>\n",
       "      <td>Sandra Miller</td>\n",
       "      <td>False</td>\n",
       "      <td>N</td>\n",
       "      <td>107085.731073</td>\n",
       "      <td>2189.927615</td>\n",
       "    </tr>\n",
       "  </tbody>\n",
       "</table>\n",
       "</div>"
      ],
      "text/plain": [
       "         sub_uid  gender  age           name  chi_indicator  \\\n",
       "46   glo-sub-150  female   44    Anna Wilson          False   \n",
       "186  glo-sub-079    male   57   Adrian Lopez          False   \n",
       "82   glo-sub-012    male   52   Russell Wood          False   \n",
       "127  glo-sub-151  female   49  Julie Johnson          False   \n",
       "40   glo-sub-165  female   35  Sandra Miller          False   \n",
       "\n",
       "    ewallet_user_indicator  total_travel_distance  radius_of_gyration  \n",
       "46                       Y          110414.409321          918.347203  \n",
       "186                      Y          187977.013357          806.840483  \n",
       "82                       N          123681.816641         2220.815435  \n",
       "127                      Y          145577.396570         1594.642176  \n",
       "40                       N          107085.731073         2189.927615  "
      ]
     },
     "execution_count": 95,
     "metadata": {},
     "output_type": "execute_result"
    }
   ],
   "source": [
    "scoring_base.sample(5)"
   ]
  },
  {
   "cell_type": "markdown",
   "id": "dd0329ca-54af-4de6-9a4d-9b6dc315e5a4",
   "metadata": {},
   "source": [
    "Let's visualize the result to better understand the concept"
   ]
  },
  {
   "cell_type": "code",
   "execution_count": 25,
   "id": "14e2cd04-d6e3-4eab-9f77-b4210301cb55",
   "metadata": {},
   "outputs": [
    {
     "data": {
      "image/png": "[encoded data removed]",
      "text/plain": [
       "<Figure size 640x480 with 1 Axes>"
      ]
     },
     "metadata": {},
     "output_type": "display_data"
    }
   ],
   "source": [
    "scoring_base.radius_of_gyration.hist();"
   ]
  },
  {
   "cell_type": "code",
   "execution_count": 26,
   "id": "efcad736-3ea5-433e-8f80-0118a7d4cf94",
   "metadata": {},
   "outputs": [],
   "source": [
    "scoring_base.sort_values(by=\"radius_of_gyration\", ascending=True, inplace=True)\n",
    "scoring_base.reset_index(drop=True, inplace=True)"
   ]
  },
  {
   "cell_type": "code",
   "execution_count": 27,
   "id": "11164df1-0564-44d3-8322-393a2f2a283f",
   "metadata": {},
   "outputs": [],
   "source": [
    "sample_sub_low = scoring_base.loc[0, \"sub_uid\"]\n",
    "sample_sub_mid = scoring_base.loc[len(scoring_base)//2, \"sub_uid\"]\n",
    "sample_sub_high = scoring_base.loc[len(scoring_base)-1, \"sub_uid\"]"
   ]
  },
  {
   "cell_type": "code",
   "execution_count": 28,
   "id": "434bded7-deaf-48d9-997e-18a05155540a",
   "metadata": {},
   "outputs": [],
   "source": [
    "sample_traj_low = get_sub_traj(sample_sub_low, date, window, fake_transactions, fake_cellsites)\n",
    "sample_traj_mid = get_sub_traj(sample_sub_mid, date, window, fake_transactions, fake_cellsites)\n",
    "sample_traj_high = get_sub_traj(sample_sub_high, date, window, fake_transactions, fake_cellsites)"
   ]
  },
  {
   "cell_type": "code",
   "execution_count": 83,
   "id": "306402c3-ed6e-4135-9919-755883b40edf",
   "metadata": {},
   "outputs": [],
   "source": [
    "def visualize_route(traj):\n",
    "    return 1"
   ]
  },
  {
   "cell_type": "markdown",
   "id": "0c2f250d-5272-4abc-8d24-da96ac7dfe20",
   "metadata": {},
   "source": [
    "STOPPED HERE"
   ]
  },
  {
   "cell_type": "markdown",
   "id": "584edfc0-23e8-427a-9023-200758c5c4a5",
   "metadata": {},
   "source": [
    "## 3: Activity Entropy\n",
    "\n",
    "if stay_proba is low, likely to have:\n",
    "\n",
    "- LOWER total_travel_distance <br>\n",
    "- LOWER radius_of_gyration <br>\n",
    "- LOWER activity_entropy"
   ]
  },
  {
   "cell_type": "markdown",
   "id": "570e63ff-cfd7-41f2-bb92-8bd12fea0f9e",
   "metadata": {},
   "source": [
    "Check activity entropy for a sample sub trajectory"
   ]
  },
  {
   "cell_type": "code",
   "execution_count": 34,
   "id": "bba3f8d8-43f6-4b4e-88d2-c5109612bdc8",
   "metadata": {
    "tags": []
   },
   "outputs": [
    {
     "data": {
      "text/html": [
       "<div>\n",
       "<style scoped>\n",
       "    .dataframe tbody tr th:only-of-type {\n",
       "        vertical-align: middle;\n",
       "    }\n",
       "\n",
       "    .dataframe tbody tr th {\n",
       "        vertical-align: top;\n",
       "    }\n",
       "\n",
       "    .dataframe thead th {\n",
       "        text-align: right;\n",
       "    }\n",
       "</style>\n",
       "<table border=\"1\" class=\"dataframe\">\n",
       "  <thead>\n",
       "    <tr style=\"text-align: right;\">\n",
       "      <th></th>\n",
       "      <th>txn_uid</th>\n",
       "      <th>sub_uid</th>\n",
       "      <th>cel_uid</th>\n",
       "      <th>transaction_dt</th>\n",
       "      <th>transaction_hr</th>\n",
       "      <th>coords</th>\n",
       "    </tr>\n",
       "  </thead>\n",
       "  <tbody>\n",
       "    <tr>\n",
       "      <th>0</th>\n",
       "      <td>glo-txn-58921</td>\n",
       "      <td>glo-sub-027</td>\n",
       "      <td>glo-cel-005</td>\n",
       "      <td>2023-06-01</td>\n",
       "      <td>6</td>\n",
       "      <td>POINT (121.0281256 14.5208775)</td>\n",
       "    </tr>\n",
       "    <tr>\n",
       "      <th>2</th>\n",
       "      <td>glo-txn-58922</td>\n",
       "      <td>glo-sub-027</td>\n",
       "      <td>glo-cel-006</td>\n",
       "      <td>2023-06-01</td>\n",
       "      <td>7</td>\n",
       "      <td>POINT (121.03083 14.5277572)</td>\n",
       "    </tr>\n",
       "    <tr>\n",
       "      <th>1</th>\n",
       "      <td>glo-txn-58923</td>\n",
       "      <td>glo-sub-027</td>\n",
       "      <td>glo-cel-005</td>\n",
       "      <td>2023-06-01</td>\n",
       "      <td>9</td>\n",
       "      <td>POINT (121.0281256 14.5208775)</td>\n",
       "    </tr>\n",
       "    <tr>\n",
       "      <th>3</th>\n",
       "      <td>glo-txn-58924</td>\n",
       "      <td>glo-sub-027</td>\n",
       "      <td>glo-cel-007</td>\n",
       "      <td>2023-06-01</td>\n",
       "      <td>10</td>\n",
       "      <td>POINT (121.0342338 14.5181996)</td>\n",
       "    </tr>\n",
       "    <tr>\n",
       "      <th>4</th>\n",
       "      <td>glo-txn-58925</td>\n",
       "      <td>glo-sub-027</td>\n",
       "      <td>glo-cel-009</td>\n",
       "      <td>2023-06-01</td>\n",
       "      <td>13</td>\n",
       "      <td>POINT (121.0347379 14.5119065)</td>\n",
       "    </tr>\n",
       "  </tbody>\n",
       "</table>\n",
       "</div>"
      ],
      "text/plain": [
       "         txn_uid      sub_uid      cel_uid transaction_dt  transaction_hr  \\\n",
       "0  glo-txn-58921  glo-sub-027  glo-cel-005     2023-06-01               6   \n",
       "2  glo-txn-58922  glo-sub-027  glo-cel-006     2023-06-01               7   \n",
       "1  glo-txn-58923  glo-sub-027  glo-cel-005     2023-06-01               9   \n",
       "3  glo-txn-58924  glo-sub-027  glo-cel-007     2023-06-01              10   \n",
       "4  glo-txn-58925  glo-sub-027  glo-cel-009     2023-06-01              13   \n",
       "\n",
       "                           coords  \n",
       "0  POINT (121.0281256 14.5208775)  \n",
       "2    POINT (121.03083 14.5277572)  \n",
       "1  POINT (121.0281256 14.5208775)  \n",
       "3  POINT (121.0342338 14.5181996)  \n",
       "4  POINT (121.0347379 14.5119065)  "
      ]
     },
     "execution_count": 34,
     "metadata": {},
     "output_type": "execute_result"
    }
   ],
   "source": [
    "sub = fake_subscribers.sample(1).sub_uid.item()\n",
    "traj = get_sub_traj(sub, date, window, fake_transactions, fake_cellsites)\n",
    "traj.head()"
   ]
  },
  {
   "cell_type": "code",
   "execution_count": 35,
   "id": "916c3acf-d49d-474a-bc83-36017b52439f",
   "metadata": {
    "tags": []
   },
   "outputs": [],
   "source": [
    "loc_hrs = traj[[\"cel_uid\", \"transaction_hr\"]].values.tolist()\n",
    "od_loc_hrs = list(zip(loc_hrs, loc_hrs[1:]))"
   ]
  },
  {
   "cell_type": "code",
   "execution_count": 36,
   "id": "a73aca11-0214-407f-8cef-6d0b161b7555",
   "metadata": {
    "tags": []
   },
   "outputs": [],
   "source": [
    "cels = list(set(traj.cel_uid.tolist()))"
   ]
  },
  {
   "cell_type": "code",
   "execution_count": 37,
   "id": "a19fcebb-6482-4882-adb2-e507a1e19fe8",
   "metadata": {
    "tags": []
   },
   "outputs": [],
   "source": [
    "loc_hr_counter = dict(zip(cels, [0]*len(cels))) # THIS IS THE HASHMAP\n",
    "for od_loc_hr in od_loc_hrs:\n",
    "    orig = od_loc_hr[0]\n",
    "    dest = od_loc_hr[1]\n",
    "    cel = orig[0]\n",
    "    if dest[1] > orig[1]:\n",
    "        time_elapsed = dest[1] - orig[1]\n",
    "    elif dest[1] < orig[1]:\n",
    "        # next time elapsed jumps to another day\n",
    "        time_elapsed = 24 - abs(dest[1] - orig[1])\n",
    "    loc_hr_counter[cel] = loc_hr_counter[cel] + time_elapsed #  # I UPDATED THE HASHMAP"
   ]
  },
  {
   "cell_type": "code",
   "execution_count": 38,
   "id": "1b712e74-1d02-48fd-90eb-c87f70f16fc5",
   "metadata": {
    "tags": []
   },
   "outputs": [
    {
     "data": {
      "text/plain": [
       "{'glo-cel-074': 8,\n",
       " 'glo-cel-012': 2,\n",
       " 'glo-cel-088': 2,\n",
       " 'glo-cel-089': 39,\n",
       " 'glo-cel-087': 10,\n",
       " 'glo-cel-039': 7,\n",
       " 'glo-cel-070': 29,\n",
       " 'glo-cel-097': 5,\n",
       " 'glo-cel-008': 3,\n",
       " 'glo-cel-090': 2,\n",
       " 'glo-cel-082': 3,\n",
       " 'glo-cel-080': 14,\n",
       " 'glo-cel-086': 25,\n",
       " 'glo-cel-103': 7,\n",
       " 'glo-cel-006': 2,\n",
       " 'glo-cel-043': 13,\n",
       " 'glo-cel-083': 26,\n",
       " 'glo-cel-071': 12,\n",
       " 'glo-cel-093': 5,\n",
       " 'glo-cel-011': 5,\n",
       " 'glo-cel-078': 14,\n",
       " 'glo-cel-091': 10,\n",
       " 'glo-cel-084': 75,\n",
       " 'glo-cel-094': 15,\n",
       " 'glo-cel-079': 22,\n",
       " 'glo-cel-010': 1,\n",
       " 'glo-cel-049': 4,\n",
       " 'glo-cel-014': 10,\n",
       " 'glo-cel-007': 3,\n",
       " 'glo-cel-036': 2,\n",
       " 'glo-cel-064': 19,\n",
       " 'glo-cel-092': 20,\n",
       " 'glo-cel-077': 32,\n",
       " 'glo-cel-018': 10,\n",
       " 'glo-cel-085': 3,\n",
       " 'glo-cel-032': 1,\n",
       " 'glo-cel-057': 7,\n",
       " 'glo-cel-066': 30,\n",
       " 'glo-cel-095': 16,\n",
       " 'glo-cel-005': 2,\n",
       " 'glo-cel-076': 1,\n",
       " 'glo-cel-046': 15,\n",
       " 'glo-cel-009': 1,\n",
       " 'glo-cel-101': 21,\n",
       " 'glo-cel-051': 12,\n",
       " 'glo-cel-073': 25,\n",
       " 'glo-cel-056': 28,\n",
       " 'glo-cel-040': 8,\n",
       " 'glo-cel-013': 13,\n",
       " 'glo-cel-096': 41,\n",
       " 'glo-cel-061': 4,\n",
       " 'glo-cel-035': 10,\n",
       " 'glo-cel-100': 17,\n",
       " 'glo-cel-072': 2}"
      ]
     },
     "execution_count": 38,
     "metadata": {},
     "output_type": "execute_result"
    }
   ],
   "source": [
    "loc_hr_counter"
   ]
  },
  {
   "cell_type": "code",
   "execution_count": 39,
   "id": "7a8fddf4-ee8d-43d1-bd5b-41a0e47bd4ae",
   "metadata": {
    "tags": []
   },
   "outputs": [
    {
     "data": {
      "text/html": [
       "<div>\n",
       "<style scoped>\n",
       "    .dataframe tbody tr th:only-of-type {\n",
       "        vertical-align: middle;\n",
       "    }\n",
       "\n",
       "    .dataframe tbody tr th {\n",
       "        vertical-align: top;\n",
       "    }\n",
       "\n",
       "    .dataframe thead th {\n",
       "        text-align: right;\n",
       "    }\n",
       "</style>\n",
       "<table border=\"1\" class=\"dataframe\">\n",
       "  <thead>\n",
       "    <tr style=\"text-align: right;\">\n",
       "      <th></th>\n",
       "      <th>txn_uid</th>\n",
       "      <th>sub_uid</th>\n",
       "      <th>cel_uid</th>\n",
       "      <th>transaction_dt</th>\n",
       "      <th>transaction_hr</th>\n",
       "      <th>coords</th>\n",
       "    </tr>\n",
       "  </thead>\n",
       "  <tbody>\n",
       "    <tr>\n",
       "      <th>0</th>\n",
       "      <td>glo-txn-58921</td>\n",
       "      <td>glo-sub-027</td>\n",
       "      <td>glo-cel-005</td>\n",
       "      <td>2023-06-01</td>\n",
       "      <td>6</td>\n",
       "      <td>POINT (121.0281256 14.5208775)</td>\n",
       "    </tr>\n",
       "    <tr>\n",
       "      <th>2</th>\n",
       "      <td>glo-txn-58922</td>\n",
       "      <td>glo-sub-027</td>\n",
       "      <td>glo-cel-006</td>\n",
       "      <td>2023-06-01</td>\n",
       "      <td>7</td>\n",
       "      <td>POINT (121.03083 14.5277572)</td>\n",
       "    </tr>\n",
       "    <tr>\n",
       "      <th>1</th>\n",
       "      <td>glo-txn-58923</td>\n",
       "      <td>glo-sub-027</td>\n",
       "      <td>glo-cel-005</td>\n",
       "      <td>2023-06-01</td>\n",
       "      <td>9</td>\n",
       "      <td>POINT (121.0281256 14.5208775)</td>\n",
       "    </tr>\n",
       "    <tr>\n",
       "      <th>3</th>\n",
       "      <td>glo-txn-58924</td>\n",
       "      <td>glo-sub-027</td>\n",
       "      <td>glo-cel-007</td>\n",
       "      <td>2023-06-01</td>\n",
       "      <td>10</td>\n",
       "      <td>POINT (121.0342338 14.5181996)</td>\n",
       "    </tr>\n",
       "    <tr>\n",
       "      <th>4</th>\n",
       "      <td>glo-txn-58925</td>\n",
       "      <td>glo-sub-027</td>\n",
       "      <td>glo-cel-009</td>\n",
       "      <td>2023-06-01</td>\n",
       "      <td>13</td>\n",
       "      <td>POINT (121.0347379 14.5119065)</td>\n",
       "    </tr>\n",
       "    <tr>\n",
       "      <th>...</th>\n",
       "      <td>...</td>\n",
       "      <td>...</td>\n",
       "      <td>...</td>\n",
       "      <td>...</td>\n",
       "      <td>...</td>\n",
       "      <td>...</td>\n",
       "    </tr>\n",
       "    <tr>\n",
       "      <th>32</th>\n",
       "      <td>glo-txn-59195</td>\n",
       "      <td>glo-sub-027</td>\n",
       "      <td>glo-cel-039</td>\n",
       "      <td>2023-06-30</td>\n",
       "      <td>14</td>\n",
       "      <td>POINT (121.0536333 14.5133711)</td>\n",
       "    </tr>\n",
       "    <tr>\n",
       "      <th>275</th>\n",
       "      <td>glo-txn-59196</td>\n",
       "      <td>glo-sub-027</td>\n",
       "      <td>glo-cel-046</td>\n",
       "      <td>2023-06-30</td>\n",
       "      <td>16</td>\n",
       "      <td>POINT (121.0560984 14.5100246)</td>\n",
       "    </tr>\n",
       "    <tr>\n",
       "      <th>33</th>\n",
       "      <td>glo-txn-59197</td>\n",
       "      <td>glo-sub-027</td>\n",
       "      <td>glo-cel-039</td>\n",
       "      <td>2023-06-30</td>\n",
       "      <td>19</td>\n",
       "      <td>POINT (121.0536333 14.5133711)</td>\n",
       "    </tr>\n",
       "    <tr>\n",
       "      <th>276</th>\n",
       "      <td>glo-txn-59198</td>\n",
       "      <td>glo-sub-027</td>\n",
       "      <td>glo-cel-046</td>\n",
       "      <td>2023-06-30</td>\n",
       "      <td>20</td>\n",
       "      <td>POINT (121.0560984 14.5100246)</td>\n",
       "    </tr>\n",
       "    <tr>\n",
       "      <th>34</th>\n",
       "      <td>glo-txn-59199</td>\n",
       "      <td>glo-sub-027</td>\n",
       "      <td>glo-cel-039</td>\n",
       "      <td>2023-06-30</td>\n",
       "      <td>23</td>\n",
       "      <td>POINT (121.0536333 14.5133711)</td>\n",
       "    </tr>\n",
       "  </tbody>\n",
       "</table>\n",
       "<p>279 rows × 6 columns</p>\n",
       "</div>"
      ],
      "text/plain": [
       "           txn_uid      sub_uid      cel_uid transaction_dt  transaction_hr  \\\n",
       "0    glo-txn-58921  glo-sub-027  glo-cel-005     2023-06-01               6   \n",
       "2    glo-txn-58922  glo-sub-027  glo-cel-006     2023-06-01               7   \n",
       "1    glo-txn-58923  glo-sub-027  glo-cel-005     2023-06-01               9   \n",
       "3    glo-txn-58924  glo-sub-027  glo-cel-007     2023-06-01              10   \n",
       "4    glo-txn-58925  glo-sub-027  glo-cel-009     2023-06-01              13   \n",
       "..             ...          ...          ...            ...             ...   \n",
       "32   glo-txn-59195  glo-sub-027  glo-cel-039     2023-06-30              14   \n",
       "275  glo-txn-59196  glo-sub-027  glo-cel-046     2023-06-30              16   \n",
       "33   glo-txn-59197  glo-sub-027  glo-cel-039     2023-06-30              19   \n",
       "276  glo-txn-59198  glo-sub-027  glo-cel-046     2023-06-30              20   \n",
       "34   glo-txn-59199  glo-sub-027  glo-cel-039     2023-06-30              23   \n",
       "\n",
       "                             coords  \n",
       "0    POINT (121.0281256 14.5208775)  \n",
       "2      POINT (121.03083 14.5277572)  \n",
       "1    POINT (121.0281256 14.5208775)  \n",
       "3    POINT (121.0342338 14.5181996)  \n",
       "4    POINT (121.0347379 14.5119065)  \n",
       "..                              ...  \n",
       "32   POINT (121.0536333 14.5133711)  \n",
       "275  POINT (121.0560984 14.5100246)  \n",
       "33   POINT (121.0536333 14.5133711)  \n",
       "276  POINT (121.0560984 14.5100246)  \n",
       "34   POINT (121.0536333 14.5133711)  \n",
       "\n",
       "[279 rows x 6 columns]"
      ]
     },
     "execution_count": 39,
     "metadata": {},
     "output_type": "execute_result"
    }
   ],
   "source": [
    "traj # sanity check"
   ]
  },
  {
   "cell_type": "code",
   "execution_count": 40,
   "id": "790348fc-420d-4c3c-b435-ac6fad4be1a8",
   "metadata": {
    "tags": []
   },
   "outputs": [],
   "source": [
    "proba_per_site = [hr_spent/sum(loc_hr_counter.values()) for hr_spent in loc_hr_counter.values()]"
   ]
  },
  {
   "cell_type": "code",
   "execution_count": 41,
   "id": "510a8150-c64b-4700-a73c-8854b0ed34d1",
   "metadata": {
    "tags": []
   },
   "outputs": [
    {
     "data": {
      "text/plain": [
       "1.0000000000000002"
      ]
     },
     "execution_count": 41,
     "metadata": {},
     "output_type": "execute_result"
    }
   ],
   "source": [
    "np.sum(proba_per_site)"
   ]
  },
  {
   "cell_type": "code",
   "execution_count": 42,
   "id": "8b199375-b1d4-4ef1-91db-9f5b2029b81f",
   "metadata": {
    "tags": []
   },
   "outputs": [
    {
     "name": "stdout",
     "output_type": "stream",
     "text": [
      "1.5510208886967467\n"
     ]
    }
   ],
   "source": [
    "activity_entropy = reduce(lambda a, b: a + b, map(lambda p: p*np.log10(1/p), proba_per_site))\n",
    "print(activity_entropy)\n",
    "\n",
    "# TODO: add logbase2\n",
    "# try float dtype"
   ]
  },
  {
   "cell_type": "markdown",
   "id": "638e0496-4981-4c15-8fb6-e1a36aecd61a",
   "metadata": {},
   "source": [
    "Apply `calc_activity_entropy` to the scoring base"
   ]
  },
  {
   "cell_type": "code",
   "execution_count": 43,
   "id": "3ab4011e-3a92-4491-a300-14a19a43047b",
   "metadata": {
    "tags": []
   },
   "outputs": [],
   "source": [
    "def calc_activity_entropy(traj):\n",
    "    \n",
    "    try:\n",
    "    \n",
    "        loc_hrs = traj[[\"cel_uid\", \"transaction_hr\"]].values.tolist()\n",
    "        od_loc_hrs = list(zip(loc_hrs, loc_hrs[1:]))    \n",
    "        cels = list(set(traj.cel_uid.tolist()))\n",
    "\n",
    "        loc_hr_counter = dict(zip(cels, [0]*len(cels)))\n",
    "        for od_loc_hr in od_loc_hrs:\n",
    "            orig = od_loc_hr[0]\n",
    "            dest = od_loc_hr[1]\n",
    "            cel = orig[0]\n",
    "            if dest[1] > orig[1]:\n",
    "                time_elapsed = dest[1] - orig[1]\n",
    "            elif dest[1] < orig[1]:\n",
    "                # next time elapsed jumps to another day\n",
    "                time_elapsed = 24 - abs(dest[1] - orig[1])\n",
    "            loc_hr_counter[cel] = loc_hr_counter[cel] + time_elapsed\n",
    "\n",
    "        # time spent on a single site vs time spent on all sites\n",
    "        proba_per_site = [hr_spent/sum(loc_hr_counter.values()) for hr_spent in loc_hr_counter.values()]\n",
    "\n",
    "        # sum(p * log(1/p)) where p is the proba for a single site\n",
    "        activity_entropy = reduce(lambda a, b: a + b, map(lambda p: p*np.log10(1/p), proba_per_site))\n",
    "    \n",
    "        return activity_entropy\n",
    "    \n",
    "    except:\n",
    "        \n",
    "        return None"
   ]
  },
  {
   "cell_type": "code",
   "execution_count": 44,
   "id": "7acdd6b6-04fe-40ce-90ab-39b9fc78ff76",
   "metadata": {
    "tags": []
   },
   "outputs": [],
   "source": [
    "activity_entropys = []\n",
    "for sub in scoring_base.sub_uid.tolist():\n",
    "    traj = get_sub_traj(sub, date, window, fake_transactions, fake_cellsites)\n",
    "    activity_entropy = calc_activity_entropy(traj)\n",
    "    activity_entropys.append(activity_entropy)\n",
    "\n",
    "scoring_base[\"activity_entropy\"] = activity_entropys"
   ]
  },
  {
   "cell_type": "code",
   "execution_count": 45,
   "id": "f3bce81f-2487-42fc-a02b-5416e786d622",
   "metadata": {
    "tags": []
   },
   "outputs": [
    {
     "data": {
      "text/html": [
       "<div>\n",
       "<style scoped>\n",
       "    .dataframe tbody tr th:only-of-type {\n",
       "        vertical-align: middle;\n",
       "    }\n",
       "\n",
       "    .dataframe tbody tr th {\n",
       "        vertical-align: top;\n",
       "    }\n",
       "\n",
       "    .dataframe thead th {\n",
       "        text-align: right;\n",
       "    }\n",
       "</style>\n",
       "<table border=\"1\" class=\"dataframe\">\n",
       "  <thead>\n",
       "    <tr style=\"text-align: right;\">\n",
       "      <th></th>\n",
       "      <th>sub_uid</th>\n",
       "      <th>gender</th>\n",
       "      <th>age</th>\n",
       "      <th>name</th>\n",
       "      <th>chi_indicator</th>\n",
       "      <th>ewallet_user_indicator</th>\n",
       "      <th>total_travel_distance</th>\n",
       "      <th>radius_of_gyration</th>\n",
       "      <th>activity_entropy</th>\n",
       "    </tr>\n",
       "  </thead>\n",
       "  <tbody>\n",
       "    <tr>\n",
       "      <th>163</th>\n",
       "      <td>glo-sub-164</td>\n",
       "      <td>female</td>\n",
       "      <td>22</td>\n",
       "      <td>Gloria Trujillo</td>\n",
       "      <td>True</td>\n",
       "      <td>Y</td>\n",
       "      <td>115182.369226</td>\n",
       "      <td>1403.441567</td>\n",
       "      <td>1.510481</td>\n",
       "    </tr>\n",
       "    <tr>\n",
       "      <th>113</th>\n",
       "      <td>glo-sub-114</td>\n",
       "      <td>male</td>\n",
       "      <td>47</td>\n",
       "      <td>Derek Davis</td>\n",
       "      <td>True</td>\n",
       "      <td>Y</td>\n",
       "      <td>167734.591832</td>\n",
       "      <td>1493.636042</td>\n",
       "      <td>1.558330</td>\n",
       "    </tr>\n",
       "    <tr>\n",
       "      <th>128</th>\n",
       "      <td>glo-sub-129</td>\n",
       "      <td>female</td>\n",
       "      <td>51</td>\n",
       "      <td>Kimberly Reed</td>\n",
       "      <td>False</td>\n",
       "      <td>N</td>\n",
       "      <td>110645.495795</td>\n",
       "      <td>578.135988</td>\n",
       "      <td>0.949096</td>\n",
       "    </tr>\n",
       "    <tr>\n",
       "      <th>14</th>\n",
       "      <td>glo-sub-015</td>\n",
       "      <td>male</td>\n",
       "      <td>50</td>\n",
       "      <td>Michael Hamilton</td>\n",
       "      <td>True</td>\n",
       "      <td>N</td>\n",
       "      <td>121623.648025</td>\n",
       "      <td>1706.857045</td>\n",
       "      <td>1.541325</td>\n",
       "    </tr>\n",
       "    <tr>\n",
       "      <th>18</th>\n",
       "      <td>glo-sub-019</td>\n",
       "      <td>female</td>\n",
       "      <td>53</td>\n",
       "      <td>Rachael Meyers</td>\n",
       "      <td>False</td>\n",
       "      <td>Y</td>\n",
       "      <td>154121.590363</td>\n",
       "      <td>875.080916</td>\n",
       "      <td>1.180302</td>\n",
       "    </tr>\n",
       "  </tbody>\n",
       "</table>\n",
       "</div>"
      ],
      "text/plain": [
       "         sub_uid  gender  age              name  chi_indicator  \\\n",
       "163  glo-sub-164  female   22   Gloria Trujillo           True   \n",
       "113  glo-sub-114    male   47       Derek Davis           True   \n",
       "128  glo-sub-129  female   51     Kimberly Reed          False   \n",
       "14   glo-sub-015    male   50  Michael Hamilton           True   \n",
       "18   glo-sub-019  female   53    Rachael Meyers          False   \n",
       "\n",
       "    ewallet_user_indicator  total_travel_distance  radius_of_gyration  \\\n",
       "163                      Y          115182.369226         1403.441567   \n",
       "113                      Y          167734.591832         1493.636042   \n",
       "128                      N          110645.495795          578.135988   \n",
       "14                       N          121623.648025         1706.857045   \n",
       "18                       Y          154121.590363          875.080916   \n",
       "\n",
       "     activity_entropy  \n",
       "163          1.510481  \n",
       "113          1.558330  \n",
       "128          0.949096  \n",
       "14           1.541325  \n",
       "18           1.180302  "
      ]
     },
     "execution_count": 45,
     "metadata": {},
     "output_type": "execute_result"
    }
   ],
   "source": [
    "scoring_base.sample(5)"
   ]
  },
  {
   "cell_type": "markdown",
   "id": "41e45f70-32e3-41bb-843c-999ee6f19486",
   "metadata": {},
   "source": [
    "## 4. Visualization\n",
    "\n",
    "if stay_proba is low, likely to have:\n",
    "\n",
    "- LOWER total_travel_distance <br>\n",
    "- LOWER radius_of_gyration <br>\n",
    "- LOWER activity_entropy"
   ]
  },
  {
   "cell_type": "code",
   "execution_count": 26,
   "id": "73d1d6a7-d0f8-4524-8dc1-cb657d9764a4",
   "metadata": {},
   "outputs": [],
   "source": [
    "scoring_base.sort_values(by=\"total_travel_distance\", ascending=True, inplace=True)\n",
    "scoring_base.reset_index(drop=True, inplace=True)"
   ]
  },
  {
   "cell_type": "code",
   "execution_count": 27,
   "id": "133d02b8-fbc1-4863-95f9-c148f52bd228",
   "metadata": {},
   "outputs": [],
   "source": [
    "sample_sub_low = scoring_base.loc[0, \"sub_uid\"]\n",
    "sample_sub_mid = scoring_base.loc[len(scoring_base)//2, \"sub_uid\"]\n",
    "sample_sub_high = scoring_base.loc[len(scoring_base)-1, \"sub_uid\"]"
   ]
  },
  {
   "cell_type": "code",
   "execution_count": 28,
   "id": "87cc9081-af61-4495-96e3-1fe208023eb9",
   "metadata": {},
   "outputs": [],
   "source": [
    "sample_traj_low = get_sub_traj(sample_sub_low, date, window, fake_transactions, fake_cellsites)\n",
    "sample_traj_mid = get_sub_traj(sample_sub_mid, date, window, fake_transactions, fake_cellsites)\n",
    "sample_traj_high = get_sub_traj(sample_sub_high, date, window, fake_transactions, fake_cellsites)"
   ]
  },
  {
   "cell_type": "code",
   "execution_count": 83,
   "id": "7e705b90-b910-4c3b-881d-026e622d0924",
   "metadata": {},
   "outputs": [],
   "source": [
    "def visualize_route(traj):\n",
    "    coords = traj.coords.tolist()\n",
    "    od_pairs = list(zip(coords, coords[1:]))\n",
    "    routes = []\n",
    "    for od_pair in od_pairs:\n",
    "        routes.append(\n",
    "            shapely.geometry.LineString(\n",
    "                map(shapely.wkt.loads, od_pair)\n",
    "            )\n",
    "        )\n",
    "    fig, ax = plt.subplots(1, figsize=(7, 5))\n",
    "    gpd.GeoSeries(traj[\"coords\"].apply(shapely.wkt.loads)).plot(ax=ax, color=\"blue\", markersize=60, zorder=2);\n",
    "    gpd.GeoSeries(traj.head(1)[\"coords\"].apply(shapely.wkt.loads)).plot(ax=ax, color=\"green\", markersize=120, zorder=3);\n",
    "    gpd.GeoSeries(traj.tail(1)[\"coords\"].apply(shapely.wkt.loads)).plot(ax=ax, color=\"red\", markersize=120, zorder=3);\n",
    "    gpd.GeoSeries(routes).plot(ax=ax, color=\"grey\", linewidth=3, zorder=1, alpha=0.6)\n",
    "    ax.ticklabel_format(useOffset=False)\n",
    "    ax.legend([\"_\", \"orig\", \"dest\"])\n",
    "    plt.tight_layout()\n",
    "    plt.axis(\"off\")\n",
    "    plt.close()\n",
    "    return fig"
   ]
  },
  {
   "cell_type": "code",
   "execution_count": 84,
   "id": "950e4c09-273a-4aa4-b60c-237a5cfdbace",
   "metadata": {},
   "outputs": [
    {
     "name": "stdout",
     "output_type": "stream",
     "text": [
      "this sub travelled 51.18 KM in a month, LIKELY TO HAVE LOW MOBILITY\n"
     ]
    },
    {
     "data": {
      "image/png": "[encoded data removed]",
      "text/plain": [
       "<Figure size 700x500 with 1 Axes>"
      ]
     },
     "metadata": {},
     "output_type": "display_data"
    }
   ],
   "source": [
    "travel_distance_in_km = round(scoring_base.loc[scoring_base.sub_uid==sample_sub_low, \"total_travel_distance\"].item() / 1_000, 2)\n",
    "print(f\"this sub travelled {travel_distance_in_km} KM in a {window}, LIKELY TO HAVE LOW MOBILITY\")\n",
    "display(visualize_route(sample_traj_low))"
   ]
  },
  {
   "cell_type": "code",
   "execution_count": 85,
   "id": "69b3c59c-cd7a-4567-b2bb-4b1b80e6421d",
   "metadata": {},
   "outputs": [
    {
     "name": "stdout",
     "output_type": "stream",
     "text": [
      "this sub travelled 130.69 KM in a month, LIKELY TO HAVE MID MOBILITY\n"
     ]
    },
    {
     "data": {
      "image/png": "[encoded data removed]",
      "text/plain": [
       "<Figure size 700x500 with 1 Axes>"
      ]
     },
     "metadata": {},
     "output_type": "display_data"
    }
   ],
   "source": [
    "travel_distance_in_km = round(scoring_base.loc[scoring_base.sub_uid==sample_sub_mid, \"total_travel_distance\"].item() / 1_000, 2)\n",
    "print(f\"this sub travelled {travel_distance_in_km} KM in a {window}, LIKELY TO HAVE MID MOBILITY\")\n",
    "display(visualize_route(sample_traj_mid))"
   ]
  },
  {
   "cell_type": "code",
   "execution_count": 86,
   "id": "ff18d6fb-9ebe-4709-91db-ab9c6fa168ae",
   "metadata": {},
   "outputs": [
    {
     "name": "stdout",
     "output_type": "stream",
     "text": [
      "this sub travelled 266.82 KM in a month, LIKELY TO HAVE HIGH MOBILITY\n"
     ]
    },
    {
     "data": {
      "image/png": "[encoded data removed]",
      "text/plain": [
       "<Figure size 700x500 with 1 Axes>"
      ]
     },
     "metadata": {},
     "output_type": "display_data"
    }
   ],
   "source": [
    "travel_distance_in_km = round(scoring_base.loc[scoring_base.sub_uid==sample_sub_high, \"total_travel_distance\"].item() / 1_000, 2)\n",
    "print(f\"this sub travelled {travel_distance_in_km} KM in a {window}, LIKELY TO HAVE HIGH MOBILITY\")\n",
    "display(visualize_route(sample_traj_high))"
   ]
  },
  {
   "cell_type": "markdown",
   "id": "21fe5ecd-dc6c-403b-84a3-ddd08bfeb95e",
   "metadata": {},
   "source": [
    "TODO:\n",
    "1. Make your own Mobility Index: HIGH-MID-LOW"
   ]
  },
  {
   "cell_type": "markdown",
   "id": "d0e4c549-2d74-494b-9705-9b23638503f5",
   "metadata": {},
   "source": [
    "## RESULTS QA"
   ]
  },
  {
   "cell_type": "code",
   "execution_count": 46,
   "id": "3f1bc1ec-6026-4e23-ba2e-04c6008acc70",
   "metadata": {
    "tags": []
   },
   "outputs": [
    {
     "data": {
      "text/plain": [
       "mean    135365.978688\n",
       "std      34060.304293\n",
       "min      51182.047777\n",
       "25%     111875.270825\n",
       "50%     130679.843486\n",
       "75%     154596.447748\n",
       "max     266816.677803\n",
       "Name: total_travel_distance, dtype: float64"
      ]
     },
     "execution_count": 46,
     "metadata": {},
     "output_type": "execute_result"
    }
   ],
   "source": [
    "scoring_base.total_travel_distance.describe().iloc[1:]"
   ]
  },
  {
   "cell_type": "code",
   "execution_count": 47,
   "id": "eb1a9e2c-969c-4a39-9913-5a384e0edf50",
   "metadata": {
    "tags": []
   },
   "outputs": [
    {
     "data": {
      "text/plain": [
       "mean    1488.527682\n",
       "std      454.251797\n",
       "min      578.135988\n",
       "25%     1192.525488\n",
       "50%     1466.560640\n",
       "75%     1760.898864\n",
       "max     3112.181536\n",
       "Name: radius_of_gyration, dtype: float64"
      ]
     },
     "execution_count": 47,
     "metadata": {},
     "output_type": "execute_result"
    }
   ],
   "source": [
    "scoring_base.radius_of_gyration.describe().iloc[1:]"
   ]
  },
  {
   "cell_type": "code",
   "execution_count": 48,
   "id": "d4da9719-0af6-4781-968f-a62437241107",
   "metadata": {
    "tags": []
   },
   "outputs": [
    {
     "data": {
      "text/plain": [
       "mean    1.439375\n",
       "std     0.150639\n",
       "min     0.919816\n",
       "25%     1.358496\n",
       "50%     1.467371\n",
       "75%     1.541902\n",
       "max     1.741984\n",
       "Name: activity_entropy, dtype: float64"
      ]
     },
     "execution_count": 48,
     "metadata": {},
     "output_type": "execute_result"
    }
   ],
   "source": [
    "scoring_base.activity_entropy.describe().iloc[1:]"
   ]
  },
  {
   "cell_type": "code",
   "execution_count": 49,
   "id": "16f429b6-81ce-4848-afff-4fdcad6b52ab",
   "metadata": {
    "tags": []
   },
   "outputs": [],
   "source": [
    "sub = fake_subscribers.sample(1).sub_uid.item()\n",
    "traj = get_sub_traj(sub, date, window, fake_transactions, fake_cellsites)"
   ]
  },
  {
   "cell_type": "code",
   "execution_count": 50,
   "id": "d41950b7-f0fa-4fd4-8b46-09390b46bd42",
   "metadata": {},
   "outputs": [
    {
     "data": {
      "text/html": [
       "<div>\n",
       "<style scoped>\n",
       "    .dataframe tbody tr th:only-of-type {\n",
       "        vertical-align: middle;\n",
       "    }\n",
       "\n",
       "    .dataframe tbody tr th {\n",
       "        vertical-align: top;\n",
       "    }\n",
       "\n",
       "    .dataframe thead th {\n",
       "        text-align: right;\n",
       "    }\n",
       "</style>\n",
       "<table border=\"1\" class=\"dataframe\">\n",
       "  <thead>\n",
       "    <tr style=\"text-align: right;\">\n",
       "      <th></th>\n",
       "      <th>txn_uid</th>\n",
       "      <th>sub_uid</th>\n",
       "      <th>cel_uid</th>\n",
       "      <th>transaction_dt</th>\n",
       "      <th>transaction_hr</th>\n",
       "      <th>coords</th>\n",
       "    </tr>\n",
       "  </thead>\n",
       "  <tbody>\n",
       "    <tr>\n",
       "      <th>0</th>\n",
       "      <td>glo-txn-52770</td>\n",
       "      <td>glo-sub-075</td>\n",
       "      <td>glo-cel-018</td>\n",
       "      <td>2023-06-01</td>\n",
       "      <td>3</td>\n",
       "      <td>POINT (121.0448854 14.5140967)</td>\n",
       "    </tr>\n",
       "    <tr>\n",
       "      <th>1</th>\n",
       "      <td>glo-txn-52771</td>\n",
       "      <td>glo-sub-075</td>\n",
       "      <td>glo-cel-032</td>\n",
       "      <td>2023-06-01</td>\n",
       "      <td>4</td>\n",
       "      <td>POINT (121.0499415 14.5159856)</td>\n",
       "    </tr>\n",
       "    <tr>\n",
       "      <th>2</th>\n",
       "      <td>glo-txn-52772</td>\n",
       "      <td>glo-sub-075</td>\n",
       "      <td>glo-cel-022</td>\n",
       "      <td>2023-06-01</td>\n",
       "      <td>5</td>\n",
       "      <td>POINT (121.0462595 14.5165155)</td>\n",
       "    </tr>\n",
       "    <tr>\n",
       "      <th>3</th>\n",
       "      <td>glo-txn-52773</td>\n",
       "      <td>glo-sub-075</td>\n",
       "      <td>glo-cel-027</td>\n",
       "      <td>2023-06-01</td>\n",
       "      <td>7</td>\n",
       "      <td>POINT (121.0482758 14.5207167)</td>\n",
       "    </tr>\n",
       "    <tr>\n",
       "      <th>8</th>\n",
       "      <td>glo-txn-52774</td>\n",
       "      <td>glo-sub-075</td>\n",
       "      <td>glo-cel-036</td>\n",
       "      <td>2023-06-01</td>\n",
       "      <td>8</td>\n",
       "      <td>POINT (121.052231 14.519476)</td>\n",
       "    </tr>\n",
       "  </tbody>\n",
       "</table>\n",
       "</div>"
      ],
      "text/plain": [
       "         txn_uid      sub_uid      cel_uid transaction_dt  transaction_hr  \\\n",
       "0  glo-txn-52770  glo-sub-075  glo-cel-018     2023-06-01               3   \n",
       "1  glo-txn-52771  glo-sub-075  glo-cel-032     2023-06-01               4   \n",
       "2  glo-txn-52772  glo-sub-075  glo-cel-022     2023-06-01               5   \n",
       "3  glo-txn-52773  glo-sub-075  glo-cel-027     2023-06-01               7   \n",
       "8  glo-txn-52774  glo-sub-075  glo-cel-036     2023-06-01               8   \n",
       "\n",
       "                           coords  \n",
       "0  POINT (121.0448854 14.5140967)  \n",
       "1  POINT (121.0499415 14.5159856)  \n",
       "2  POINT (121.0462595 14.5165155)  \n",
       "3  POINT (121.0482758 14.5207167)  \n",
       "8    POINT (121.052231 14.519476)  "
      ]
     },
     "execution_count": 50,
     "metadata": {},
     "output_type": "execute_result"
    }
   ],
   "source": [
    "traj.head()"
   ]
  },
  {
   "cell_type": "code",
   "execution_count": 51,
   "id": "fb9828b7-9f32-46ae-9ff3-882a040c2c73",
   "metadata": {
    "tags": []
   },
   "outputs": [
    {
     "data": {
      "text/plain": [
       "1.5298917317491276"
      ]
     },
     "execution_count": 51,
     "metadata": {},
     "output_type": "execute_result"
    }
   ],
   "source": [
    "calc_activity_entropy(traj)"
   ]
  },
  {
   "cell_type": "code",
   "execution_count": 52,
   "id": "cfe187b1-6d52-4026-a275-49801c980e90",
   "metadata": {
    "tags": []
   },
   "outputs": [
    {
     "data": {
      "text/plain": [
       "1678.0288201073324"
      ]
     },
     "execution_count": 52,
     "metadata": {},
     "output_type": "execute_result"
    }
   ],
   "source": [
    "calc_radius_of_gyration(traj)"
   ]
  },
  {
   "cell_type": "code",
   "execution_count": 53,
   "id": "0f1a5faf-3269-40aa-8644-9cd3dfcacc90",
   "metadata": {
    "tags": []
   },
   "outputs": [
    {
     "data": {
      "text/plain": [
       "184442.6669373246"
      ]
     },
     "execution_count": 53,
     "metadata": {},
     "output_type": "execute_result"
    }
   ],
   "source": [
    "calc_total_travel_distance(traj)"
   ]
  },
  {
   "cell_type": "markdown",
   "id": "f892140d-5c96-41c5-ba12-7caa4e78e9e6",
   "metadata": {},
   "source": [
    "## PENDING ITEMS"
   ]
  },
  {
   "cell_type": "markdown",
   "id": "16d4dcd3-93f1-418e-b3f2-3ecb446f931e",
   "metadata": {},
   "source": [
    "[X] Redo the fake data simulation, make stay proba variable instead of fixed <br>\n",
    "[] Add visuals on total travel distance, radius of gyration, activity entropy <br>\n",
    "[] Finish lecture part 1, grammar of spatial data science"
   ]
  },
  {
   "cell_type": "markdown",
   "id": "e221b20a-a681-4a96-8015-fa1ebfe7f1a7",
   "metadata": {
    "jp-MarkdownHeadingCollapsed": true,
    "tags": []
   },
   "source": [
    "## ARCHIVE"
   ]
  },
  {
   "cell_type": "code",
   "execution_count": 14,
   "id": "931f072e-5ed5-4244-b507-a1e89df5f6b7",
   "metadata": {},
   "outputs": [],
   "source": [
    "def get_route_fig(r):\n",
    "    fig, ax = plt.subplots(1, 1)\n",
    "    gpd.GeoSeries(r).plot(ax=ax, linewidth=5, zorder=1)\n",
    "    orig = shapely.geometry.Point([r.xy[0][0], r.xy[1][0]])\n",
    "    dest = shapely.geometry.Point([r.xy[0][-1], r.xy[1][-1]])\n",
    "    gpd.GeoSeries(orig).plot(ax=ax, color=\"red\", markersize=250, zorder=2, alpha=0.8)\n",
    "    gpd.GeoSeries(dest).plot(ax=ax, color=\"green\", markersize=250, zorder=2, alpha=0.8)\n",
    "    plt.axis(\"off\")\n",
    "    ax.ticklabel_format(useOffset=False)\n",
    "    plt.close()\n",
    "    return fig\n",
    "\n",
    "import os\n",
    "import shapely\n",
    "import geopandas as gpd\n",
    "import matplotlib.pyplot as plt\n",
    "from PIL import Image\n",
    "import shutil"
   ]
  },
  {
   "cell_type": "code",
   "execution_count": 15,
   "id": "62a84d3b-2631-4174-bd03-e6438cf4f5e4",
   "metadata": {},
   "outputs": [
    {
     "ename": "AttributeError",
     "evalue": "'DataFrame' object has no attribute 'uid'",
     "output_type": "error",
     "traceback": [
      "\u001b[0;31m---------------------------------------------------------------------------\u001b[0m",
      "\u001b[0;31mAttributeError\u001b[0m                            Traceback (most recent call last)",
      "Input \u001b[0;32mIn [15]\u001b[0m, in \u001b[0;36m<cell line: 7>\u001b[0;34m()\u001b[0m\n\u001b[1;32m      7\u001b[0m \u001b[38;5;28;01mfor\u001b[39;00m sample_day \u001b[38;5;129;01min\u001b[39;00m days:\n\u001b[1;32m      8\u001b[0m     sites \u001b[38;5;241m=\u001b[39m fake_transactions\\\n\u001b[1;32m      9\u001b[0m         \u001b[38;5;241m.\u001b[39mloc[fake_transactions\u001b[38;5;241m.\u001b[39msub_id\u001b[38;5;241m==\u001b[39msample_sub]\\\n\u001b[1;32m     10\u001b[0m         \u001b[38;5;241m.\u001b[39mloc[fake_transactions\u001b[38;5;241m.\u001b[39mtransaction_dt\u001b[38;5;241m==\u001b[39msample_day]\\\n\u001b[1;32m     11\u001b[0m         \u001b[38;5;241m.\u001b[39mcel_id\u001b[38;5;241m.\u001b[39mtolist()\n\u001b[0;32m---> 12\u001b[0m     points \u001b[38;5;241m=\u001b[39m \u001b[38;5;28;43mlist\u001b[39;49m\u001b[43m(\u001b[49m\u001b[38;5;28;43mmap\u001b[39;49m\u001b[43m(\u001b[49m\u001b[38;5;28;43;01mlambda\u001b[39;49;00m\u001b[43m \u001b[49m\u001b[43mz\u001b[49m\u001b[43m:\u001b[49m\u001b[43m \u001b[49m\u001b[43mconvert_cel_to_point\u001b[49m\u001b[43m(\u001b[49m\u001b[43mz\u001b[49m\u001b[43m,\u001b[49m\u001b[43m \u001b[49m\u001b[43mfake_cellsites\u001b[49m\u001b[43m)\u001b[49m\u001b[43m,\u001b[49m\u001b[43m \u001b[49m\u001b[43msites\u001b[49m\u001b[43m)\u001b[49m\u001b[43m)\u001b[49m\n\u001b[1;32m     13\u001b[0m     r \u001b[38;5;241m=\u001b[39m shapely\u001b[38;5;241m.\u001b[39mgeometry\u001b[38;5;241m.\u001b[39mLineString(points)\n\u001b[1;32m     14\u001b[0m     route_figs\u001b[38;5;241m.\u001b[39mappend(get_route_fig(r))\n",
      "Input \u001b[0;32mIn [15]\u001b[0m, in \u001b[0;36m<lambda>\u001b[0;34m(z)\u001b[0m\n\u001b[1;32m      7\u001b[0m \u001b[38;5;28;01mfor\u001b[39;00m sample_day \u001b[38;5;129;01min\u001b[39;00m days:\n\u001b[1;32m      8\u001b[0m     sites \u001b[38;5;241m=\u001b[39m fake_transactions\\\n\u001b[1;32m      9\u001b[0m         \u001b[38;5;241m.\u001b[39mloc[fake_transactions\u001b[38;5;241m.\u001b[39msub_id\u001b[38;5;241m==\u001b[39msample_sub]\\\n\u001b[1;32m     10\u001b[0m         \u001b[38;5;241m.\u001b[39mloc[fake_transactions\u001b[38;5;241m.\u001b[39mtransaction_dt\u001b[38;5;241m==\u001b[39msample_day]\\\n\u001b[1;32m     11\u001b[0m         \u001b[38;5;241m.\u001b[39mcel_id\u001b[38;5;241m.\u001b[39mtolist()\n\u001b[0;32m---> 12\u001b[0m     points \u001b[38;5;241m=\u001b[39m \u001b[38;5;28mlist\u001b[39m(\u001b[38;5;28mmap\u001b[39m(\u001b[38;5;28;01mlambda\u001b[39;00m z: \u001b[43mconvert_cel_to_point\u001b[49m\u001b[43m(\u001b[49m\u001b[43mz\u001b[49m\u001b[43m,\u001b[49m\u001b[43m \u001b[49m\u001b[43mfake_cellsites\u001b[49m\u001b[43m)\u001b[49m, sites))\n\u001b[1;32m     13\u001b[0m     r \u001b[38;5;241m=\u001b[39m shapely\u001b[38;5;241m.\u001b[39mgeometry\u001b[38;5;241m.\u001b[39mLineString(points)\n\u001b[1;32m     14\u001b[0m     route_figs\u001b[38;5;241m.\u001b[39mappend(get_route_fig(r))\n",
      "File \u001b[0;32m~/Desktop/dev/aa/sds4gdsp/sds4gdsp/processor.py:21\u001b[0m, in \u001b[0;36mconvert_cel_to_point\u001b[0;34m(cel_id, ref)\u001b[0m\n\u001b[1;32m     19\u001b[0m \u001b[38;5;28;01mdef\u001b[39;00m \u001b[38;5;21mconvert_cel_to_point\u001b[39m(cel_id: \u001b[38;5;28mstr\u001b[39m, ref: pd\u001b[38;5;241m.\u001b[39mDataFrame):\n\u001b[1;32m     20\u001b[0m \u001b[38;5;250m    \u001b[39m\u001b[38;5;124;03m\"\"\"Convert cellsite to shapely point.\"\"\"\u001b[39;00m\n\u001b[0;32m---> 21\u001b[0m     coord \u001b[38;5;241m=\u001b[39m ref\u001b[38;5;241m.\u001b[39mloc[\u001b[43mref\u001b[49m\u001b[38;5;241;43m.\u001b[39;49m\u001b[43muid\u001b[49m\u001b[38;5;241m==\u001b[39mcel_id]\u001b[38;5;241m.\u001b[39mcoords\u001b[38;5;241m.\u001b[39mitem()\n\u001b[1;32m     22\u001b[0m     point \u001b[38;5;241m=\u001b[39m loads(coord)\n\u001b[1;32m     23\u001b[0m     \u001b[38;5;28;01mreturn\u001b[39;00m point\n",
      "File \u001b[0;32m~/opt/anaconda3/envs/gdsenv/lib/python3.8/site-packages/pandas/core/generic.py:5989\u001b[0m, in \u001b[0;36mNDFrame.__getattr__\u001b[0;34m(self, name)\u001b[0m\n\u001b[1;32m   5982\u001b[0m \u001b[38;5;28;01mif\u001b[39;00m (\n\u001b[1;32m   5983\u001b[0m     name \u001b[38;5;129;01mnot\u001b[39;00m \u001b[38;5;129;01min\u001b[39;00m \u001b[38;5;28mself\u001b[39m\u001b[38;5;241m.\u001b[39m_internal_names_set\n\u001b[1;32m   5984\u001b[0m     \u001b[38;5;129;01mand\u001b[39;00m name \u001b[38;5;129;01mnot\u001b[39;00m \u001b[38;5;129;01min\u001b[39;00m \u001b[38;5;28mself\u001b[39m\u001b[38;5;241m.\u001b[39m_metadata\n\u001b[1;32m   5985\u001b[0m     \u001b[38;5;129;01mand\u001b[39;00m name \u001b[38;5;129;01mnot\u001b[39;00m \u001b[38;5;129;01min\u001b[39;00m \u001b[38;5;28mself\u001b[39m\u001b[38;5;241m.\u001b[39m_accessors\n\u001b[1;32m   5986\u001b[0m     \u001b[38;5;129;01mand\u001b[39;00m \u001b[38;5;28mself\u001b[39m\u001b[38;5;241m.\u001b[39m_info_axis\u001b[38;5;241m.\u001b[39m_can_hold_identifiers_and_holds_name(name)\n\u001b[1;32m   5987\u001b[0m ):\n\u001b[1;32m   5988\u001b[0m     \u001b[38;5;28;01mreturn\u001b[39;00m \u001b[38;5;28mself\u001b[39m[name]\n\u001b[0;32m-> 5989\u001b[0m \u001b[38;5;28;01mreturn\u001b[39;00m \u001b[38;5;28;43mobject\u001b[39;49m\u001b[38;5;241;43m.\u001b[39;49m\u001b[38;5;21;43m__getattribute__\u001b[39;49m\u001b[43m(\u001b[49m\u001b[38;5;28;43mself\u001b[39;49m\u001b[43m,\u001b[49m\u001b[43m \u001b[49m\u001b[43mname\u001b[49m\u001b[43m)\u001b[49m\n",
      "\u001b[0;31mAttributeError\u001b[0m: 'DataFrame' object has no attribute 'uid'"
     ]
    }
   ],
   "source": [
    "# day in a life of a sub\n",
    "d = fake_transactions.copy()\n",
    "sample_sub = d.sample(1).sub_id.item()\n",
    "d = d.loc[d.sub_id==sample_sub]\n",
    "days = d.transaction_dt.unique().tolist()\n",
    "route_figs = []\n",
    "for sample_day in days:\n",
    "    sites = fake_transactions\\\n",
    "        .loc[fake_transactions.sub_id==sample_sub]\\\n",
    "        .loc[fake_transactions.transaction_dt==sample_day]\\\n",
    "        .cel_id.tolist()\n",
    "    points = list(map(lambda z: convert_cel_to_point(z, fake_cellsites), sites))\n",
    "    r = shapely.geometry.LineString(points)\n",
    "    route_figs.append(get_route_fig(r))\n",
    "os.mkdir(\"../sample/\")\n",
    "for idx, fig in enumerate(route_figs):\n",
    "    fname = \"../sample/{}_tmp.jpg\".format(idx+1)\n",
    "    fig.savefig(fname)\n",
    "imgs = load_images(\"../sample\")\n",
    "plot_images(imgs)\n",
    "shutil.rmtree(\"../sample\")"
   ]
  }
 ],
 "metadata": {
  "kernelspec": {
   "display_name": "Python 3 (ipykernel)",
   "language": "python",
   "name": "python3"
  },
  "language_info": {
   "codemirror_mode": {
    "name": "ipython",
    "version": 3
   },
   "file_extension": ".py",
   "mimetype": "text/x-python",
   "name": "python",
   "nbconvert_exporter": "python",
   "pygments_lexer": "ipython3",
   "version": "3.8.17"
  }
 },
 "nbformat": 4,
 "nbformat_minor": 5
}
