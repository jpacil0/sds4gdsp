{
 "cells": [
  {
   "cell_type": "markdown",
   "id": "f5ea6f4e-72aa-44ab-aebc-e5825fced998",
   "metadata": {
    "tags": []
   },
   "source": [
    "# 00 Setup"
   ]
  },
  {
   "cell_type": "markdown",
   "id": "2135524c-7141-4366-bc16-68547edee973",
   "metadata": {
    "jp-MarkdownHeadingCollapsed": true,
    "tags": []
   },
   "source": [
    "a. Prework\n",
    "\n",
    "By this time around, you should already be comfortable in writing code using Python, installing different packages from PyPI, and using virtual environments (conda, venv, poetry, etc). Please execute the following steps in your local machine:\n",
    "\n",
    "1. Clone the **sds4gdsp** github repository from this link\n",
    "```git clone https://github.com/jpacil0/sds4gdsp.git```\n",
    "\n",
    "2. Create a conda environment named **gdsenv** with **python=3.8.16**\n",
    "```conda create --name gdsenv python=3.8.16```\n",
    "\n",
    "3. Install **jupyterlab** in that environment, we will use this for the workshop\n",
    "```pip install jupyterlab```\n",
    "\n",
    "4. Install the packages from the **requirements.txt**, follow the **README.md**\n",
    "```pip install -r requirements.txt```\n",
    "\n",
    "5. Setup jupyter for rendering leaflet maps\n",
    "```conda install -c conda-forge ipyleaflet``` <br>\n",
    "```jupyter labextension install @jupyter-widgets/jupyterlab-manager jupyter-leaflet```\n",
    "\n",
    "b. Learning Objectives\n",
    "\n",
    "This lecture provides DSP cadets with little-to-no prior knowledge core competences in Spatial Data Science (SDS).\n",
    "\n",
    "1. Advancing their numerical, computational, and statistical literacy.\n",
    "2. Introducing basic principles of programming and state-of-the-art (SOTA) computational tools for SDS.\n",
    "3. Presenting a comprehensive overview of the main methodologies available to the Spatial Data Scientist, as well as their intuition as to how and when they can be applied.\n",
    "4. Focusing on real world applications of these techniques in a geographical and applied context.\n",
    "\n",
    "c. Learning Outcomes\n",
    "\n",
    "By the end of the lecture & workshop, DSP students will be able to:\n",
    "\n",
    "1. Demonstrate fundamental spatial data science concepts and be able to use the tools programmatically to import, manipulate and analyze spatial data in different formats.\n",
    "2. Understand the motivation and inner workings of the main methodological approcahes of SDS, both analytical and visual.\n",
    "3. Apply spatial analysis techniques and explain how to interpret the results, in a process of turning data into information."
   ]
  },
  {
   "cell_type": "code",
   "execution_count": null,
   "id": "3f285b72-9732-44bc-97b5-ba1864a79d53",
   "metadata": {},
   "outputs": [],
   "source": []
  }
 ],
 "metadata": {
  "kernelspec": {
   "display_name": "Python 3 (ipykernel)",
   "language": "python",
   "name": "python3"
  },
  "language_info": {
   "codemirror_mode": {
    "name": "ipython",
    "version": 3
   },
   "file_extension": ".py",
   "mimetype": "text/x-python",
   "name": "python",
   "nbconvert_exporter": "python",
   "pygments_lexer": "ipython3",
   "version": "3.8.16"
  }
 },
 "nbformat": 4,
 "nbformat_minor": 5
}
