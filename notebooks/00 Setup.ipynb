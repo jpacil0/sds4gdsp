{
 "cells": [
  {
   "cell_type": "markdown",
   "id": "f5ea6f4e-72aa-44ab-aebc-e5825fced998",
   "metadata": {
    "tags": []
   },
   "source": [
    "# Environment Setup"
   ]
  },
  {
   "cell_type": "markdown",
   "id": "7ba2aa66-242a-4d57-a8f9-b9a245adb282",
   "metadata": {
    "jp-MarkdownHeadingCollapsed": true,
    "tags": []
   },
   "source": [
    "By this time around, you should already be comfortable in writing code using Python, installing packages from PyPI, and using virtual environments (conda, venv, poetry, etc). Please execute the following steps in your local machine:\n",
    "\n",
    "1. Clone the **sds4gdsp** github repository from this link\n",
    "```git clone https://github.com/jpacil0/sds4gdsp.git```\n",
    "\n",
    "2. Create a conda environment named **gdsenv** with **python=3.8.16**\n",
    "```conda create --name gdsenv python=3.8.16```\n",
    "\n",
    "3. Install **jupyterlab** in that environment, we will use this for the workshop\n",
    "```pip install jupyterlab```\n",
    "\n",
    "4. Install the packages from the **requirements.txt**, follow the **README.md**\n",
    "```pip install -r requirements.txt```\n",
    "\n",
    "5. Setup jupyter and the widgets to be used\n",
    "```conda install -c conda-forge ipyleaflet``` <br>\n",
    "```jupyter labextension install @jupyter-widgets/jupyterlab-manager jupyter-leaflet```"
   ]
  }
 ],
 "metadata": {
  "kernelspec": {
   "display_name": "Python 3 (ipykernel)",
   "language": "python",
   "name": "python3"
  },
  "language_info": {
   "codemirror_mode": {
    "name": "ipython",
    "version": 3
   },
   "file_extension": ".py",
   "mimetype": "text/x-python",
   "name": "python",
   "nbconvert_exporter": "python",
   "pygments_lexer": "ipython3",
   "version": "3.8.16"
  }
 },
 "nbformat": 4,
 "nbformat_minor": 5
}
