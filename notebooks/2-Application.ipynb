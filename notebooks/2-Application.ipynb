{
 "cells": [
  {
   "cell_type": "markdown",
   "id": "48e64794-94a8-4f20-9077-7d9927cea576",
   "metadata": {},
   "source": [
    "# Application: Creating a Telco Mobility Index\n",
    "\n",
    "1. Total Travel Distance\n",
    "2. Radius of Gyration\n",
    "3. Activity Entropy"
   ]
  },
  {
   "cell_type": "code",
   "execution_count": null,
   "id": "07555507-e170-49ed-bd04-344f6280fcc6",
   "metadata": {},
   "outputs": [],
   "source": [
    "import os\n",
    "os.chdir(\"../\") # cd back to the root folder"
   ]
  },
  {
   "cell_type": "code",
   "execution_count": null,
   "id": "32b982a1-8e9e-4fd8-953e-cb38dfe4df84",
   "metadata": {},
   "outputs": [],
   "source": [
    "import warnings\n",
    "warnings.filterwarnings(\"ignore\")\n",
    "\n",
    "import random\n",
    "import shapely\n",
    "import pendulum\n",
    "import numpy as np\n",
    "import pandas as pd\n",
    "pd.options.display.max_rows=200\n",
    "import geopandas as gpd\n",
    "import matplotlib.pyplot as plt\n",
    "from sds4gdsp.processor import convert_cel_to_point, calc_haversine_distance\n",
    "from sds4gdsp.plotter import get_route_fig, load_images, plot_images\n",
    "from IPython.display import HTML, display\n",
    "from functools import reduce\n",
    "import pyproj\n",
    "from functools import partial"
   ]
  },
  {
   "cell_type": "markdown",
   "id": "ae64ef51-ab62-4b1a-98a7-cad554bd8c3f",
   "metadata": {},
   "source": [
    "Please load, take a peek, and examine the given datasets"
   ]
  },
  {
   "cell_type": "markdown",
   "id": "fedae261-5a1b-4a3c-aada-eabc8dbbc010",
   "metadata": {
    "jp-MarkdownHeadingCollapsed": true
   },
   "source": [
    "### Fake Subscribers\n",
    "\n",
    "The subscriber base, **by default**, should have:\n",
    "- 100 unique subs\n",
    "- At least 18 years old\n",
    "- At most 72 years old"
   ]
  },
  {
   "cell_type": "code",
   "execution_count": null,
   "id": "dae54e5e-f526-414b-b94f-ccccbc4fc1aa",
   "metadata": {
    "tags": []
   },
   "outputs": [],
   "source": [
    "filepath_subscribers = \"data/fake_subscribers.csv\"\n",
    "dtype = dict(\n",
    "    gender=\"category\",\n",
    "    age=int,\n",
    "    name=str,\n",
    "    chi_indicator=bool,\n",
    "    ewallet_user_indicator=\"category\"\n",
    ")\n",
    "fake_subscribers = pd.read_csv(filepath_subscribers, dtype=dtype)\n",
    "fake_subscribers.sample(5)"
   ]
  },
  {
   "cell_type": "code",
   "execution_count": null,
   "id": "85867b4c-6641-4e41-b9ba-8b96a0477b45",
   "metadata": {},
   "outputs": [],
   "source": [
    "fake_subscribers.shape"
   ]
  },
  {
   "cell_type": "code",
   "execution_count": null,
   "id": "db806cc6-7daa-4bb5-8934-94130bbd27c8",
   "metadata": {},
   "outputs": [],
   "source": [
    "cat_cols = [\"gender\", \"chi_indicator\", \"ewallet_user_indicator\"]\n",
    "fs_breakdown = fake_subscribers.groupby(cat_cols).size().reset_index(name=\"cnt\")\n",
    "fs_breakdown.assign(pcnt=fs_breakdown.cnt.div(len(fake_subscribers)).mul(100).round(2))"
   ]
  },
  {
   "cell_type": "markdown",
   "id": "d3996bd9-e0ee-4290-819f-62aea4eee36c",
   "metadata": {
    "jp-MarkdownHeadingCollapsed": true
   },
   "source": [
    "### Fake Cellsites\n",
    "\n",
    "The cellsites, **by default**, should:\n",
    "- be situated in Taguig City, Metro Manila, PH\n",
    "- have cellsites that are at least 300 meters apart"
   ]
  },
  {
   "cell_type": "code",
   "execution_count": null,
   "id": "976ed413-2d54-4e9c-924f-3794c869bea4",
   "metadata": {
    "tags": []
   },
   "outputs": [],
   "source": [
    "filepath_cellsites = \"data/fake_cellsites.csv\"\n",
    "fake_cellsites = pd.read_csv(filepath_cellsites)\n",
    "fake_cellsites.sample(5)"
   ]
  },
  {
   "cell_type": "code",
   "execution_count": null,
   "id": "8af95fe1-d862-4d12-873f-7bf39014b571",
   "metadata": {},
   "outputs": [],
   "source": [
    "fake_cellsites.shape"
   ]
  },
  {
   "cell_type": "code",
   "execution_count": null,
   "id": "3d8cb418-3ea5-45bd-964d-6d50b8eb7681",
   "metadata": {},
   "outputs": [],
   "source": [
    "HTML('<img src=\"../docs/fake_cellsites.png\" width=\"600\" height=\"600\"/>')"
   ]
  },
  {
   "cell_type": "markdown",
   "id": "2e0462d5-24c4-4bd8-9efc-073f75c4c9a5",
   "metadata": {},
   "source": [
    "### Fake Transactions\n",
    "\n",
    "The transactions, **by default**, should:\n",
    "- start the earliest at around 7:00 AM\n",
    "- cover the whole month of July 2023\n",
    "- have intra-Taguig transactions only"
   ]
  },
  {
   "cell_type": "code",
   "execution_count": null,
   "id": "c380abfe-6354-4d3a-9585-db9b09290dd2",
   "metadata": {
    "tags": []
   },
   "outputs": [],
   "source": [
    "filepath_transactions = \"data/fake_transactions.csv\"\n",
    "fake_transactions = pd.read_csv(filepath_transactions)"
   ]
  },
  {
   "cell_type": "code",
   "execution_count": null,
   "id": "7012c326-7d7e-4b03-a08e-9e4831de1e40",
   "metadata": {},
   "outputs": [],
   "source": [
    "fake_transactions.shape"
   ]
  },
  {
   "cell_type": "code",
   "execution_count": null,
   "id": "c634c960-3b85-4585-9cb6-390d7e8b25d0",
   "metadata": {
    "tags": []
   },
   "outputs": [],
   "source": [
    "min_date = pendulum.parse(fake_transactions.transaction_dt.min(), exact=True)\n",
    "max_date = pendulum.parse(fake_transactions.transaction_dt.max(), exact=True)\n",
    "period = pendulum.period(min_date, max_date)"
   ]
  },
  {
   "cell_type": "code",
   "execution_count": null,
   "id": "268d2a95-102e-4cd5-884a-8a2f200a0cb8",
   "metadata": {
    "tags": []
   },
   "outputs": [],
   "source": [
    "sample_dt = str(random.sample(list(period), 1)[0])\n",
    "filter_dt = fake_transactions.transaction_dt == sample_dt\n",
    "sample_sub = fake_subscribers.sub_uid.sample(1).item()\n",
    "filter_sub = fake_transactions.sub_uid == sample_sub\n",
    "fake_transactions.loc[filter_sub&filter_dt]"
   ]
  },
  {
   "cell_type": "markdown",
   "id": "a60cc41a-6a8f-4e73-9ec5-0143a00eb791",
   "metadata": {},
   "source": [
    "Create a helper function to help fetch subscriber trajectory"
   ]
  },
  {
   "cell_type": "code",
   "execution_count": null,
   "id": "0d04b7e3-4c08-4414-a063-8ed7ad108256",
   "metadata": {},
   "outputs": [],
   "source": [
    "def get_sub_traj(\n",
    "    sub: str,\n",
    "    date: str,\n",
    "    window: str,\n",
    "    transactions: pd.DataFrame,\n",
    "    cellsites: pd.DataFrame\n",
    "):\n",
    "    if window==\"month\":\n",
    "        date_filter = transactions.transaction_dt.apply(lambda d: pendulum.parse(d, exact=True).start_of(\"month\").to_date_string())==date\n",
    "    elif window==\"day\":\n",
    "        date_filter = transactions.transaction_dt==date\n",
    "    sub_filter = transactions.sub_uid==sub\n",
    "    transactions_red = transactions.loc[sub_filter&date_filter]\n",
    "    transactions_red = transactions_red.merge(cellsites, on=\"cel_uid\")\n",
    "    return transactions_red.sort_values(by=[\"transaction_dt\", \"transaction_hr\"], ascending=[1, 1]).reset_index(drop=True)\n",
    "\n",
    "def fetch_sample_trajs(scoring_base, metric, date, window, fake_transactions, fake_cellsites):\n",
    "    scoring_base.sort_values(by=metric, ascending=True, inplace=True)\n",
    "    scoring_base.reset_index(drop=True, inplace=True)\n",
    "    sample_sub_low = scoring_base.loc[0, \"sub_uid\"]\n",
    "    sample_sub_mid = scoring_base.loc[len(scoring_base)//2, \"sub_uid\"]\n",
    "    sample_sub_high = scoring_base.loc[len(scoring_base)-1, \"sub_uid\"]\n",
    "    sample_traj_low = get_sub_traj(sample_sub_low, date, window, fake_transactions, fake_cellsites)\n",
    "    sample_traj_mid = get_sub_traj(sample_sub_mid, date, window, fake_transactions, fake_cellsites)\n",
    "    sample_traj_high = get_sub_traj(sample_sub_high, date, window, fake_transactions, fake_cellsites)\n",
    "    return sample_traj_low, sample_traj_mid, sample_traj_high"
   ]
  },
  {
   "cell_type": "code",
   "execution_count": null,
   "id": "3aab204b-5d1e-441f-a04f-9b75422870dc",
   "metadata": {},
   "outputs": [],
   "source": [
    "get_sub_traj(\"glo-sub-001\", \"2023-06-01\", \"month\", fake_transactions, fake_cellsites)"
   ]
  },
  {
   "cell_type": "markdown",
   "id": "3f43fccf-7fe5-4560-9389-445c95a28efc",
   "metadata": {},
   "source": [
    "We'll use this scoring base moving forward"
   ]
  },
  {
   "cell_type": "code",
   "execution_count": null,
   "id": "a1f1aa24-3f7c-4446-95b5-cf4b060a285c",
   "metadata": {},
   "outputs": [],
   "source": [
    "scoring_base = fake_subscribers.copy()"
   ]
  },
  {
   "cell_type": "code",
   "execution_count": null,
   "id": "c69a84d4-27be-42d5-8582-e7bdda7eba28",
   "metadata": {
    "tags": []
   },
   "outputs": [],
   "source": [
    "# for uniformity\n",
    "date = \"2023-06-01\"\n",
    "window = \"month\""
   ]
  },
  {
   "cell_type": "markdown",
   "id": "6c45a37f-7ccc-4568-8a39-2a3c8f57bb5b",
   "metadata": {},
   "source": [
    "## 1. `total_travel_distance`\n",
    "\n",
    "Pertains to the total covered Haversine (or great circle) distance on a given time `window`. What constitutes a single movement is a cell site hop (due to subcriber's physical movement or a handoff).\n",
    "\n",
    "$ d = 2 \\cdot R \\cdot \\text{asin}\\left(\\sqrt{\\sin^2\\left(\\frac{{\\text{lat}_2 - \\text{lat}_1}}{2}\\right) + \\cos(\\text{lat}_1) \\cdot \\cos(\\text{lat}_2) \\cdot \\sin^2\\left(\\frac{{\\text{lng}_2 - \\text{lng}_1}}{2}\\right)}\\right) $ <br>\n",
    "\n",
    "$ d $ is the Haversine distance <br>\n",
    "$ R $ is the radius of Earth (6371 in Kilometers) <br>\n",
    "$ lat_1, lng_1 $ is the orig coordinate <br>\n",
    "$ lat_2, lng_2 $ is the dest coordinate"
   ]
  },
  {
   "cell_type": "markdown",
   "id": "26093911-798e-4934-b06f-8c34d9b6becc",
   "metadata": {
    "tags": []
   },
   "source": [
    "### a. **CHECK** the `total_travel_distance` of a subscriber."
   ]
  },
  {
   "cell_type": "code",
   "execution_count": null,
   "id": "0d11fc64-ce67-48c4-b899-e8c0cdfd4206",
   "metadata": {},
   "outputs": [],
   "source": [
    "sub = fake_subscribers.sample(1).sub_uid.item()\n",
    "traj = get_sub_traj(sub, date, window, fake_transactions, fake_cellsites)\n",
    "traj.head()"
   ]
  },
  {
   "cell_type": "code",
   "execution_count": null,
   "id": "54f7cc45-dd8b-416c-a9f1-c0616a3c3660",
   "metadata": {
    "tags": []
   },
   "outputs": [],
   "source": [
    "coords = traj.coords.tolist()\n",
    "od_pairs = list(zip(coords, coords[1:])) # think lag-1 in SQL"
   ]
  },
  {
   "cell_type": "code",
   "execution_count": null,
   "id": "521c4c23-048d-4a39-9886-0447294800b7",
   "metadata": {
    "tags": []
   },
   "outputs": [],
   "source": [
    "od_pairs[:4] # check with the traj table above, this should match"
   ]
  },
  {
   "cell_type": "code",
   "execution_count": null,
   "id": "c20f88dd-4892-44f8-8ef5-f673295a2074",
   "metadata": {
    "tags": []
   },
   "outputs": [],
   "source": [
    "# calculate the distance covered per cellsite hop, then sum those distances\n",
    "total_travel_distance = reduce(\n",
    "    lambda a, b: a + b,\n",
    "    list(map(lambda p: calc_haversine_distance(*p), od_pairs))\n",
    ")"
   ]
  },
  {
   "cell_type": "code",
   "execution_count": null,
   "id": "2a9d733b-cb64-46b5-94ed-1a054080cf6e",
   "metadata": {},
   "outputs": [],
   "source": [
    "# convert to kilometer\n",
    "total_travel_distance / 1_000"
   ]
  },
  {
   "cell_type": "markdown",
   "id": "be686856-e826-47c2-924f-d78699b19312",
   "metadata": {
    "tags": []
   },
   "source": [
    "### b. **APPLY** the `total_travel_distance` to the scoring base."
   ]
  },
  {
   "cell_type": "code",
   "execution_count": null,
   "id": "f0172880-f9be-4af0-970c-e35238ca795a",
   "metadata": {},
   "outputs": [],
   "source": [
    "def calc_total_travel_distance(traj):\n",
    "    coords = traj.coords.tolist()\n",
    "    od_pairs = list(zip(coords, coords[1:]))\n",
    "    total_travel_distance = reduce(\n",
    "        lambda a, b: a + b,\n",
    "        list(map(lambda p: calc_haversine_distance(*p), od_pairs))\n",
    "    )\n",
    "    return total_travel_distance"
   ]
  },
  {
   "cell_type": "code",
   "execution_count": null,
   "id": "54300eba-c2e6-4acc-93f8-3c8aad02c7f7",
   "metadata": {},
   "outputs": [],
   "source": [
    "total_travel_distances = []\n",
    "for sub in scoring_base.sub_uid.tolist():\n",
    "    traj = get_sub_traj(sub, date, window, fake_transactions, fake_cellsites)\n",
    "    total_travel_distance = calc_total_travel_distance(traj)\n",
    "    total_travel_distances.append(total_travel_distance)\n",
    "\n",
    "scoring_base[\"total_travel_distance\"] = total_travel_distances"
   ]
  },
  {
   "cell_type": "code",
   "execution_count": null,
   "id": "8ba2219e-64d7-468e-9dd8-e2a0235919bd",
   "metadata": {},
   "outputs": [],
   "source": [
    "scoring_base.sample(5)"
   ]
  },
  {
   "cell_type": "markdown",
   "id": "fd8ee569-bd17-431d-bb5d-1ed5f4e2a673",
   "metadata": {
    "tags": []
   },
   "source": [
    "### c. **VISUALIZE** the `total_travel_distance` results."
   ]
  },
  {
   "cell_type": "markdown",
   "id": "626f24e3-101e-44f7-852d-a89843ee9edc",
   "metadata": {},
   "source": [
    "Let's see the results for the whole scoring base."
   ]
  },
  {
   "cell_type": "code",
   "execution_count": null,
   "id": "1cfe1fc1-3439-41e7-9151-9d92b605f397",
   "metadata": {},
   "outputs": [],
   "source": [
    "def plot1_total_travel_distance(fake_transactions, scoring_base):\n",
    "    fig, (ax1, ax2) = plt.subplots(1, 2, figsize=(13, 5))\n",
    "    left = fake_transactions.groupby(\"sub_uid\").txn_uid.nunique().reset_index(name=\"num_transactions\")\n",
    "    right = scoring_base[[\"sub_uid\", \"total_travel_distance\"]]\n",
    "    f1 = left.merge(right, on=\"sub_uid\")\n",
    "    f1[\"total_travel_distance\"] = f1[\"total_travel_distance\"].div(1_000)\n",
    "    f1.plot(ax=ax1, kind=\"scatter\", x=\"num_transactions\", y=\"total_travel_distance\")\n",
    "    f2 = scoring_base.copy()\n",
    "    f2.total_travel_distance.div(1_000).hist(ax=ax2)\n",
    "    ax1.set_ylabel(\"travel distance (in KM)\")\n",
    "    ax1.set_xlabel(\"num transactions\")\n",
    "    ax2.set_xlabel(\"travel distance (in KM)\")\n",
    "    ax2.set_ylabel(\"frequency\")\n",
    "    ax2.grid(False)\n",
    "    plt.close();\n",
    "    return fig"
   ]
  },
  {
   "cell_type": "code",
   "execution_count": null,
   "id": "0860590e-5bf2-4066-9d3f-46f4afe7542f",
   "metadata": {},
   "outputs": [],
   "source": [
    "plot1_total_travel_distance(fake_transactions, scoring_base)"
   ]
  },
  {
   "cell_type": "markdown",
   "id": "4f8aac26-5ffc-441f-8be2-6a76aa18acc4",
   "metadata": {},
   "source": [
    "`NOTES`\n",
    "\n",
    "1. As expected, the number of transactions is **positively correlated** with the total travel distance\n",
    "2. The distribution of the total travel distance should mirror a **normal distibution** (refer to stay_proba)."
   ]
  },
  {
   "cell_type": "markdown",
   "id": "2f93ab10-9f2f-4864-87ce-d19066b1ab01",
   "metadata": {},
   "source": [
    "Let's check the extreme scenarios. Sample subs with the lowest, highest, and the median `total_travel_distance`"
   ]
  },
  {
   "cell_type": "code",
   "execution_count": null,
   "id": "de84887e-031a-437f-b7cb-33aba79e5334",
   "metadata": {},
   "outputs": [],
   "source": [
    "metric = \"total_travel_distance\"\n",
    "sample_traj_low, sample_traj_mid, sample_traj_high = fetch_sample_trajs(scoring_base, metric, date, window, fake_transactions, fake_cellsites)"
   ]
  },
  {
   "cell_type": "code",
   "execution_count": null,
   "id": "42550edd-6a09-47fe-b876-21874a56cd0b",
   "metadata": {},
   "outputs": [],
   "source": [
    "def fetch_total_travel_distance(traj):\n",
    "    coords = traj.coords.tolist()\n",
    "    od_pairs = list(zip(coords, coords[1:]))\n",
    "    dts = traj.transaction_dt.tolist()\n",
    "    hrs = traj.transaction_hr.tolist()\n",
    "    cels = traj.cel_uid.tolist()\n",
    "    hr_pairs = list(zip(hrs, hrs[1:]))\n",
    "    travel_distances = list(map(lambda p: calc_haversine_distance(*p), od_pairs))\n",
    "    dt_df = pd.DataFrame(list(zip(dts, dts[1:])), columns=[\"orig_dt\", \"dest_dt\"])\n",
    "    hr_df = pd.DataFrame(list(zip(hrs, hrs[1:])), columns=[\"orig_hr\", \"dest_hr\"])\n",
    "    cel_df = pd.DataFrame(list(zip(cels, cels[1:])), columns=[\"orig_cel\", \"dest_cel\"])\n",
    "    data = pd.concat([dt_df, hr_df, cel_df], axis=1)\n",
    "    data[\"travel_distance\"] = travel_distances\n",
    "    return data.loc[data.travel_distance>0].reset_index(drop=True)\n",
    "\n",
    "def plot_total_travel_distances(traj_low, traj_mid, traj_high):\n",
    "    fig, (ax1, ax2) = plt.subplots(1, 2, figsize=(13, 5))\n",
    "    sample_low = fetch_total_travel_distance(traj_low)\n",
    "    sample_mid = fetch_total_travel_distance(traj_mid)\n",
    "    sample_high = fetch_total_travel_distance(traj_high)\n",
    "    sample_low[\"orig_dt\"] = pd.to_datetime(sample_low[\"orig_dt\"])\n",
    "    sample_mid[\"orig_dt\"] = pd.to_datetime(sample_mid[\"orig_dt\"])\n",
    "    sample_high[\"orig_dt\"] = pd.to_datetime(sample_high[\"orig_dt\"])\n",
    "    sample_low.groupby(\"orig_dt\")[\"travel_distance\"].sum().div(1_000).plot(ax=ax1, color=\"red\", kind=\"line\")\n",
    "    sample_mid.groupby(\"orig_dt\")[\"travel_distance\"].sum().div(1_000).plot(ax=ax1, color=\"blue\", kind=\"line\")\n",
    "    sample_high.groupby(\"orig_dt\")[\"travel_distance\"].sum().div(1_000).plot(ax=ax1, color=\"green\", kind=\"line\")\n",
    "    sample_low.groupby(\"orig_dt\")[\"travel_distance\"].sum().div(1_000).plot(ax=ax2, color=\"red\", kind=\"density\")\n",
    "    sample_mid.groupby(\"orig_dt\")[\"travel_distance\"].sum().div(1_000).plot(ax=ax2, color=\"blue\", kind=\"density\")\n",
    "    sample_high.groupby(\"orig_dt\")[\"travel_distance\"].sum().div(1_000).plot(ax=ax2, color=\"green\", kind=\"density\")\n",
    "    ax1.set_ylabel(\"travel distance (in KM)\")\n",
    "    ax2.set_ylabel(\"density\")\n",
    "    ax1.set_xlabel(\"\")\n",
    "    ax2.set_xlabel(\"travel distance (in KM)\")\n",
    "    ax1.legend([\"low\", \"mid\", \"high\"], frameon=False)\n",
    "    ax2.legend([\"low\", \"mid\", \"high\"], frameon=False)\n",
    "    plt.tight_layout()\n",
    "    plt.close();\n",
    "    return fig"
   ]
  },
  {
   "cell_type": "code",
   "execution_count": null,
   "id": "c127ad5a-9176-4f3b-9248-e8d77592c8bc",
   "metadata": {},
   "outputs": [],
   "source": [
    "# this is a sample \n",
    "plot_total_travel_distances(sample_traj_low, sample_traj_mid, sample_traj_high)"
   ]
  },
  {
   "cell_type": "markdown",
   "id": "4cb30dfd-b5c7-4064-b60d-4db6a190db4d",
   "metadata": {},
   "source": [
    "`NOTE`\n",
    "\n",
    "This contains only a few sample of the scoring base, you should not draw conclusions for the whole population here. We just wanted to check the extreme scenarios, how varied is the day-to-day movement of these subs. We also wanted to check how is the travel distance distributed in a single month for the three extreme scenarios."
   ]
  },
  {
   "cell_type": "markdown",
   "id": "bdd2e188-eeb2-4e6f-b496-720927687082",
   "metadata": {},
   "source": [
    "## 2: `radius of_gyration`\n",
    "\n",
    "In mobility analysis, this indicates the characteristic distance travelled by the agent (in our case, the mobile subscriber). This is computed using the given formula.\n",
    "\n",
    "$ RoG = \\sqrt{\\frac{1}{n} \\sum_{i=1}^{n} d(CoM, coord_i)^2} $  <br>\n",
    "\n",
    "$ RoG $ is the Radius of Gyration <br>\n",
    "$ d $ is the Haversine distance <br>\n",
    "\n",
    "$ CoM = \\left( \\frac{1}{n} \\sum_{i=1}^{n} lat_i, \\frac{1}{n} \\sum_{i=1}^{n} lng_i \\right) $  <br>\n",
    "\n",
    "$ CoM $ is the Center of Mass\n"
   ]
  },
  {
   "cell_type": "markdown",
   "id": "e156f0d1-7066-445d-9de3-62572d57d54c",
   "metadata": {
    "tags": []
   },
   "source": [
    "### a. **CHECK** the `radius_of_gyration` of a subscriber."
   ]
  },
  {
   "cell_type": "code",
   "execution_count": null,
   "id": "13f55bc8-d380-4e2b-8dbd-c64cf770d082",
   "metadata": {
    "tags": []
   },
   "outputs": [],
   "source": [
    "sub = fake_subscribers.sample(1).sub_uid.item()\n",
    "traj = get_sub_traj(sub, date, window, fake_transactions, fake_cellsites)\n",
    "traj.head()"
   ]
  },
  {
   "cell_type": "code",
   "execution_count": null,
   "id": "a9407154-7cf4-485c-949a-0d3f25d0d3e9",
   "metadata": {
    "tags": []
   },
   "outputs": [],
   "source": [
    "coords = traj.coords.tolist()"
   ]
  },
  {
   "cell_type": "code",
   "execution_count": null,
   "id": "f51d585a-e8cc-469f-a289-c4ed3f52d2b4",
   "metadata": {
    "tags": []
   },
   "outputs": [],
   "source": [
    "mean_lat = np.mean([shapely.wkt.loads(coord).y for coord in coords])\n",
    "mean_lng = np.mean([shapely.wkt.loads(coord).x for coord in coords])\n",
    "com = shapely.geometry.Point(mean_lng, mean_lat).wkt"
   ]
  },
  {
   "cell_type": "code",
   "execution_count": null,
   "id": "4322a560-9b9e-4694-a208-f756066fae31",
   "metadata": {
    "tags": []
   },
   "outputs": [],
   "source": [
    "print(mean_lat, mean_lng, com)"
   ]
  },
  {
   "cell_type": "code",
   "execution_count": null,
   "id": "d75a5b5f-2a7d-4b48-b2a5-99f43d8d4af5",
   "metadata": {
    "tags": []
   },
   "outputs": [],
   "source": [
    "# compute for the distances from center of mass to each of the individual points\n",
    "pt_pairs = list(zip(coords, [com]*len(coords))) # points to center of mass\n",
    "radius_of_gyration = np.sqrt(\n",
    "    reduce(\n",
    "        lambda a, b: a + b,\n",
    "        list(map(lambda p: calc_haversine_distance(*p)**2, pt_pairs))\n",
    "    ) / len(coords)\n",
    ")"
   ]
  },
  {
   "cell_type": "code",
   "execution_count": null,
   "id": "99b78d6f-40a9-475f-9196-67e4308e77ae",
   "metadata": {
    "tags": []
   },
   "outputs": [],
   "source": [
    "radius_of_gyration / 1_000"
   ]
  },
  {
   "cell_type": "markdown",
   "id": "14923c0b-c1e2-44d6-b806-5e49d43417a9",
   "metadata": {
    "tags": []
   },
   "source": [
    "### b. **APPLY** the `radius_of_gyration` to the scoring base."
   ]
  },
  {
   "cell_type": "code",
   "execution_count": null,
   "id": "ad874f99-71a2-4784-8e84-a334dde6ff5d",
   "metadata": {
    "tags": []
   },
   "outputs": [],
   "source": [
    "def calc_radius_of_gyration(traj):\n",
    "    \n",
    "    coords = traj.coords.tolist()\n",
    "    \n",
    "    # compute for the center of mass\n",
    "    mean_lat = np.mean([shapely.wkt.loads(coord).y for coord in coords])\n",
    "    mean_lng = np.mean([shapely.wkt.loads(coord).x for coord in coords])\n",
    "    com = shapely.geometry.Point(mean_lng, mean_lat).wkt\n",
    "    \n",
    "    # compute for the distances from CoM to individual points\n",
    "    pt_pairs = list(zip(coords, [com]*len(coords)))\n",
    "    radius_of_gyration = np.sqrt(\n",
    "        reduce(\n",
    "            lambda a, b: a + b,\n",
    "            list(map(lambda p: calc_haversine_distance(*p)**2, pt_pairs))\n",
    "        ) / len(coords)\n",
    "    )\n",
    "    return com, radius_of_gyration"
   ]
  },
  {
   "cell_type": "code",
   "execution_count": null,
   "id": "e5db0cfc-ff41-4488-8f01-281aa556a3b1",
   "metadata": {
    "tags": []
   },
   "outputs": [],
   "source": [
    "radius_of_gyrations = []\n",
    "for sub in scoring_base.sub_uid.tolist():\n",
    "    traj = get_sub_traj(sub, date, window, fake_transactions, fake_cellsites)\n",
    "    radius_of_gyration = calc_radius_of_gyration(traj)[-1]\n",
    "    radius_of_gyrations.append(radius_of_gyration)\n",
    "\n",
    "scoring_base[\"radius_of_gyration\"] = radius_of_gyrations"
   ]
  },
  {
   "cell_type": "code",
   "execution_count": null,
   "id": "4a168425-fbbc-4fbd-b698-59a7bb74d55b",
   "metadata": {
    "tags": []
   },
   "outputs": [],
   "source": [
    "scoring_base.sample(5)"
   ]
  },
  {
   "cell_type": "markdown",
   "id": "93145fb3-5049-49ed-8900-8b35b5b92914",
   "metadata": {
    "tags": []
   },
   "source": [
    "### c. **VISUALIZE** the `radius of gyration` results."
   ]
  },
  {
   "cell_type": "code",
   "execution_count": null,
   "id": "0b011fdd-cfcf-4ea6-87f3-cba9ed7d5a52",
   "metadata": {
    "tags": []
   },
   "outputs": [],
   "source": [
    "metric = \"radius_of_gyration\"\n",
    "sample_traj_low, sample_traj_mid, sample_traj_high = fetch_sample_trajs(scoring_base, metric, date, window, fake_transactions, fake_cellsites)"
   ]
  },
  {
   "cell_type": "code",
   "execution_count": null,
   "id": "8e1563df-adf5-4236-b9d0-3f28a2442365",
   "metadata": {
    "tags": []
   },
   "outputs": [],
   "source": [
    "sample_traj_low.head()"
   ]
  },
  {
   "cell_type": "code",
   "execution_count": null,
   "id": "4bf996c2-907c-4b09-928c-77fd5de7e8a4",
   "metadata": {
    "tags": []
   },
   "outputs": [],
   "source": [
    "def buffer_from_point(lat, lng, radius):\n",
    "    wgs84_globe = pyproj.Proj(proj=\"latlong\", ellps=\"WGS84\")\n",
    "    aeqd = pyproj.Proj(proj=\"aeqd\", ellps=\"WGS84\", datum=\"WGS84\", lat_0=lat, lon_0=lng)\n",
    "    project_coords = pyproj.transform(wgs84_globe, aeqd, lng, lat)\n",
    "    aeqd_buffer = shapely.geometry.Point(project_coords).buffer(radius) \n",
    "    projected_pol = shapely.ops.transform(partial(pyproj.transform, aeqd, wgs84_globe), aeqd_buffer)\n",
    "    return projected_pol\n",
    "\n",
    "def plot_radius_of_gyrations(traj_low, traj_mid, traj_high):\n",
    "    com_low, rog_low = calc_radius_of_gyration(traj_low)\n",
    "    com_mid, rog_mid = calc_radius_of_gyration(traj_mid)\n",
    "    com_high, rog_high = calc_radius_of_gyration(traj_high)\n",
    "    fig, (ax1, ax2, ax3) = plt.subplots(1, 3, figsize=(13, 5), sharex=True, sharey=True)\n",
    "    gpd.GeoSeries(shapely.wkt.loads(com_low)).plot(ax=ax1, marker=\"*\", color=\"black\", markersize=300, zorder=2)\n",
    "    gpd.GeoSeries(buffer_from_point(lat=shapely.wkt.loads(com_low).y, lng=shapely.wkt.loads(com_low).x, radius=rog_low))\\\n",
    "        .plot(ax=ax1, color=\"white\", edgecolor=\"black\", zorder=3, alpha=0.2, linewidth=10)\n",
    "    gpd.GeoSeries(shapely.wkt.loads(com_mid)).plot(ax=ax2, marker=\"*\", color=\"black\", markersize=300, zorder=2)\n",
    "    gpd.GeoSeries(buffer_from_point(lat=shapely.wkt.loads(com_mid).y, lng=shapely.wkt.loads(com_mid).x, radius=rog_mid))\\\n",
    "        .plot(ax=ax2, color=\"white\", edgecolor=\"black\", zorder=3, alpha=0.2, linewidth=10)\n",
    "    gpd.GeoSeries(shapely.wkt.loads(com_high)).plot(ax=ax3, marker=\"*\", color=\"black\", markersize=300, zorder=2)\n",
    "    gpd.GeoSeries(buffer_from_point(lat=shapely.wkt.loads(com_high).y, lng=shapely.wkt.loads(com_high).x, radius=rog_high))\\\n",
    "        .plot(ax=ax3, color=\"white\", edgecolor=\"black\", zorder=3, alpha=0.2, linewidth=10)\n",
    "    gpd.GeoSeries(traj_low[\"coords\"].apply(shapely.wkt.loads)).plot(ax=ax1, color=\"red\", markersize=60, zorder=1)\n",
    "    gpd.GeoSeries(traj_mid[\"coords\"].apply(shapely.wkt.loads)).plot(ax=ax2, color=\"blue\", markersize=60, zorder=1)\n",
    "    gpd.GeoSeries(traj_high[\"coords\"].apply(shapely.wkt.loads)).plot(ax=ax3, color=\"green\", markersize=60, zorder=1)\n",
    "    ax1.ticklabel_format(useOffset=False)\n",
    "    ax2.ticklabel_format(useOffset=False)\n",
    "    ax3.ticklabel_format(useOffset=False)\n",
    "    ax1.set_xticks([])\n",
    "    ax1.set_yticks([])\n",
    "    ax2.set_xticks([])\n",
    "    ax2.set_yticks([])\n",
    "    ax3.set_xticks([])\n",
    "    ax3.set_yticks([])\n",
    "    plt.tight_layout()\n",
    "    plt.close();\n",
    "    return fig\n",
    "\n",
    "def plot_radius_of_gyration(traj):\n",
    "    com, rog = calc_radius_of_gyration(traj)\n",
    "    fig, ax = plt.subplots(1, 1, figsize=(5, 5))\n",
    "    gpd.GeoSeries(shapely.wkt.loads(com)).plot(ax=ax, marker=\"*\", color=\"black\", markersize=300, zorder=2)\n",
    "    gpd.GeoSeries(buffer_from_point(lat=shapely.wkt.loads(com).y, lng=shapely.wkt.loads(com).x, radius=rog))\\\n",
    "        .plot(ax=ax, color=\"white\", edgecolor=\"black\", zorder=3, alpha=0.2, linewidth=10)\n",
    "    gpd.GeoSeries(traj[\"coords\"].apply(shapely.wkt.loads)).plot(ax=ax, color=\"red\", markersize=60, zorder=1)\n",
    "    ax.ticklabel_format(useOffset=False)\n",
    "    plt.axis(\"off\")\n",
    "    ax.set_xticks([])\n",
    "    ax.set_yticks([])\n",
    "    plt.tight_layout()\n",
    "    plt.close();\n",
    "    return fig"
   ]
  },
  {
   "cell_type": "code",
   "execution_count": null,
   "id": "f6352d91-730d-4af4-93da-beba575d665f",
   "metadata": {
    "tags": []
   },
   "outputs": [],
   "source": [
    "plot_radius_of_gyrations(sample_traj_low, sample_traj_mid, sample_traj_high)"
   ]
  },
  {
   "cell_type": "markdown",
   "id": "5a53d0d9-350a-4b12-bf28-d5491b6918a8",
   "metadata": {},
   "source": [
    "`NOTE`\n",
    "\n",
    "This contains only a handful sample of the scoring base, particularly the highest, lowest, and the median `radius_of_gyrations`. This simply illustrates (visually) the extremity of the range of the radius for each scenarios, to understand the concept of RoG better."
   ]
  },
  {
   "cell_type": "markdown",
   "id": "584edfc0-23e8-427a-9023-200758c5c4a5",
   "metadata": {
    "tags": []
   },
   "source": [
    "## 3: `activity_entropy`"
   ]
  },
  {
   "cell_type": "markdown",
   "id": "e79f6381-f25a-4ea8-8ba0-208863c5b950",
   "metadata": {
    "tags": []
   },
   "source": [
    "### a. **CHECK** the `activity_entropy` of a subscriber."
   ]
  },
  {
   "cell_type": "code",
   "execution_count": null,
   "id": "bba3f8d8-43f6-4b4e-88d2-c5109612bdc8",
   "metadata": {
    "tags": []
   },
   "outputs": [],
   "source": [
    "sub = fake_subscribers.sample(1).sub_uid.item()\n",
    "traj = get_sub_traj(sub, date, window, fake_transactions, fake_cellsites)\n",
    "traj.head()"
   ]
  },
  {
   "cell_type": "code",
   "execution_count": null,
   "id": "916c3acf-d49d-474a-bc83-36017b52439f",
   "metadata": {
    "tags": []
   },
   "outputs": [],
   "source": [
    "loc_hrs = traj[[\"cel_uid\", \"transaction_hr\"]].values.tolist()\n",
    "od_loc_hrs = list(zip(loc_hrs, loc_hrs[1:]))"
   ]
  },
  {
   "cell_type": "code",
   "execution_count": null,
   "id": "a73aca11-0214-407f-8cef-6d0b161b7555",
   "metadata": {
    "tags": []
   },
   "outputs": [],
   "source": [
    "cels = list(set(traj.cel_uid.tolist()))"
   ]
  },
  {
   "cell_type": "code",
   "execution_count": null,
   "id": "a19fcebb-6482-4882-adb2-e507a1e19fe8",
   "metadata": {
    "tags": []
   },
   "outputs": [],
   "source": [
    "loc_hr_counter = dict(zip(cels, [0]*len(cels))) # THIS IS THE HASHMAP\n",
    "for od_loc_hr in od_loc_hrs:\n",
    "    orig = od_loc_hr[0]\n",
    "    dest = od_loc_hr[1]\n",
    "    cel = orig[0]\n",
    "    if dest[1] > orig[1]:\n",
    "        time_elapsed = dest[1] - orig[1]\n",
    "    elif dest[1] < orig[1]:\n",
    "        # next time elapsed jumps to another day\n",
    "        time_elapsed = 24 - abs(dest[1] - orig[1])\n",
    "    loc_hr_counter[cel] = loc_hr_counter[cel] + time_elapsed #  # I UPDATED THE HASHMAP"
   ]
  },
  {
   "cell_type": "code",
   "execution_count": null,
   "id": "1b712e74-1d02-48fd-90eb-c87f70f16fc5",
   "metadata": {
    "tags": []
   },
   "outputs": [],
   "source": [
    "loc_hr_counter"
   ]
  },
  {
   "cell_type": "code",
   "execution_count": null,
   "id": "7a8fddf4-ee8d-43d1-bd5b-41a0e47bd4ae",
   "metadata": {
    "tags": []
   },
   "outputs": [],
   "source": [
    "traj # sanity check"
   ]
  },
  {
   "cell_type": "code",
   "execution_count": null,
   "id": "790348fc-420d-4c3c-b435-ac6fad4be1a8",
   "metadata": {
    "tags": []
   },
   "outputs": [],
   "source": [
    "proba_per_site = [hr_spent/sum(loc_hr_counter.values()) for hr_spent in loc_hr_counter.values()]"
   ]
  },
  {
   "cell_type": "code",
   "execution_count": null,
   "id": "510a8150-c64b-4700-a73c-8854b0ed34d1",
   "metadata": {
    "tags": []
   },
   "outputs": [],
   "source": [
    "np.sum(proba_per_site)"
   ]
  },
  {
   "cell_type": "code",
   "execution_count": null,
   "id": "8b199375-b1d4-4ef1-91db-9f5b2029b81f",
   "metadata": {
    "tags": []
   },
   "outputs": [],
   "source": [
    "activity_entropy = reduce(lambda a, b: a + b, map(lambda p: p*np.log2(1/p), proba_per_site))\n",
    "print(activity_entropy)\n",
    "\n",
    "# TODO: add logbase2\n",
    "# try float dtype"
   ]
  },
  {
   "cell_type": "markdown",
   "id": "385ac514-6b6e-48c3-b5f7-5379eb1b7753",
   "metadata": {
    "tags": []
   },
   "source": [
    "### b. **APPLY** the `activity_entropy` to the scoring base."
   ]
  },
  {
   "cell_type": "code",
   "execution_count": null,
   "id": "3ab4011e-3a92-4491-a300-14a19a43047b",
   "metadata": {
    "tags": []
   },
   "outputs": [],
   "source": [
    "def calc_activity_entropy(traj):\n",
    "    \n",
    "    try:\n",
    "    \n",
    "        loc_hrs = traj[[\"cel_uid\", \"transaction_hr\"]].values.tolist()\n",
    "        od_loc_hrs = list(zip(loc_hrs, loc_hrs[1:]))    \n",
    "        cels = list(set(traj.cel_uid.tolist()))\n",
    "\n",
    "        loc_hr_counter = dict(zip(cels, [0]*len(cels)))\n",
    "        for od_loc_hr in od_loc_hrs:\n",
    "            orig = od_loc_hr[0]\n",
    "            dest = od_loc_hr[1]\n",
    "            cel = orig[0]\n",
    "            if dest[1] > orig[1]:\n",
    "                time_elapsed = dest[1] - orig[1]\n",
    "            elif dest[1] < orig[1]:\n",
    "                # next time elapsed jumps to another day\n",
    "                time_elapsed = 24 - abs(dest[1] - orig[1])\n",
    "            loc_hr_counter[cel] = loc_hr_counter[cel] + time_elapsed\n",
    "\n",
    "        # time spent on a single site vs time spent on all sites\n",
    "        proba_per_site = [hr_spent/sum(loc_hr_counter.values()) for hr_spent in loc_hr_counter.values()]\n",
    "\n",
    "        # sum(p * log(1/p)) where p is the proba for a single site\n",
    "        activity_entropy = reduce(lambda a, b: a + b, map(lambda p: p*np.log2(1/p), proba_per_site))\n",
    "    \n",
    "        return activity_entropy\n",
    "    \n",
    "    except:\n",
    "        \n",
    "        return None"
   ]
  },
  {
   "cell_type": "code",
   "execution_count": null,
   "id": "7acdd6b6-04fe-40ce-90ab-39b9fc78ff76",
   "metadata": {
    "tags": []
   },
   "outputs": [],
   "source": [
    "activity_entropys = []\n",
    "for sub in scoring_base.sub_uid.tolist():\n",
    "    traj = get_sub_traj(sub, date, window, fake_transactions, fake_cellsites)\n",
    "    activity_entropy = calc_activity_entropy(traj)\n",
    "    activity_entropys.append(activity_entropy)\n",
    "\n",
    "scoring_base[\"activity_entropy\"] = activity_entropys"
   ]
  },
  {
   "cell_type": "code",
   "execution_count": null,
   "id": "f3bce81f-2487-42fc-a02b-5416e786d622",
   "metadata": {
    "tags": []
   },
   "outputs": [],
   "source": [
    "scoring_base.sample(5)"
   ]
  },
  {
   "cell_type": "markdown",
   "id": "41e45f70-32e3-41bb-843c-999ee6f19486",
   "metadata": {
    "tags": []
   },
   "source": [
    "## 4. Miscellany"
   ]
  },
  {
   "cell_type": "code",
   "execution_count": null,
   "id": "ad599159-3966-4ec5-8d7e-5bfecc399e44",
   "metadata": {},
   "outputs": [],
   "source": [
    "def plot_routes(traj_low, traj_mid, traj_high):\n",
    "    coords_low = traj_low.coords.tolist()\n",
    "    coords_mid = traj_mid.coords.tolist()\n",
    "    coords_high = traj_high.coords.tolist()\n",
    "    od_pairs_low = list(zip(coords_low, coords_low[1:]))\n",
    "    od_pairs_mid = list(zip(coords_mid, coords_mid[1:]))\n",
    "    od_pairs_high = list(zip(coords_high, coords_high[1:]))\n",
    "    routes_low, routes_mid, routes_high = [], [], []\n",
    "    for od_pair in od_pairs_low:\n",
    "        routes_low.append(\n",
    "            shapely.geometry.LineString(\n",
    "                map(shapely.wkt.loads, od_pair)\n",
    "            )\n",
    "        )\n",
    "    for od_pair in od_pairs_mid:\n",
    "        routes_mid.append(\n",
    "            shapely.geometry.LineString(\n",
    "                map(shapely.wkt.loads, od_pair)\n",
    "            )\n",
    "        )\n",
    "    for od_pair in od_pairs_high:\n",
    "        routes_high.append(\n",
    "            shapely.geometry.LineString(\n",
    "                map(shapely.wkt.loads, od_pair)\n",
    "            )\n",
    "        )\n",
    "    fig, (ax1, ax2, ax3) = plt.subplots(1, 3, figsize=(13, 7), sharex=True, sharey=True)\n",
    "    gpd.GeoSeries(traj_low[\"coords\"].apply(shapely.wkt.loads)).plot(ax=ax1, color=\"red\", markersize=60, zorder=2);\n",
    "    gpd.GeoSeries(traj_mid[\"coords\"].apply(shapely.wkt.loads)).plot(ax=ax2, color=\"blue\", markersize=60, zorder=2);\n",
    "    gpd.GeoSeries(traj_high[\"coords\"].apply(shapely.wkt.loads)).plot(ax=ax3, color=\"green\", markersize=60, zorder=2);\n",
    "    gpd.GeoSeries(routes_low).plot(ax=ax1, color=\"grey\", linewidth=3, zorder=1, alpha=0.6)\n",
    "    gpd.GeoSeries(routes_mid).plot(ax=ax2, color=\"grey\", linewidth=3, zorder=1, alpha=0.6)\n",
    "    gpd.GeoSeries(routes_high).plot(ax=ax3, color=\"grey\", linewidth=3, zorder=1, alpha=0.6)\n",
    "    ax1.ticklabel_format(useOffset=False)\n",
    "    ax2.ticklabel_format(useOffset=False)\n",
    "    ax3.ticklabel_format(useOffset=False)\n",
    "    ax1.axis(\"off\")\n",
    "    ax2.axis(\"off\")\n",
    "    ax3.axis(\"off\")\n",
    "    ax1.legend([\"low\"], frameon=False, loc=\"lower center\")\n",
    "    ax2.legend([\"mid\"], frameon=False, loc=\"lower center\")\n",
    "    ax3.legend([\"high\"], frameon=False, loc=\"lower center\")\n",
    "    plt.tight_layout()\n",
    "    plt.close()\n",
    "    return fig"
   ]
  },
  {
   "cell_type": "code",
   "execution_count": null,
   "id": "35e62464-87d4-457f-8b64-00417ee05cd6",
   "metadata": {
    "tags": []
   },
   "outputs": [],
   "source": [
    "plot_routes(sample_traj_low, sample_traj_mid, sample_traj_high)"
   ]
  },
  {
   "cell_type": "code",
   "execution_count": null,
   "id": "73d1d6a7-d0f8-4524-8dc1-cb657d9764a4",
   "metadata": {},
   "outputs": [],
   "source": [
    "scoring_base.sort_values(by=\"total_travel_distance\", ascending=True, inplace=True)\n",
    "scoring_base.reset_index(drop=True, inplace=True)"
   ]
  },
  {
   "cell_type": "code",
   "execution_count": null,
   "id": "133d02b8-fbc1-4863-95f9-c148f52bd228",
   "metadata": {},
   "outputs": [],
   "source": [
    "sample_sub_low = scoring_base.loc[0, \"sub_uid\"]\n",
    "sample_sub_mid = scoring_base.loc[len(scoring_base)//2, \"sub_uid\"]\n",
    "sample_sub_high = scoring_base.loc[len(scoring_base)-1, \"sub_uid\"]"
   ]
  },
  {
   "cell_type": "code",
   "execution_count": null,
   "id": "87cc9081-af61-4495-96e3-1fe208023eb9",
   "metadata": {},
   "outputs": [],
   "source": [
    "sample_traj_low = get_sub_traj(sample_sub_low, date, window, fake_transactions, fake_cellsites)\n",
    "sample_traj_mid = get_sub_traj(sample_sub_mid, date, window, fake_transactions, fake_cellsites)\n",
    "sample_traj_high = get_sub_traj(sample_sub_high, date, window, fake_transactions, fake_cellsites)"
   ]
  },
  {
   "cell_type": "code",
   "execution_count": null,
   "id": "7e705b90-b910-4c3b-881d-026e622d0924",
   "metadata": {},
   "outputs": [],
   "source": [
    "def visualize_route(traj):\n",
    "    coords = traj.coords.tolist()\n",
    "    od_pairs = list(zip(coords, coords[1:]))\n",
    "    routes = []\n",
    "    for od_pair in od_pairs:\n",
    "        routes.append(\n",
    "            shapely.geometry.LineString(\n",
    "                map(shapely.wkt.loads, od_pair)\n",
    "            )\n",
    "        )\n",
    "    fig, ax = plt.subplots(1, figsize=(7, 5))\n",
    "    gpd.GeoSeries(traj[\"coords\"].apply(shapely.wkt.loads)).plot(ax=ax, color=\"blue\", markersize=60, zorder=2);\n",
    "    gpd.GeoSeries(traj.head(1)[\"coords\"].apply(shapely.wkt.loads)).plot(ax=ax, color=\"green\", markersize=120, zorder=3);\n",
    "    gpd.GeoSeries(traj.tail(1)[\"coords\"].apply(shapely.wkt.loads)).plot(ax=ax, color=\"red\", markersize=120, zorder=3);\n",
    "    gpd.GeoSeries(routes).plot(ax=ax, color=\"grey\", linewidth=3, zorder=1, alpha=0.6)\n",
    "    ax.ticklabel_format(useOffset=False)\n",
    "    ax.legend([\"_\", \"orig\", \"dest\"])\n",
    "    plt.tight_layout()\n",
    "    plt.axis(\"off\")\n",
    "    plt.close()\n",
    "    return fig"
   ]
  },
  {
   "cell_type": "code",
   "execution_count": null,
   "id": "950e4c09-273a-4aa4-b60c-237a5cfdbace",
   "metadata": {},
   "outputs": [],
   "source": [
    "travel_distance_in_km = round(scoring_base.loc[scoring_base.sub_uid==sample_sub_low, \"total_travel_distance\"].item() / 1_000, 2)\n",
    "print(f\"this sub travelled {travel_distance_in_km} KM in a {window}, LIKELY TO HAVE LOW MOBILITY\")\n",
    "display(visualize_route(sample_traj_low))"
   ]
  },
  {
   "cell_type": "code",
   "execution_count": null,
   "id": "69b3c59c-cd7a-4567-b2bb-4b1b80e6421d",
   "metadata": {},
   "outputs": [],
   "source": [
    "travel_distance_in_km = round(scoring_base.loc[scoring_base.sub_uid==sample_sub_mid, \"total_travel_distance\"].item() / 1_000, 2)\n",
    "print(f\"this sub travelled {travel_distance_in_km} KM in a {window}, LIKELY TO HAVE MID MOBILITY\")\n",
    "display(visualize_route(sample_traj_mid))"
   ]
  },
  {
   "cell_type": "code",
   "execution_count": null,
   "id": "ff18d6fb-9ebe-4709-91db-ab9c6fa168ae",
   "metadata": {},
   "outputs": [],
   "source": [
    "travel_distance_in_km = round(scoring_base.loc[scoring_base.sub_uid==sample_sub_high, \"total_travel_distance\"].item() / 1_000, 2)\n",
    "print(f\"this sub travelled {travel_distance_in_km} KM in a {window}, LIKELY TO HAVE HIGH MOBILITY\")\n",
    "display(visualize_route(sample_traj_high))"
   ]
  },
  {
   "cell_type": "markdown",
   "id": "21fe5ecd-dc6c-403b-84a3-ddd08bfeb95e",
   "metadata": {},
   "source": [
    "TODO:\n",
    "1. Make your own Mobility Index: HIGH-MID-LOW"
   ]
  },
  {
   "cell_type": "markdown",
   "id": "d0e4c549-2d74-494b-9705-9b23638503f5",
   "metadata": {
    "tags": []
   },
   "source": [
    "## RESULTS QA"
   ]
  },
  {
   "cell_type": "code",
   "execution_count": null,
   "id": "3f1bc1ec-6026-4e23-ba2e-04c6008acc70",
   "metadata": {
    "tags": []
   },
   "outputs": [],
   "source": [
    "scoring_base.total_travel_distance.describe().iloc[1:]"
   ]
  },
  {
   "cell_type": "code",
   "execution_count": null,
   "id": "eb1a9e2c-969c-4a39-9913-5a384e0edf50",
   "metadata": {
    "tags": []
   },
   "outputs": [],
   "source": [
    "scoring_base.radius_of_gyration.describe().iloc[1:]"
   ]
  },
  {
   "cell_type": "code",
   "execution_count": null,
   "id": "d4da9719-0af6-4781-968f-a62437241107",
   "metadata": {
    "tags": []
   },
   "outputs": [],
   "source": [
    "scoring_base.activity_entropy.describe().iloc[1:]"
   ]
  },
  {
   "cell_type": "code",
   "execution_count": null,
   "id": "16f429b6-81ce-4848-afff-4fdcad6b52ab",
   "metadata": {
    "tags": []
   },
   "outputs": [],
   "source": [
    "sub = fake_subscribers.sample(1).sub_uid.item()\n",
    "traj = get_sub_traj(sub, date, window, fake_transactions, fake_cellsites)"
   ]
  },
  {
   "cell_type": "code",
   "execution_count": null,
   "id": "d41950b7-f0fa-4fd4-8b46-09390b46bd42",
   "metadata": {},
   "outputs": [],
   "source": [
    "traj.head()"
   ]
  },
  {
   "cell_type": "code",
   "execution_count": null,
   "id": "fb9828b7-9f32-46ae-9ff3-882a040c2c73",
   "metadata": {
    "tags": []
   },
   "outputs": [],
   "source": [
    "calc_activity_entropy(traj)"
   ]
  },
  {
   "cell_type": "code",
   "execution_count": null,
   "id": "cfe187b1-6d52-4026-a275-49801c980e90",
   "metadata": {
    "tags": []
   },
   "outputs": [],
   "source": [
    "calc_radius_of_gyration(traj)"
   ]
  },
  {
   "cell_type": "code",
   "execution_count": null,
   "id": "0f1a5faf-3269-40aa-8644-9cd3dfcacc90",
   "metadata": {
    "tags": []
   },
   "outputs": [],
   "source": [
    "calc_total_travel_distance(traj)"
   ]
  },
  {
   "cell_type": "markdown",
   "id": "f892140d-5c96-41c5-ba12-7caa4e78e9e6",
   "metadata": {},
   "source": [
    "## PENDING ITEMS"
   ]
  },
  {
   "cell_type": "markdown",
   "id": "16d4dcd3-93f1-418e-b3f2-3ecb446f931e",
   "metadata": {},
   "source": [
    "[X] Redo the fake data simulation, make stay proba variable instead of fixed <br>\n",
    "[] Add visuals on total travel distance, radius of gyration, activity entropy <br>\n",
    "[] Finish lecture part 1, grammar of spatial data science"
   ]
  },
  {
   "cell_type": "markdown",
   "id": "e221b20a-a681-4a96-8015-fa1ebfe7f1a7",
   "metadata": {
    "jp-MarkdownHeadingCollapsed": true,
    "tags": []
   },
   "source": [
    "## ARCHIVE"
   ]
  },
  {
   "cell_type": "code",
   "execution_count": null,
   "id": "931f072e-5ed5-4244-b507-a1e89df5f6b7",
   "metadata": {},
   "outputs": [],
   "source": [
    "def get_route_fig(r):\n",
    "    fig, ax = plt.subplots(1, 1)\n",
    "    gpd.GeoSeries(r).plot(ax=ax, linewidth=5, zorder=1)\n",
    "    orig = shapely.geometry.Point([r.xy[0][0], r.xy[1][0]])\n",
    "    dest = shapely.geometry.Point([r.xy[0][-1], r.xy[1][-1]])\n",
    "    gpd.GeoSeries(orig).plot(ax=ax, color=\"red\", markersize=250, zorder=2, alpha=0.8)\n",
    "    gpd.GeoSeries(dest).plot(ax=ax, color=\"green\", markersize=250, zorder=2, alpha=0.8)\n",
    "    plt.axis(\"off\")\n",
    "    ax.ticklabel_format(useOffset=False)\n",
    "    plt.close()\n",
    "    return fig\n",
    "\n",
    "import os\n",
    "import shapely\n",
    "import geopandas as gpd\n",
    "import matplotlib.pyplot as plt\n",
    "from PIL import Image\n",
    "import shutil"
   ]
  },
  {
   "cell_type": "code",
   "execution_count": null,
   "id": "62a84d3b-2631-4174-bd03-e6438cf4f5e4",
   "metadata": {},
   "outputs": [],
   "source": [
    "# day in a life of a sub\n",
    "d = fake_transactions.copy()\n",
    "sample_sub = d.sample(1).sub_id.item()\n",
    "d = d.loc[d.sub_id==sample_sub]\n",
    "days = d.transaction_dt.unique().tolist()\n",
    "route_figs = []\n",
    "for sample_day in days:\n",
    "    sites = fake_transactions\\\n",
    "        .loc[fake_transactions.sub_id==sample_sub]\\\n",
    "        .loc[fake_transactions.transaction_dt==sample_day]\\\n",
    "        .cel_id.tolist()\n",
    "    points = list(map(lambda z: convert_cel_to_point(z, fake_cellsites), sites))\n",
    "    r = shapely.geometry.LineString(points)\n",
    "    route_figs.append(get_route_fig(r))\n",
    "os.mkdir(\"../sample/\")\n",
    "for idx, fig in enumerate(route_figs):\n",
    "    fname = \"../sample/{}_tmp.jpg\".format(idx+1)\n",
    "    fig.savefig(fname)\n",
    "imgs = load_images(\"../sample\")\n",
    "plot_images(imgs)\n",
    "shutil.rmtree(\"../sample\")"
   ]
  }
 ],
 "metadata": {
  "kernelspec": {
   "display_name": "Python 3 (ipykernel)",
   "language": "python",
   "name": "python3"
  },
  "language_info": {
   "codemirror_mode": {
    "name": "ipython",
    "version": 3
   },
   "file_extension": ".py",
   "mimetype": "text/x-python",
   "name": "python",
   "nbconvert_exporter": "python",
   "pygments_lexer": "ipython3",
   "version": "3.8.16"
  }
 },
 "nbformat": 4,
 "nbformat_minor": 5
}
