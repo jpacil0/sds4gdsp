{
 "cells": [
  {
   "cell_type": "markdown",
   "id": "b6e47932-f73f-4903-8924-d5c3d983ad9b",
   "metadata": {
    "tags": []
   },
   "source": [
    "# Intro to Spatial Data Science #sds4gdsp"
   ]
  },
  {
   "cell_type": "markdown",
   "id": "fd02ae8b-296d-40d5-a076-ef8780d1ad24",
   "metadata": {
    "tags": []
   },
   "source": [
    "## 1. README"
   ]
  },
  {
   "cell_type": "markdown",
   "id": "249fc3e1-ad69-460b-bc3f-f4d17fddb678",
   "metadata": {
    "tags": []
   },
   "source": [
    "### Prework.\n",
    "\n",
    "By this time around, you should already be comfortable in writing code using Python, installing different packages from PyPI, and using virtual environments (conda, venv, poetry, etc). Please execute the following steps in your local machine:\n",
    "\n",
    "1. Clone the **sds4gdsp** github repository from this link\n",
    "\n",
    "2. Create a conda environment named **gdsenv** with **python=3.8.16**\n",
    "\n",
    "3. Install **jupyterlab** in that environment, we will use this for the workshop\n",
    "\n",
    "4. Install the packages from the **requirements.txt**, follow the **README.md** "
   ]
  },
  {
   "cell_type": "markdown",
   "id": "66798fe3-73e4-4512-bd10-7e5f9fe38ebd",
   "metadata": {},
   "source": [
    "### Learning Objectives.\n",
    "\n",
    "This lecture provides DSP cadets with little-to-no prior knowledge core competences in Spatial Data Science (SDS).\n",
    "\n",
    "1. Advancing their numerical, computational, and statistical literacy.\n",
    "\n",
    "2. Introducing basic principles of programming and state-of-the-art (SOTA) computational tools for SDS.\n",
    "\n",
    "3. Presenting a comprehensive overview of the main methodologies available to the Spatial Data Scientist, as well as their intuition as to how and when they can be applied.\n",
    "\n",
    "4. Focusing on real world applications of these techniques in a geographical and applied context."
   ]
  },
  {
   "cell_type": "markdown",
   "id": "13e38539-7f91-42a8-a4e8-6ea1cdbe4ec8",
   "metadata": {},
   "source": [
    "### Learning Outcomes.\n",
    "\n",
    "By the end of the lecture & workshop, DSP students will be able to:\n",
    "\n",
    "1. Demonstrate fundamental spatial data science concepts and be able to use the tools programmatically to import, manipulate and analyze spatial data in different formats.\n",
    "\n",
    "2. Understand the motivation and inner workings of the main methodological approcahes of SDS, both analytical and visual.\n",
    "\n",
    "3. Apply spatial analysis techniques and explain how to interpret the results, in a process of turning data into information."
   ]
  },
  {
   "cell_type": "markdown",
   "id": "d7190c6e-4f9e-4e15-af5f-a42a724ffbf7",
   "metadata": {},
   "source": [
    "## 2. What makes this subject so spatial?"
   ]
  },
  {
   "cell_type": "markdown",
   "id": "ba154819-9490-4bd3-b37b-4c55731eb5d4",
   "metadata": {},
   "source": [
    "### SDS is at the intersection of DS and Geographic Information System (GIS).\n",
    "\n",
    "It is the field of study that aims to answer the following twofold question: **where and why things happen**"
   ]
  },
  {
   "cell_type": "markdown",
   "id": "30556d41-53a9-48a4-a4c3-9437679fe3e9",
   "metadata": {
    "tags": []
   },
   "source": [
    "### Only 1 in 3 Data Scientists consider themselves experts in dealing with geospatial data.\n",
    "\n",
    "Lorem Ipsum."
   ]
  },
  {
   "cell_type": "code",
   "execution_count": null,
   "id": "7e9cdeda-981c-4cfc-86d3-d4d55eafc7a9",
   "metadata": {},
   "outputs": [],
   "source": []
  },
  {
   "cell_type": "markdown",
   "id": "865d96c2-9f4d-4b15-a3e6-7f28f995a46d",
   "metadata": {},
   "source": [
    "## 3. How can I relate this to my work in Globe? "
   ]
  },
  {
   "cell_type": "markdown",
   "id": "e819d410-f251-4f25-bc66-110c3024e3eb",
   "metadata": {
    "jp-MarkdownHeadingCollapsed": true,
    "tags": []
   },
   "source": [
    "### Geo-spatial data is ubiquitous.\n",
    "\n",
    "Here are some examples of geospatial data you can encounter in the telco universe.\n",
    "\n",
    "*Point* representation\n",
    "\n",
    "- Globe cellsites\n",
    "- Globe fiber NAPs\n",
    "- Globe physical stores\n",
    "- Globe sub households\n",
    "- Globe blitz deployments\n",
    "- Building footprints\n",
    "\n",
    "*Polygon* representation\n",
    "\n",
    "- PH admin boundaries\n",
    "- Globe cellsite coverage areas\n",
    "- Globe fiber coverage areas\n",
    "- Competitor coverage estimates\n",
    "\n",
    "*Graph* representation\n",
    "\n",
    "- PH road networks\n",
    "- Globe fiber wiring connections"
   ]
  },
  {
   "cell_type": "markdown",
   "id": "85779f4a-f759-4349-8814-2e326baf1af4",
   "metadata": {},
   "source": [
    "## 4. Dev notes and programming hacks"
   ]
  },
  {
   "cell_type": "markdown",
   "id": "c994508e-0fee-4dd4-b3e1-4c3a81b88b26",
   "metadata": {},
   "source": [
    "## 5. References"
   ]
  }
 ],
 "metadata": {
  "kernelspec": {
   "display_name": "Python 3 (ipykernel)",
   "language": "python",
   "name": "python3"
  },
  "language_info": {
   "codemirror_mode": {
    "name": "ipython",
    "version": 3
   },
   "file_extension": ".py",
   "mimetype": "text/x-python",
   "name": "python",
   "nbconvert_exporter": "python",
   "pygments_lexer": "ipython3",
   "version": "3.8.16"
  }
 },
 "nbformat": 4,
 "nbformat_minor": 5
}
