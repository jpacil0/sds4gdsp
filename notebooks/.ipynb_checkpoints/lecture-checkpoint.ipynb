{
 "cells": [
  {
   "cell_type": "markdown",
   "id": "b6e47932-f73f-4903-8924-d5c3d983ad9b",
   "metadata": {
    "tags": []
   },
   "source": [
    "# Intro to Spatial Data Science #sds4gdsp"
   ]
  },
  {
   "cell_type": "markdown",
   "id": "fd02ae8b-296d-40d5-a076-ef8780d1ad24",
   "metadata": {
    "tags": []
   },
   "source": [
    "## 1. README"
   ]
  },
  {
   "cell_type": "code",
   "execution_count": null,
   "id": "6ccd3970-bf12-412b-a745-211d042085cc",
   "metadata": {},
   "outputs": [],
   "source": []
  },
  {
   "cell_type": "markdown",
   "id": "d7190c6e-4f9e-4e15-af5f-a42a724ffbf7",
   "metadata": {},
   "source": [
    "## 2. What makes this subject so spatial?"
   ]
  },
  {
   "cell_type": "markdown",
   "id": "865d96c2-9f4d-4b15-a3e6-7f28f995a46d",
   "metadata": {},
   "source": [
    "## 3. How can I relate this to my work in Globe? "
   ]
  },
  {
   "cell_type": "markdown",
   "id": "85779f4a-f759-4349-8814-2e326baf1af4",
   "metadata": {},
   "source": [
    "## 4. Dev notes and programming hacks"
   ]
  },
  {
   "cell_type": "markdown",
   "id": "c994508e-0fee-4dd4-b3e1-4c3a81b88b26",
   "metadata": {},
   "source": [
    "## 5. References"
   ]
  }
 ],
 "metadata": {
  "kernelspec": {
   "display_name": "Python 3 (ipykernel)",
   "language": "python",
   "name": "python3"
  },
  "language_info": {
   "codemirror_mode": {
    "name": "ipython",
    "version": 3
   },
   "file_extension": ".py",
   "mimetype": "text/x-python",
   "name": "python",
   "nbconvert_exporter": "python",
   "pygments_lexer": "ipython3",
   "version": "3.8.16"
  }
 },
 "nbformat": 4,
 "nbformat_minor": 5
}
