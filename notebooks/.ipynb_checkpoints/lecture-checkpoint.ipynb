{
 "cells": [
  {
   "cell_type": "markdown",
   "id": "b6e47932-f73f-4903-8924-d5c3d983ad9b",
   "metadata": {
    "tags": []
   },
   "source": [
    "# Intro to Spatial Data Science #sds4gdsp"
   ]
  },
  {
   "cell_type": "markdown",
   "id": "7bc8c2ed-fcc1-4388-8029-31e3c687e7ac",
   "metadata": {
    "tags": []
   },
   "source": [
    "## 0. Setup"
   ]
  },
  {
   "cell_type": "code",
   "execution_count": 7,
   "id": "0ffcf369-d2eb-4481-a084-27fba8bd061f",
   "metadata": {
    "tags": []
   },
   "outputs": [],
   "source": [
    "import pandas as pd # for processing tabular data\n",
    "pd.options.display.max_colwidth=200\n",
    "pd.options.display.max_columns=100\n",
    "import geopandas as gpd # for processing geographic tables\n",
    "from shapely.geometry import (\n",
    "    Point, LineString, Polygon\n",
    ") # for processing native geometries"
   ]
  },
  {
   "cell_type": "markdown",
   "id": "fd02ae8b-296d-40d5-a076-ef8780d1ad24",
   "metadata": {
    "tags": []
   },
   "source": [
    "## 1. README"
   ]
  },
  {
   "cell_type": "markdown",
   "id": "249fc3e1-ad69-460b-bc3f-f4d17fddb678",
   "metadata": {
    "tags": []
   },
   "source": [
    "### a. Prework.\n",
    "\n",
    "By this time around, you should already be comfortable in writing code using Python, installing different packages from PyPI, and using virtual environments (conda, venv, poetry, etc). Please execute the following steps in your local machine:\n",
    "\n",
    "1. Clone the **sds4gdsp** github repository from this link\n",
    "```git clone https://github.com/jpacil0/sds4gdsp.git```\n",
    "\n",
    "2. Create a conda environment named **gdsenv** with **python=3.8.16**\n",
    "```conda create --name gdsenv python=3.8.16```\n",
    "\n",
    "3. Install **jupyterlab** in that environment, we will use this for the workshop\n",
    "```pip install jupyterlab```\n",
    "\n",
    "4. Install the packages from the **requirements.txt**, follow the **README.md**\n",
    "```pip install -r requirements.txt```"
   ]
  },
  {
   "cell_type": "markdown",
   "id": "66798fe3-73e4-4512-bd10-7e5f9fe38ebd",
   "metadata": {},
   "source": [
    "### b. Learning Objectives.\n",
    "\n",
    "This lecture provides DSP cadets with little-to-no prior knowledge core competences in Spatial Data Science (SDS).\n",
    "\n",
    "1. Advancing their numerical, computational, and statistical literacy.\n",
    "\n",
    "2. Introducing basic principles of programming and state-of-the-art (SOTA) computational tools for SDS.\n",
    "\n",
    "3. Presenting a comprehensive overview of the main methodologies available to the Spatial Data Scientist, as well as their intuition as to how and when they can be applied.\n",
    "\n",
    "4. Focusing on real world applications of these techniques in a geographical and applied context."
   ]
  },
  {
   "cell_type": "markdown",
   "id": "13e38539-7f91-42a8-a4e8-6ea1cdbe4ec8",
   "metadata": {},
   "source": [
    "### c. Learning Outcomes.\n",
    "\n",
    "By the end of the lecture & workshop, DSP students will be able to:\n",
    "\n",
    "1. Demonstrate fundamental spatial data science concepts and be able to use the tools programmatically to import, manipulate and analyze spatial data in different formats.\n",
    "\n",
    "2. Understand the motivation and inner workings of the main methodological approcahes of SDS, both analytical and visual.\n",
    "\n",
    "3. Apply spatial analysis techniques and explain how to interpret the results, in a process of turning data into information."
   ]
  },
  {
   "cell_type": "markdown",
   "id": "d7190c6e-4f9e-4e15-af5f-a42a724ffbf7",
   "metadata": {
    "tags": []
   },
   "source": [
    "## 2. What makes this subject so spatial?"
   ]
  },
  {
   "cell_type": "markdown",
   "id": "c584bd4e-63cc-4a9e-a934-7a84008c7f94",
   "metadata": {},
   "source": [
    "### a. SDS aims to answer the twofold question - where and why things happen.\n",
    "\n",
    "Spatial Data Science is interested in understanding both where certain things happen and why they happen in those places. To do this, Spatial Data Scientists leverage location, distance, and spatial interactions as core aspects of the data they work with and use highly specialized methods and cutting-edge software to analyze, visualize, and draw actionable insights from various spatial use cases. "
   ]
  },
  {
   "cell_type": "markdown",
   "id": "ba154819-9490-4bd3-b37b-4c55731eb5d4",
   "metadata": {
    "jp-MarkdownHeadingCollapsed": true,
    "tags": []
   },
   "source": [
    "### b. SDS is the intersection of Data Science (DS) and Geographic Information System (GIS).\n",
    "\n",
    "GIS is a niche field that refers to different types of information systems, such as websites, apps, or databases for storing and processing spatial datasets. Today, Spatial Data Scientists use GIS as part of a wider, more modern tech stack allowing them to do more advanced statistical- and modeling-based analyses while also being able to leverage the latest artificial intelligence and machine learning techniques more effectively."
   ]
  },
  {
   "cell_type": "markdown",
   "id": "30556d41-53a9-48a4-a4c3-9437679fe3e9",
   "metadata": {
    "tags": []
   },
   "source": [
    "### c. Only 1 in 3 Data Scientists claiming to be experts in spatial analysis.\n",
    "\n",
    "Spatial Data Science is clearly still a niche area of data science, it is nonetheless an attractive area for organizations to explore and focus on in the years ahead. According to this survey, 9 in 10 of the industries surveyed (telco, software & tech, consulting, cities & government, etc.)\n",
    "- have a difficult time finding, recruiting, and hiring talent with SDS in their toolbelt  \n",
    "- are very likely to increase their investment in SDS for the next two years"
   ]
  },
  {
   "cell_type": "markdown",
   "id": "865d96c2-9f4d-4b15-a3e6-7f28f995a46d",
   "metadata": {
    "jp-MarkdownHeadingCollapsed": true,
    "tags": []
   },
   "source": [
    "## 3. How can I relate this to my work in Globe? "
   ]
  },
  {
   "cell_type": "markdown",
   "id": "e819d410-f251-4f25-bc66-110c3024e3eb",
   "metadata": {
    "jp-MarkdownHeadingCollapsed": true,
    "tags": []
   },
   "source": [
    "### a. Geo-spatial data is ubiquitous.\n",
    "\n",
    "Here are some examples of geospatial data you can encounter in the telco universe.\n",
    "\n",
    "*Point* representation\n",
    "\n",
    "- Globe cellsites\n",
    "- Globe fiber NAPs\n",
    "- Globe physical stores\n",
    "- Globe sub households\n",
    "- Globe blitz deployments\n",
    "- Building footprints\n",
    "\n",
    "*Polygon* representation\n",
    "\n",
    "- PH admin boundaries\n",
    "- Globe cellsite coverage areas\n",
    "- Globe fiber coverage areas\n",
    "- Globe grid enumeration units\n",
    "- Competitor coverage estimates\n",
    "\n",
    "*Graph* representation\n",
    "\n",
    "- PH road networks\n",
    "- Globe fiber wiring connections"
   ]
  },
  {
   "cell_type": "markdown",
   "id": "85779f4a-f759-4349-8814-2e326baf1af4",
   "metadata": {
    "jp-MarkdownHeadingCollapsed": true,
    "tags": []
   },
   "source": [
    "## 4. Dev notes and programming hacks"
   ]
  },
  {
   "cell_type": "markdown",
   "id": "c994508e-0fee-4dd4-b3e1-4c3a81b88b26",
   "metadata": {
    "tags": []
   },
   "source": [
    "## 5. References"
   ]
  },
  {
   "cell_type": "markdown",
   "id": "2a6b8516-b05f-43a1-a8c6-6be48adfda77",
   "metadata": {
    "tags": []
   },
   "source": [
    "1. https://carto.com/what-is-spatial-data-science"
   ]
  }
 ],
 "metadata": {
  "kernelspec": {
   "display_name": "Python 3 (ipykernel)",
   "language": "python",
   "name": "python3"
  },
  "language_info": {
   "codemirror_mode": {
    "name": "ipython",
    "version": 3
   },
   "file_extension": ".py",
   "mimetype": "text/x-python",
   "name": "python",
   "nbconvert_exporter": "python",
   "pygments_lexer": "ipython3",
   "version": "3.8.16"
  }
 },
 "nbformat": 4,
 "nbformat_minor": 5
}
