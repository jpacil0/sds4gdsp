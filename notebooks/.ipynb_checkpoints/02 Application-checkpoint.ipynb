{
 "cells": [
  {
   "cell_type": "markdown",
   "id": "48e64794-94a8-4f20-9077-7d9927cea576",
   "metadata": {},
   "source": [
    "# Application: Creating a Telco Mobility Index\n",
    "\n",
    "1. Add total travel distance\n",
    "2. Add radius of gyration\n",
    "3. Add activity entropy"
   ]
  },
  {
   "cell_type": "code",
   "execution_count": 1,
   "id": "07555507-e170-49ed-bd04-344f6280fcc6",
   "metadata": {},
   "outputs": [],
   "source": [
    "import os\n",
    "os.chdir(\"../\")"
   ]
  },
  {
   "cell_type": "code",
   "execution_count": 2,
   "id": "32b982a1-8e9e-4fd8-953e-cb38dfe4df84",
   "metadata": {},
   "outputs": [],
   "source": [
    "import random\n",
    "import shapely\n",
    "import pendulum\n",
    "import numpy as np\n",
    "import pandas as pd\n",
    "from sds4gdsp.processor import convert_cel_to_point, calc_haversine_distance\n",
    "from sds4gdsp.plotter import get_route_fig, load_images, plot_images\n",
    "from IPython.display import HTML, display\n",
    "from functools import reduce"
   ]
  },
  {
   "cell_type": "markdown",
   "id": "ae64ef51-ab62-4b1a-98a7-cad554bd8c3f",
   "metadata": {},
   "source": [
    "Load, take a peek, and get a gist of the given datasets\n",
    "\n",
    "a. Fake Subscribers <br>\n",
    "b. Fake Cellsites <br>\n",
    "c. Fake Transactions"
   ]
  },
  {
   "cell_type": "code",
   "execution_count": 3,
   "id": "dae54e5e-f526-414b-b94f-ccccbc4fc1aa",
   "metadata": {
    "tags": []
   },
   "outputs": [
    {
     "data": {
      "text/html": [
       "<div>\n",
       "<style scoped>\n",
       "    .dataframe tbody tr th:only-of-type {\n",
       "        vertical-align: middle;\n",
       "    }\n",
       "\n",
       "    .dataframe tbody tr th {\n",
       "        vertical-align: top;\n",
       "    }\n",
       "\n",
       "    .dataframe thead th {\n",
       "        text-align: right;\n",
       "    }\n",
       "</style>\n",
       "<table border=\"1\" class=\"dataframe\">\n",
       "  <thead>\n",
       "    <tr style=\"text-align: right;\">\n",
       "      <th></th>\n",
       "      <th>sub_uid</th>\n",
       "      <th>gender</th>\n",
       "      <th>age</th>\n",
       "      <th>name</th>\n",
       "      <th>chi_indicator</th>\n",
       "      <th>ewallet_user_indicator</th>\n",
       "    </tr>\n",
       "  </thead>\n",
       "  <tbody>\n",
       "    <tr>\n",
       "      <th>67</th>\n",
       "      <td>glo-sub-068</td>\n",
       "      <td>female</td>\n",
       "      <td>45</td>\n",
       "      <td>Mrs. Victoria Ruiz</td>\n",
       "      <td>False</td>\n",
       "      <td>N</td>\n",
       "    </tr>\n",
       "    <tr>\n",
       "      <th>79</th>\n",
       "      <td>glo-sub-080</td>\n",
       "      <td>female</td>\n",
       "      <td>48</td>\n",
       "      <td>Molly Vasquez</td>\n",
       "      <td>False</td>\n",
       "      <td>N</td>\n",
       "    </tr>\n",
       "    <tr>\n",
       "      <th>24</th>\n",
       "      <td>glo-sub-025</td>\n",
       "      <td>male</td>\n",
       "      <td>49</td>\n",
       "      <td>Robert Campbell</td>\n",
       "      <td>True</td>\n",
       "      <td>N</td>\n",
       "    </tr>\n",
       "    <tr>\n",
       "      <th>11</th>\n",
       "      <td>glo-sub-012</td>\n",
       "      <td>male</td>\n",
       "      <td>52</td>\n",
       "      <td>Brandon Coleman</td>\n",
       "      <td>False</td>\n",
       "      <td>N</td>\n",
       "    </tr>\n",
       "    <tr>\n",
       "      <th>94</th>\n",
       "      <td>glo-sub-095</td>\n",
       "      <td>female</td>\n",
       "      <td>42</td>\n",
       "      <td>Cheryl Smith</td>\n",
       "      <td>True</td>\n",
       "      <td>N</td>\n",
       "    </tr>\n",
       "  </tbody>\n",
       "</table>\n",
       "</div>"
      ],
      "text/plain": [
       "        sub_uid  gender  age                name  chi_indicator   \n",
       "67  glo-sub-068  female   45  Mrs. Victoria Ruiz          False  \\\n",
       "79  glo-sub-080  female   48       Molly Vasquez          False   \n",
       "24  glo-sub-025    male   49     Robert Campbell           True   \n",
       "11  glo-sub-012    male   52     Brandon Coleman          False   \n",
       "94  glo-sub-095  female   42        Cheryl Smith           True   \n",
       "\n",
       "   ewallet_user_indicator  \n",
       "67                      N  \n",
       "79                      N  \n",
       "24                      N  \n",
       "11                      N  \n",
       "94                      N  "
      ]
     },
     "execution_count": 3,
     "metadata": {},
     "output_type": "execute_result"
    }
   ],
   "source": [
    "filepath_subscribers = \"data/fake_subscribers.csv\"\n",
    "dtype = dict(\n",
    "    gender=\"category\",\n",
    "    age=int,\n",
    "    name=str,\n",
    "    chi_indicator=bool,\n",
    "    ewallet_user_indicator=\"category\"\n",
    ")\n",
    "fake_subscribers = pd.read_csv(filepath_subscribers, dtype=dtype)\n",
    "fake_subscribers.sample(5)"
   ]
  },
  {
   "cell_type": "code",
   "execution_count": 4,
   "id": "85867b4c-6641-4e41-b9ba-8b96a0477b45",
   "metadata": {},
   "outputs": [
    {
     "data": {
      "text/plain": [
       "(100, 6)"
      ]
     },
     "execution_count": 4,
     "metadata": {},
     "output_type": "execute_result"
    }
   ],
   "source": [
    "fake_subscribers.shape"
   ]
  },
  {
   "cell_type": "code",
   "execution_count": 5,
   "id": "db806cc6-7daa-4bb5-8934-94130bbd27c8",
   "metadata": {},
   "outputs": [
    {
     "data": {
      "text/html": [
       "<div>\n",
       "<style scoped>\n",
       "    .dataframe tbody tr th:only-of-type {\n",
       "        vertical-align: middle;\n",
       "    }\n",
       "\n",
       "    .dataframe tbody tr th {\n",
       "        vertical-align: top;\n",
       "    }\n",
       "\n",
       "    .dataframe thead th {\n",
       "        text-align: right;\n",
       "    }\n",
       "</style>\n",
       "<table border=\"1\" class=\"dataframe\">\n",
       "  <thead>\n",
       "    <tr style=\"text-align: right;\">\n",
       "      <th></th>\n",
       "      <th>gender</th>\n",
       "      <th>chi_indicator</th>\n",
       "      <th>ewallet_user_indicator</th>\n",
       "      <th>cnt</th>\n",
       "      <th>pcnt</th>\n",
       "    </tr>\n",
       "  </thead>\n",
       "  <tbody>\n",
       "    <tr>\n",
       "      <th>0</th>\n",
       "      <td>female</td>\n",
       "      <td>False</td>\n",
       "      <td>N</td>\n",
       "      <td>14</td>\n",
       "      <td>14.0</td>\n",
       "    </tr>\n",
       "    <tr>\n",
       "      <th>1</th>\n",
       "      <td>female</td>\n",
       "      <td>False</td>\n",
       "      <td>Y</td>\n",
       "      <td>12</td>\n",
       "      <td>12.0</td>\n",
       "    </tr>\n",
       "    <tr>\n",
       "      <th>2</th>\n",
       "      <td>female</td>\n",
       "      <td>True</td>\n",
       "      <td>N</td>\n",
       "      <td>10</td>\n",
       "      <td>10.0</td>\n",
       "    </tr>\n",
       "    <tr>\n",
       "      <th>3</th>\n",
       "      <td>female</td>\n",
       "      <td>True</td>\n",
       "      <td>Y</td>\n",
       "      <td>14</td>\n",
       "      <td>14.0</td>\n",
       "    </tr>\n",
       "    <tr>\n",
       "      <th>4</th>\n",
       "      <td>male</td>\n",
       "      <td>False</td>\n",
       "      <td>N</td>\n",
       "      <td>12</td>\n",
       "      <td>12.0</td>\n",
       "    </tr>\n",
       "    <tr>\n",
       "      <th>5</th>\n",
       "      <td>male</td>\n",
       "      <td>False</td>\n",
       "      <td>Y</td>\n",
       "      <td>17</td>\n",
       "      <td>17.0</td>\n",
       "    </tr>\n",
       "    <tr>\n",
       "      <th>6</th>\n",
       "      <td>male</td>\n",
       "      <td>True</td>\n",
       "      <td>N</td>\n",
       "      <td>14</td>\n",
       "      <td>14.0</td>\n",
       "    </tr>\n",
       "    <tr>\n",
       "      <th>7</th>\n",
       "      <td>male</td>\n",
       "      <td>True</td>\n",
       "      <td>Y</td>\n",
       "      <td>7</td>\n",
       "      <td>7.0</td>\n",
       "    </tr>\n",
       "  </tbody>\n",
       "</table>\n",
       "</div>"
      ],
      "text/plain": [
       "   gender  chi_indicator ewallet_user_indicator  cnt  pcnt\n",
       "0  female          False                      N   14  14.0\n",
       "1  female          False                      Y   12  12.0\n",
       "2  female           True                      N   10  10.0\n",
       "3  female           True                      Y   14  14.0\n",
       "4    male          False                      N   12  12.0\n",
       "5    male          False                      Y   17  17.0\n",
       "6    male           True                      N   14  14.0\n",
       "7    male           True                      Y    7   7.0"
      ]
     },
     "execution_count": 5,
     "metadata": {},
     "output_type": "execute_result"
    }
   ],
   "source": [
    "cat_cols = [\"gender\", \"chi_indicator\", \"ewallet_user_indicator\"]\n",
    "fs_breakdown = fake_subscribers.groupby(cat_cols).size().reset_index(name=\"cnt\")\n",
    "fs_breakdown.assign(pcnt=fs_breakdown.cnt.div(len(fake_subscribers)).mul(100).round(2))"
   ]
  },
  {
   "cell_type": "code",
   "execution_count": 6,
   "id": "976ed413-2d54-4e9c-924f-3794c869bea4",
   "metadata": {
    "tags": []
   },
   "outputs": [
    {
     "data": {
      "text/html": [
       "<div>\n",
       "<style scoped>\n",
       "    .dataframe tbody tr th:only-of-type {\n",
       "        vertical-align: middle;\n",
       "    }\n",
       "\n",
       "    .dataframe tbody tr th {\n",
       "        vertical-align: top;\n",
       "    }\n",
       "\n",
       "    .dataframe thead th {\n",
       "        text-align: right;\n",
       "    }\n",
       "</style>\n",
       "<table border=\"1\" class=\"dataframe\">\n",
       "  <thead>\n",
       "    <tr style=\"text-align: right;\">\n",
       "      <th></th>\n",
       "      <th>cel_uid</th>\n",
       "      <th>coords</th>\n",
       "    </tr>\n",
       "  </thead>\n",
       "  <tbody>\n",
       "    <tr>\n",
       "      <th>22</th>\n",
       "      <td>glo-cel-023</td>\n",
       "      <td>POINT (121.0474636 14.4854434)</td>\n",
       "    </tr>\n",
       "    <tr>\n",
       "      <th>57</th>\n",
       "      <td>glo-cel-058</td>\n",
       "      <td>POINT (121.05919 14.5303819)</td>\n",
       "    </tr>\n",
       "    <tr>\n",
       "      <th>69</th>\n",
       "      <td>glo-cel-070</td>\n",
       "      <td>POINT (121.0648755 14.5124658)</td>\n",
       "    </tr>\n",
       "    <tr>\n",
       "      <th>77</th>\n",
       "      <td>glo-cel-078</td>\n",
       "      <td>POINT (121.0695979 14.5168694)</td>\n",
       "    </tr>\n",
       "    <tr>\n",
       "      <th>74</th>\n",
       "      <td>glo-cel-075</td>\n",
       "      <td>POINT (121.0683106 14.5054757)</td>\n",
       "    </tr>\n",
       "  </tbody>\n",
       "</table>\n",
       "</div>"
      ],
      "text/plain": [
       "        cel_uid                          coords\n",
       "22  glo-cel-023  POINT (121.0474636 14.4854434)\n",
       "57  glo-cel-058    POINT (121.05919 14.5303819)\n",
       "69  glo-cel-070  POINT (121.0648755 14.5124658)\n",
       "77  glo-cel-078  POINT (121.0695979 14.5168694)\n",
       "74  glo-cel-075  POINT (121.0683106 14.5054757)"
      ]
     },
     "execution_count": 6,
     "metadata": {},
     "output_type": "execute_result"
    }
   ],
   "source": [
    "filepath_cellsites = \"data/fake_cellsites.csv\"\n",
    "fake_cellsites = pd.read_csv(filepath_cellsites)\n",
    "fake_cellsites.sample(5)"
   ]
  },
  {
   "cell_type": "code",
   "execution_count": 7,
   "id": "8af95fe1-d862-4d12-873f-7bf39014b571",
   "metadata": {},
   "outputs": [
    {
     "data": {
      "text/plain": [
       "(111, 2)"
      ]
     },
     "execution_count": 7,
     "metadata": {},
     "output_type": "execute_result"
    }
   ],
   "source": [
    "fake_cellsites.shape"
   ]
  },
  {
   "cell_type": "code",
   "execution_count": 8,
   "id": "3d8cb418-3ea5-45bd-964d-6d50b8eb7681",
   "metadata": {},
   "outputs": [
    {
     "data": {
      "text/html": [
       "<img src=\"../docs/fake_cellsites.png\" width=\"600\" height=\"600\"/>"
      ],
      "text/plain": [
       "<IPython.core.display.HTML object>"
      ]
     },
     "execution_count": 8,
     "metadata": {},
     "output_type": "execute_result"
    }
   ],
   "source": [
    "HTML('<img src=\"../docs/fake_cellsites.png\" width=\"600\" height=\"600\"/>')"
   ]
  },
  {
   "cell_type": "code",
   "execution_count": 9,
   "id": "c380abfe-6354-4d3a-9585-db9b09290dd2",
   "metadata": {
    "tags": []
   },
   "outputs": [],
   "source": [
    "filepath_transactions = \"data/fake_transactions.csv\"\n",
    "fake_transactions = pd.read_csv(filepath_transactions)"
   ]
  },
  {
   "cell_type": "code",
   "execution_count": 10,
   "id": "7012c326-7d7e-4b03-a08e-9e4831de1e40",
   "metadata": {},
   "outputs": [
    {
     "data": {
      "text/plain": [
       "(15090, 5)"
      ]
     },
     "execution_count": 10,
     "metadata": {},
     "output_type": "execute_result"
    }
   ],
   "source": [
    "fake_transactions.shape"
   ]
  },
  {
   "cell_type": "code",
   "execution_count": 11,
   "id": "c634c960-3b85-4585-9cb6-390d7e8b25d0",
   "metadata": {
    "tags": []
   },
   "outputs": [],
   "source": [
    "min_date = pendulum.parse(fake_transactions.transaction_dt.min(), exact=True)\n",
    "max_date = pendulum.parse(fake_transactions.transaction_dt.max(), exact=True)\n",
    "period = pendulum.period(min_date, max_date)"
   ]
  },
  {
   "cell_type": "code",
   "execution_count": 12,
   "id": "268d2a95-102e-4cd5-884a-8a2f200a0cb8",
   "metadata": {
    "tags": []
   },
   "outputs": [
    {
     "data": {
      "text/html": [
       "<div>\n",
       "<style scoped>\n",
       "    .dataframe tbody tr th:only-of-type {\n",
       "        vertical-align: middle;\n",
       "    }\n",
       "\n",
       "    .dataframe tbody tr th {\n",
       "        vertical-align: top;\n",
       "    }\n",
       "\n",
       "    .dataframe thead th {\n",
       "        text-align: right;\n",
       "    }\n",
       "</style>\n",
       "<table border=\"1\" class=\"dataframe\">\n",
       "  <thead>\n",
       "    <tr style=\"text-align: right;\">\n",
       "      <th></th>\n",
       "      <th>txn_uid</th>\n",
       "      <th>sub_uid</th>\n",
       "      <th>cel_uid</th>\n",
       "      <th>transaction_dt</th>\n",
       "      <th>transaction_hr</th>\n",
       "    </tr>\n",
       "  </thead>\n",
       "  <tbody>\n",
       "    <tr>\n",
       "      <th>2986</th>\n",
       "      <td>glo-txn-02987</td>\n",
       "      <td>glo-sub-020</td>\n",
       "      <td>glo-cel-028</td>\n",
       "      <td>2023-06-22</td>\n",
       "      <td>3</td>\n",
       "    </tr>\n",
       "    <tr>\n",
       "      <th>2987</th>\n",
       "      <td>glo-txn-02988</td>\n",
       "      <td>glo-sub-020</td>\n",
       "      <td>glo-cel-026</td>\n",
       "      <td>2023-06-22</td>\n",
       "      <td>11</td>\n",
       "    </tr>\n",
       "    <tr>\n",
       "      <th>2988</th>\n",
       "      <td>glo-txn-02989</td>\n",
       "      <td>glo-sub-020</td>\n",
       "      <td>glo-cel-028</td>\n",
       "      <td>2023-06-22</td>\n",
       "      <td>14</td>\n",
       "    </tr>\n",
       "    <tr>\n",
       "      <th>2989</th>\n",
       "      <td>glo-txn-02990</td>\n",
       "      <td>glo-sub-020</td>\n",
       "      <td>glo-cel-026</td>\n",
       "      <td>2023-06-22</td>\n",
       "      <td>17</td>\n",
       "    </tr>\n",
       "    <tr>\n",
       "      <th>2990</th>\n",
       "      <td>glo-txn-02991</td>\n",
       "      <td>glo-sub-020</td>\n",
       "      <td>glo-cel-033</td>\n",
       "      <td>2023-06-22</td>\n",
       "      <td>21</td>\n",
       "    </tr>\n",
       "    <tr>\n",
       "      <th>2991</th>\n",
       "      <td>glo-txn-02992</td>\n",
       "      <td>glo-sub-020</td>\n",
       "      <td>glo-cel-026</td>\n",
       "      <td>2023-06-22</td>\n",
       "      <td>23</td>\n",
       "    </tr>\n",
       "  </tbody>\n",
       "</table>\n",
       "</div>"
      ],
      "text/plain": [
       "            txn_uid      sub_uid      cel_uid transaction_dt  transaction_hr\n",
       "2986  glo-txn-02987  glo-sub-020  glo-cel-028     2023-06-22               3\n",
       "2987  glo-txn-02988  glo-sub-020  glo-cel-026     2023-06-22              11\n",
       "2988  glo-txn-02989  glo-sub-020  glo-cel-028     2023-06-22              14\n",
       "2989  glo-txn-02990  glo-sub-020  glo-cel-026     2023-06-22              17\n",
       "2990  glo-txn-02991  glo-sub-020  glo-cel-033     2023-06-22              21\n",
       "2991  glo-txn-02992  glo-sub-020  glo-cel-026     2023-06-22              23"
      ]
     },
     "execution_count": 12,
     "metadata": {},
     "output_type": "execute_result"
    }
   ],
   "source": [
    "sample_dt = str(random.sample(list(period), 1)[0])\n",
    "filter_dt = fake_transactions.transaction_dt == sample_dt\n",
    "sample_sub = fake_subscribers.sub_uid.sample(1).item()\n",
    "filter_sub = fake_transactions.sub_uid == sample_sub\n",
    "fake_transactions.loc[filter_sub&filter_dt]"
   ]
  },
  {
   "cell_type": "markdown",
   "id": "a60cc41a-6a8f-4e73-9ec5-0143a00eb791",
   "metadata": {},
   "source": [
    "Create a helper function to help fetch subscriber trajectory"
   ]
  },
  {
   "cell_type": "code",
   "execution_count": 13,
   "id": "0d04b7e3-4c08-4414-a063-8ed7ad108256",
   "metadata": {},
   "outputs": [],
   "source": [
    "def get_sub_traj(\n",
    "    sub: str,\n",
    "    date: str,\n",
    "    window: str,\n",
    "    transactions: pd.DataFrame,\n",
    "    cellsites: pd.DataFrame\n",
    "):\n",
    "    if window==\"month\":\n",
    "        date_filter = transactions.transaction_dt.apply(lambda d: pendulum.parse(d, exact=True).start_of(\"month\").to_date_string())==date\n",
    "    elif window==\"day\":\n",
    "        date_filter = transactions.transaction_dt==date\n",
    "    sub_filter = transactions.sub_uid==sub\n",
    "    transactions_red = transactions.loc[sub_filter&date_filter]\n",
    "    transactions_red = transactions_red.merge(cellsites, on=\"cel_uid\")\n",
    "    return transactions_red.sort_values(by=[\"transaction_dt\", \"transaction_hr\"], ascending=[1, 1])"
   ]
  },
  {
   "cell_type": "code",
   "execution_count": 14,
   "id": "3aab204b-5d1e-441f-a04f-9b75422870dc",
   "metadata": {},
   "outputs": [
    {
     "data": {
      "text/html": [
       "<div>\n",
       "<style scoped>\n",
       "    .dataframe tbody tr th:only-of-type {\n",
       "        vertical-align: middle;\n",
       "    }\n",
       "\n",
       "    .dataframe tbody tr th {\n",
       "        vertical-align: top;\n",
       "    }\n",
       "\n",
       "    .dataframe thead th {\n",
       "        text-align: right;\n",
       "    }\n",
       "</style>\n",
       "<table border=\"1\" class=\"dataframe\">\n",
       "  <thead>\n",
       "    <tr style=\"text-align: right;\">\n",
       "      <th></th>\n",
       "      <th>txn_uid</th>\n",
       "      <th>sub_uid</th>\n",
       "      <th>cel_uid</th>\n",
       "      <th>transaction_dt</th>\n",
       "      <th>transaction_hr</th>\n",
       "      <th>coords</th>\n",
       "    </tr>\n",
       "  </thead>\n",
       "  <tbody>\n",
       "    <tr>\n",
       "      <th>0</th>\n",
       "      <td>glo-txn-00001</td>\n",
       "      <td>glo-sub-001</td>\n",
       "      <td>glo-cel-053</td>\n",
       "      <td>2023-06-01</td>\n",
       "      <td>3</td>\n",
       "      <td>POINT (121.0581692 14.5056112)</td>\n",
       "    </tr>\n",
       "    <tr>\n",
       "      <th>1</th>\n",
       "      <td>glo-txn-00002</td>\n",
       "      <td>glo-sub-001</td>\n",
       "      <td>glo-cel-044</td>\n",
       "      <td>2023-06-01</td>\n",
       "      <td>15</td>\n",
       "      <td>POINT (121.0550896 14.5056935)</td>\n",
       "    </tr>\n",
       "    <tr>\n",
       "      <th>5</th>\n",
       "      <td>glo-txn-00003</td>\n",
       "      <td>glo-sub-001</td>\n",
       "      <td>glo-cel-035</td>\n",
       "      <td>2023-06-01</td>\n",
       "      <td>20</td>\n",
       "      <td>POINT (121.0520115 14.5087523)</td>\n",
       "    </tr>\n",
       "    <tr>\n",
       "      <th>2</th>\n",
       "      <td>glo-txn-00004</td>\n",
       "      <td>glo-sub-001</td>\n",
       "      <td>glo-cel-044</td>\n",
       "      <td>2023-06-01</td>\n",
       "      <td>21</td>\n",
       "      <td>POINT (121.0550896 14.5056935)</td>\n",
       "    </tr>\n",
       "    <tr>\n",
       "      <th>6</th>\n",
       "      <td>glo-txn-00005</td>\n",
       "      <td>glo-sub-001</td>\n",
       "      <td>glo-cel-035</td>\n",
       "      <td>2023-06-01</td>\n",
       "      <td>23</td>\n",
       "      <td>POINT (121.0520115 14.5087523)</td>\n",
       "    </tr>\n",
       "    <tr>\n",
       "      <th>...</th>\n",
       "      <td>...</td>\n",
       "      <td>...</td>\n",
       "      <td>...</td>\n",
       "      <td>...</td>\n",
       "      <td>...</td>\n",
       "      <td>...</td>\n",
       "    </tr>\n",
       "    <tr>\n",
       "      <th>115</th>\n",
       "      <td>glo-txn-00141</td>\n",
       "      <td>glo-sub-001</td>\n",
       "      <td>glo-cel-056</td>\n",
       "      <td>2023-06-30</td>\n",
       "      <td>6</td>\n",
       "      <td>POINT (121.0591257 14.5116111)</td>\n",
       "    </tr>\n",
       "    <tr>\n",
       "      <th>43</th>\n",
       "      <td>glo-txn-00142</td>\n",
       "      <td>glo-sub-001</td>\n",
       "      <td>glo-cel-051</td>\n",
       "      <td>2023-06-30</td>\n",
       "      <td>7</td>\n",
       "      <td>POINT (121.0572633 14.5141269)</td>\n",
       "    </tr>\n",
       "    <tr>\n",
       "      <th>29</th>\n",
       "      <td>glo-txn-00143</td>\n",
       "      <td>glo-sub-001</td>\n",
       "      <td>glo-cel-049</td>\n",
       "      <td>2023-06-30</td>\n",
       "      <td>10</td>\n",
       "      <td>POINT (121.0568161 14.5177119)</td>\n",
       "    </tr>\n",
       "    <tr>\n",
       "      <th>103</th>\n",
       "      <td>glo-txn-00144</td>\n",
       "      <td>glo-sub-001</td>\n",
       "      <td>glo-cel-057</td>\n",
       "      <td>2023-06-30</td>\n",
       "      <td>19</td>\n",
       "      <td>POINT (121.059168 14.5199865)</td>\n",
       "    </tr>\n",
       "    <tr>\n",
       "      <th>97</th>\n",
       "      <td>glo-txn-00145</td>\n",
       "      <td>glo-sub-001</td>\n",
       "      <td>glo-cel-043</td>\n",
       "      <td>2023-06-30</td>\n",
       "      <td>20</td>\n",
       "      <td>POINT (121.0548721 14.5216456)</td>\n",
       "    </tr>\n",
       "  </tbody>\n",
       "</table>\n",
       "<p>145 rows × 6 columns</p>\n",
       "</div>"
      ],
      "text/plain": [
       "           txn_uid      sub_uid      cel_uid transaction_dt  transaction_hr   \n",
       "0    glo-txn-00001  glo-sub-001  glo-cel-053     2023-06-01               3  \\\n",
       "1    glo-txn-00002  glo-sub-001  glo-cel-044     2023-06-01              15   \n",
       "5    glo-txn-00003  glo-sub-001  glo-cel-035     2023-06-01              20   \n",
       "2    glo-txn-00004  glo-sub-001  glo-cel-044     2023-06-01              21   \n",
       "6    glo-txn-00005  glo-sub-001  glo-cel-035     2023-06-01              23   \n",
       "..             ...          ...          ...            ...             ...   \n",
       "115  glo-txn-00141  glo-sub-001  glo-cel-056     2023-06-30               6   \n",
       "43   glo-txn-00142  glo-sub-001  glo-cel-051     2023-06-30               7   \n",
       "29   glo-txn-00143  glo-sub-001  glo-cel-049     2023-06-30              10   \n",
       "103  glo-txn-00144  glo-sub-001  glo-cel-057     2023-06-30              19   \n",
       "97   glo-txn-00145  glo-sub-001  glo-cel-043     2023-06-30              20   \n",
       "\n",
       "                             coords  \n",
       "0    POINT (121.0581692 14.5056112)  \n",
       "1    POINT (121.0550896 14.5056935)  \n",
       "5    POINT (121.0520115 14.5087523)  \n",
       "2    POINT (121.0550896 14.5056935)  \n",
       "6    POINT (121.0520115 14.5087523)  \n",
       "..                              ...  \n",
       "115  POINT (121.0591257 14.5116111)  \n",
       "43   POINT (121.0572633 14.5141269)  \n",
       "29   POINT (121.0568161 14.5177119)  \n",
       "103   POINT (121.059168 14.5199865)  \n",
       "97   POINT (121.0548721 14.5216456)  \n",
       "\n",
       "[145 rows x 6 columns]"
      ]
     },
     "execution_count": 14,
     "metadata": {},
     "output_type": "execute_result"
    }
   ],
   "source": [
    "get_sub_traj(\"glo-sub-001\", \"2023-06-01\", \"month\", fake_transactions, fake_cellsites)"
   ]
  },
  {
   "cell_type": "markdown",
   "id": "3f43fccf-7fe5-4560-9389-445c95a28efc",
   "metadata": {},
   "source": [
    "We'll use this scoring base moving forward"
   ]
  },
  {
   "cell_type": "code",
   "execution_count": 15,
   "id": "a1f1aa24-3f7c-4446-95b5-cf4b060a285c",
   "metadata": {},
   "outputs": [],
   "source": [
    "scoring_base = fake_subscribers.copy()"
   ]
  },
  {
   "cell_type": "markdown",
   "id": "af1e8cbb-64aa-4e69-addc-9965eb34e625",
   "metadata": {},
   "source": [
    "## 1: Total Travel Distance"
   ]
  },
  {
   "cell_type": "code",
   "execution_count": 16,
   "id": "f0172880-f9be-4af0-970c-e35238ca795a",
   "metadata": {},
   "outputs": [],
   "source": [
    "def calc_total_travel_distance(coords):\n",
    "    od_pairs = list(zip(coords, coords[1:]))\n",
    "    total_travel_distance = reduce(\n",
    "        lambda a, b: a + b,\n",
    "        list(map(lambda p: calc_haversine_distance(*p), od_pairs))\n",
    "    )\n",
    "    return total_travel_distance"
   ]
  },
  {
   "cell_type": "markdown",
   "id": "689056d4-a0de-4211-bbd1-728b952a7315",
   "metadata": {},
   "source": [
    "Check total travel distance for a sample sub trajectory"
   ]
  },
  {
   "cell_type": "code",
   "execution_count": 17,
   "id": "0d11fc64-ce67-48c4-b899-e8c0cdfd4206",
   "metadata": {},
   "outputs": [],
   "source": [
    "sub = fake_subscribers.sample(1).sub_uid.item()\n",
    "date = \"2023-06-01\"\n",
    "window = \"month\"\n",
    "\n",
    "traj = get_sub_traj(sub, date, window, fake_transactions, fake_cellsites)"
   ]
  },
  {
   "cell_type": "code",
   "execution_count": 18,
   "id": "877950a6-c055-4695-ad25-7df3d8f68ff0",
   "metadata": {},
   "outputs": [
    {
     "data": {
      "text/html": [
       "<div>\n",
       "<style scoped>\n",
       "    .dataframe tbody tr th:only-of-type {\n",
       "        vertical-align: middle;\n",
       "    }\n",
       "\n",
       "    .dataframe tbody tr th {\n",
       "        vertical-align: top;\n",
       "    }\n",
       "\n",
       "    .dataframe thead th {\n",
       "        text-align: right;\n",
       "    }\n",
       "</style>\n",
       "<table border=\"1\" class=\"dataframe\">\n",
       "  <thead>\n",
       "    <tr style=\"text-align: right;\">\n",
       "      <th></th>\n",
       "      <th>txn_uid</th>\n",
       "      <th>sub_uid</th>\n",
       "      <th>cel_uid</th>\n",
       "      <th>transaction_dt</th>\n",
       "      <th>transaction_hr</th>\n",
       "      <th>coords</th>\n",
       "    </tr>\n",
       "  </thead>\n",
       "  <tbody>\n",
       "    <tr>\n",
       "      <th>0</th>\n",
       "      <td>glo-txn-11885</td>\n",
       "      <td>glo-sub-080</td>\n",
       "      <td>glo-cel-036</td>\n",
       "      <td>2023-06-01</td>\n",
       "      <td>3</td>\n",
       "      <td>POINT (121.052231 14.519476)</td>\n",
       "    </tr>\n",
       "    <tr>\n",
       "      <th>10</th>\n",
       "      <td>glo-txn-11886</td>\n",
       "      <td>glo-sub-080</td>\n",
       "      <td>glo-cel-027</td>\n",
       "      <td>2023-06-01</td>\n",
       "      <td>5</td>\n",
       "      <td>POINT (121.0482758 14.5207167)</td>\n",
       "    </tr>\n",
       "    <tr>\n",
       "      <th>12</th>\n",
       "      <td>glo-txn-11887</td>\n",
       "      <td>glo-sub-080</td>\n",
       "      <td>glo-cel-021</td>\n",
       "      <td>2023-06-01</td>\n",
       "      <td>10</td>\n",
       "      <td>POINT (121.0461939 14.5245073)</td>\n",
       "    </tr>\n",
       "    <tr>\n",
       "      <th>13</th>\n",
       "      <td>glo-txn-11888</td>\n",
       "      <td>glo-sub-080</td>\n",
       "      <td>glo-cel-030</td>\n",
       "      <td>2023-06-01</td>\n",
       "      <td>11</td>\n",
       "      <td>POINT (121.0493484 14.5234169)</td>\n",
       "    </tr>\n",
       "    <tr>\n",
       "      <th>1</th>\n",
       "      <td>glo-txn-11889</td>\n",
       "      <td>glo-sub-080</td>\n",
       "      <td>glo-cel-036</td>\n",
       "      <td>2023-06-01</td>\n",
       "      <td>17</td>\n",
       "      <td>POINT (121.052231 14.519476)</td>\n",
       "    </tr>\n",
       "  </tbody>\n",
       "</table>\n",
       "</div>"
      ],
      "text/plain": [
       "          txn_uid      sub_uid      cel_uid transaction_dt  transaction_hr   \n",
       "0   glo-txn-11885  glo-sub-080  glo-cel-036     2023-06-01               3  \\\n",
       "10  glo-txn-11886  glo-sub-080  glo-cel-027     2023-06-01               5   \n",
       "12  glo-txn-11887  glo-sub-080  glo-cel-021     2023-06-01              10   \n",
       "13  glo-txn-11888  glo-sub-080  glo-cel-030     2023-06-01              11   \n",
       "1   glo-txn-11889  glo-sub-080  glo-cel-036     2023-06-01              17   \n",
       "\n",
       "                            coords  \n",
       "0     POINT (121.052231 14.519476)  \n",
       "10  POINT (121.0482758 14.5207167)  \n",
       "12  POINT (121.0461939 14.5245073)  \n",
       "13  POINT (121.0493484 14.5234169)  \n",
       "1     POINT (121.052231 14.519476)  "
      ]
     },
     "execution_count": 18,
     "metadata": {},
     "output_type": "execute_result"
    }
   ],
   "source": [
    "traj.head()"
   ]
  },
  {
   "cell_type": "code",
   "execution_count": 19,
   "id": "10e837a5-fd16-4c04-8999-4be4a0d5f4c2",
   "metadata": {
    "tags": []
   },
   "outputs": [
    {
     "name": "stdout",
     "output_type": "stream",
     "text": [
      "('POINT (121.052231 14.519476)', 'POINT (121.0482758 14.5207167)'), ('POINT (121.0482758 14.5207167)', 'POINT (121.0461939 14.5245073)'), ('POINT (121.0461939 14.5245073)', 'POINT (121.0493484 14.5234169)')\n"
     ]
    }
   ],
   "source": [
    "coords = traj.coords.tolist()\n",
    "od_pairs = list(zip(coords, coords[1:]))\n",
    "print(str(od_pairs[:3]).replace(\"[\", \"\").replace(\"]\", \"\"))"
   ]
  },
  {
   "cell_type": "code",
   "execution_count": 20,
   "id": "2a9d733b-cb64-46b5-94ed-1a054080cf6e",
   "metadata": {},
   "outputs": [
    {
     "data": {
      "text/plain": [
       "43.476894368709665"
      ]
     },
     "execution_count": 20,
     "metadata": {},
     "output_type": "execute_result"
    }
   ],
   "source": [
    "# convert to kilometer\n",
    "calc_total_travel_distance(coords) / 1_000"
   ]
  },
  {
   "cell_type": "markdown",
   "id": "af967e5c-a0ef-4fb8-a8ea-b0ad4592379a",
   "metadata": {},
   "source": [
    "Scale to the whole scoring base"
   ]
  },
  {
   "cell_type": "code",
   "execution_count": 21,
   "id": "54300eba-c2e6-4acc-93f8-3c8aad02c7f7",
   "metadata": {},
   "outputs": [],
   "source": [
    "date = \"2023-06-01\"\n",
    "window = \"month\"\n",
    "\n",
    "total_travel_distances = []\n",
    "for sub in scoring_base.sub_uid.tolist():\n",
    "    traj = get_sub_traj(sub, date, window, fake_transactions, fake_cellsites)\n",
    "    coords = traj.coords.tolist()\n",
    "    total_travel_distance = calc_total_travel_distance(coords)\n",
    "    total_travel_distances.append(total_travel_distance)\n",
    "\n",
    "scoring_base[\"total_travel_distance\"] = total_travel_distances"
   ]
  },
  {
   "cell_type": "code",
   "execution_count": 22,
   "id": "8ba2219e-64d7-468e-9dd8-e2a0235919bd",
   "metadata": {},
   "outputs": [
    {
     "data": {
      "text/html": [
       "<div>\n",
       "<style scoped>\n",
       "    .dataframe tbody tr th:only-of-type {\n",
       "        vertical-align: middle;\n",
       "    }\n",
       "\n",
       "    .dataframe tbody tr th {\n",
       "        vertical-align: top;\n",
       "    }\n",
       "\n",
       "    .dataframe thead th {\n",
       "        text-align: right;\n",
       "    }\n",
       "</style>\n",
       "<table border=\"1\" class=\"dataframe\">\n",
       "  <thead>\n",
       "    <tr style=\"text-align: right;\">\n",
       "      <th></th>\n",
       "      <th>sub_uid</th>\n",
       "      <th>gender</th>\n",
       "      <th>age</th>\n",
       "      <th>name</th>\n",
       "      <th>chi_indicator</th>\n",
       "      <th>ewallet_user_indicator</th>\n",
       "      <th>total_travel_distance</th>\n",
       "    </tr>\n",
       "  </thead>\n",
       "  <tbody>\n",
       "    <tr>\n",
       "      <th>99</th>\n",
       "      <td>glo-sub-100</td>\n",
       "      <td>female</td>\n",
       "      <td>40</td>\n",
       "      <td>Taylor Bond</td>\n",
       "      <td>True</td>\n",
       "      <td>N</td>\n",
       "      <td>64041.203816</td>\n",
       "    </tr>\n",
       "    <tr>\n",
       "      <th>19</th>\n",
       "      <td>glo-sub-020</td>\n",
       "      <td>female</td>\n",
       "      <td>29</td>\n",
       "      <td>Gina Love</td>\n",
       "      <td>False</td>\n",
       "      <td>N</td>\n",
       "      <td>46809.759808</td>\n",
       "    </tr>\n",
       "    <tr>\n",
       "      <th>32</th>\n",
       "      <td>glo-sub-033</td>\n",
       "      <td>male</td>\n",
       "      <td>35</td>\n",
       "      <td>Antonio Pham</td>\n",
       "      <td>True</td>\n",
       "      <td>Y</td>\n",
       "      <td>45179.976307</td>\n",
       "    </tr>\n",
       "    <tr>\n",
       "      <th>95</th>\n",
       "      <td>glo-sub-096</td>\n",
       "      <td>male</td>\n",
       "      <td>39</td>\n",
       "      <td>Gary Casey</td>\n",
       "      <td>False</td>\n",
       "      <td>N</td>\n",
       "      <td>48555.121662</td>\n",
       "    </tr>\n",
       "    <tr>\n",
       "      <th>28</th>\n",
       "      <td>glo-sub-029</td>\n",
       "      <td>female</td>\n",
       "      <td>29</td>\n",
       "      <td>Maureen Estrada</td>\n",
       "      <td>True</td>\n",
       "      <td>Y</td>\n",
       "      <td>51488.415426</td>\n",
       "    </tr>\n",
       "  </tbody>\n",
       "</table>\n",
       "</div>"
      ],
      "text/plain": [
       "        sub_uid  gender  age             name  chi_indicator   \n",
       "99  glo-sub-100  female   40      Taylor Bond           True  \\\n",
       "19  glo-sub-020  female   29        Gina Love          False   \n",
       "32  glo-sub-033    male   35     Antonio Pham           True   \n",
       "95  glo-sub-096    male   39       Gary Casey          False   \n",
       "28  glo-sub-029  female   29  Maureen Estrada           True   \n",
       "\n",
       "   ewallet_user_indicator  total_travel_distance  \n",
       "99                      N           64041.203816  \n",
       "19                      N           46809.759808  \n",
       "32                      Y           45179.976307  \n",
       "95                      N           48555.121662  \n",
       "28                      Y           51488.415426  "
      ]
     },
     "execution_count": 22,
     "metadata": {},
     "output_type": "execute_result"
    }
   ],
   "source": [
    "scoring_base.sample(5)"
   ]
  },
  {
   "cell_type": "markdown",
   "id": "4a598350-1a2a-4d3c-9aa0-7c5cc9e8d51e",
   "metadata": {},
   "source": [
    "## 2: Radius of Gyration"
   ]
  },
  {
   "cell_type": "markdown",
   "id": "85298ad7-3641-4ed4-895c-5ccdb8ed9c19",
   "metadata": {},
   "source": [
    "In mobility analysis, the radius of gyration indicates the characteristic distance travelled by the agent (in our case, the telco mobile subscriber). This is computed using the given formula below:\n",
    "\n",
    "$RoG$ = $\\sqrt{\\frac{1}{n} \\sum \\limits_{i=1}^{n} {dist(CoM,coord_i)^2}}$\n",
    "\n",
    "$CoM$ = $\\frac{1}{n} \\sum \\limits_{i=1}^{n} (lat_i, lng_i)$\n",
    "\n",
    "Where: <br>\n",
    "RoG is Radius of Gyration <br>\n",
    "CoM is Center of Mass\n",
    "\n"
   ]
  },
  {
   "cell_type": "code",
   "execution_count": 23,
   "id": "ad874f99-71a2-4784-8e84-a334dde6ff5d",
   "metadata": {
    "tags": []
   },
   "outputs": [],
   "source": [
    "def calc_radius_of_gyration(coords):\n",
    "    \n",
    "    # compute for the center of mass\n",
    "    mean_lat = np.mean([shapely.wkt.loads(coord).y for coord in coords])\n",
    "    mean_lng = np.mean([shapely.wkt.loads(coord).x for coord in coords])\n",
    "    com = shapely.geometry.Point(mean_lng, mean_lat).wkt\n",
    "    \n",
    "    # compute for the distances from CoM to individual points\n",
    "    pt_pairs = list(zip(coords, [com]*len(coords)))\n",
    "    radius_of_gyration = np.sqrt(\n",
    "        reduce(\n",
    "            lambda a, b: a + b,\n",
    "            list(map(lambda p: calc_haversine_distance(*p)**2, pt_pairs))\n",
    "        ) / len(coords)\n",
    "    )\n",
    "    return radius_of_gyration"
   ]
  },
  {
   "cell_type": "markdown",
   "id": "69343203-4dc9-4536-80fe-310ade780273",
   "metadata": {},
   "source": [
    "Check radius of gyration for a sample sub trajectory"
   ]
  },
  {
   "cell_type": "code",
   "execution_count": 24,
   "id": "13f55bc8-d380-4e2b-8dbd-c64cf770d082",
   "metadata": {},
   "outputs": [],
   "source": [
    "sub = fake_subscribers.sample(1).sub_uid.item()\n",
    "date = \"2023-06-01\"\n",
    "window = \"month\"\n",
    "\n",
    "traj = get_sub_traj(sub, date, window, fake_transactions, fake_cellsites)"
   ]
  },
  {
   "cell_type": "code",
   "execution_count": 25,
   "id": "f9c29037-4e50-4ee9-af65-0c341eb68143",
   "metadata": {
    "tags": []
   },
   "outputs": [
    {
     "data": {
      "text/html": [
       "<div>\n",
       "<style scoped>\n",
       "    .dataframe tbody tr th:only-of-type {\n",
       "        vertical-align: middle;\n",
       "    }\n",
       "\n",
       "    .dataframe tbody tr th {\n",
       "        vertical-align: top;\n",
       "    }\n",
       "\n",
       "    .dataframe thead th {\n",
       "        text-align: right;\n",
       "    }\n",
       "</style>\n",
       "<table border=\"1\" class=\"dataframe\">\n",
       "  <thead>\n",
       "    <tr style=\"text-align: right;\">\n",
       "      <th></th>\n",
       "      <th>txn_uid</th>\n",
       "      <th>sub_uid</th>\n",
       "      <th>cel_uid</th>\n",
       "      <th>transaction_dt</th>\n",
       "      <th>transaction_hr</th>\n",
       "      <th>coords</th>\n",
       "    </tr>\n",
       "  </thead>\n",
       "  <tbody>\n",
       "    <tr>\n",
       "      <th>0</th>\n",
       "      <td>glo-txn-06295</td>\n",
       "      <td>glo-sub-042</td>\n",
       "      <td>glo-cel-033</td>\n",
       "      <td>2023-06-01</td>\n",
       "      <td>0</td>\n",
       "      <td>POINT (121.050346 14.4970216)</td>\n",
       "    </tr>\n",
       "    <tr>\n",
       "      <th>23</th>\n",
       "      <td>glo-txn-06296</td>\n",
       "      <td>glo-sub-042</td>\n",
       "      <td>glo-cel-026</td>\n",
       "      <td>2023-06-01</td>\n",
       "      <td>3</td>\n",
       "      <td>POINT (121.0480144 14.4988026)</td>\n",
       "    </tr>\n",
       "    <tr>\n",
       "      <th>58</th>\n",
       "      <td>glo-txn-06297</td>\n",
       "      <td>glo-sub-042</td>\n",
       "      <td>glo-cel-031</td>\n",
       "      <td>2023-06-01</td>\n",
       "      <td>5</td>\n",
       "      <td>POINT (121.0496008 14.5017326)</td>\n",
       "    </tr>\n",
       "    <tr>\n",
       "      <th>1</th>\n",
       "      <td>glo-txn-06298</td>\n",
       "      <td>glo-sub-042</td>\n",
       "      <td>glo-cel-033</td>\n",
       "      <td>2023-06-01</td>\n",
       "      <td>7</td>\n",
       "      <td>POINT (121.050346 14.4970216)</td>\n",
       "    </tr>\n",
       "    <tr>\n",
       "      <th>24</th>\n",
       "      <td>glo-txn-06299</td>\n",
       "      <td>glo-sub-042</td>\n",
       "      <td>glo-cel-026</td>\n",
       "      <td>2023-06-01</td>\n",
       "      <td>18</td>\n",
       "      <td>POINT (121.0480144 14.4988026)</td>\n",
       "    </tr>\n",
       "  </tbody>\n",
       "</table>\n",
       "</div>"
      ],
      "text/plain": [
       "          txn_uid      sub_uid      cel_uid transaction_dt  transaction_hr   \n",
       "0   glo-txn-06295  glo-sub-042  glo-cel-033     2023-06-01               0  \\\n",
       "23  glo-txn-06296  glo-sub-042  glo-cel-026     2023-06-01               3   \n",
       "58  glo-txn-06297  glo-sub-042  glo-cel-031     2023-06-01               5   \n",
       "1   glo-txn-06298  glo-sub-042  glo-cel-033     2023-06-01               7   \n",
       "24  glo-txn-06299  glo-sub-042  glo-cel-026     2023-06-01              18   \n",
       "\n",
       "                            coords  \n",
       "0    POINT (121.050346 14.4970216)  \n",
       "23  POINT (121.0480144 14.4988026)  \n",
       "58  POINT (121.0496008 14.5017326)  \n",
       "1    POINT (121.050346 14.4970216)  \n",
       "24  POINT (121.0480144 14.4988026)  "
      ]
     },
     "execution_count": 25,
     "metadata": {},
     "output_type": "execute_result"
    }
   ],
   "source": [
    "traj.head()"
   ]
  },
  {
   "cell_type": "code",
   "execution_count": 26,
   "id": "4d8b647b-4e71-4c45-9571-d5bf563da5e7",
   "metadata": {
    "tags": []
   },
   "outputs": [],
   "source": [
    "coords = traj.coords.tolist()"
   ]
  },
  {
   "cell_type": "code",
   "execution_count": 27,
   "id": "be6ea0f4-8ac0-4a83-80f8-0e1ae220eaa8",
   "metadata": {
    "tags": []
   },
   "outputs": [
    {
     "data": {
      "text/plain": [
       "892.4026276047259"
      ]
     },
     "execution_count": 27,
     "metadata": {},
     "output_type": "execute_result"
    }
   ],
   "source": [
    "calc_radius_of_gyration(coords)"
   ]
  },
  {
   "cell_type": "markdown",
   "id": "6b857553-1c64-4b0a-be1c-9cce329cbd11",
   "metadata": {},
   "source": [
    "Scale to the whole scoring base"
   ]
  },
  {
   "cell_type": "code",
   "execution_count": 28,
   "id": "e5db0cfc-ff41-4488-8f01-281aa556a3b1",
   "metadata": {
    "tags": []
   },
   "outputs": [],
   "source": [
    "date = \"2023-06-01\"\n",
    "window = \"month\"\n",
    "\n",
    "radius_of_gyrations = []\n",
    "for sub in scoring_base.sub_uid.tolist():\n",
    "    traj = get_sub_traj(sub, date, window, fake_transactions, fake_cellsites)\n",
    "    coords = traj.coords.tolist()\n",
    "    radius_of_gyration = calc_radius_of_gyration(coords)\n",
    "    radius_of_gyrations.append(radius_of_gyration)\n",
    "\n",
    "scoring_base[\"radius_of_gyration\"] = radius_of_gyrations"
   ]
  },
  {
   "cell_type": "code",
   "execution_count": 29,
   "id": "4a168425-fbbc-4fbd-b698-59a7bb74d55b",
   "metadata": {
    "tags": []
   },
   "outputs": [
    {
     "data": {
      "text/html": [
       "<div>\n",
       "<style scoped>\n",
       "    .dataframe tbody tr th:only-of-type {\n",
       "        vertical-align: middle;\n",
       "    }\n",
       "\n",
       "    .dataframe tbody tr th {\n",
       "        vertical-align: top;\n",
       "    }\n",
       "\n",
       "    .dataframe thead th {\n",
       "        text-align: right;\n",
       "    }\n",
       "</style>\n",
       "<table border=\"1\" class=\"dataframe\">\n",
       "  <thead>\n",
       "    <tr style=\"text-align: right;\">\n",
       "      <th></th>\n",
       "      <th>sub_uid</th>\n",
       "      <th>gender</th>\n",
       "      <th>age</th>\n",
       "      <th>name</th>\n",
       "      <th>chi_indicator</th>\n",
       "      <th>ewallet_user_indicator</th>\n",
       "      <th>total_travel_distance</th>\n",
       "      <th>radius_of_gyration</th>\n",
       "    </tr>\n",
       "  </thead>\n",
       "  <tbody>\n",
       "    <tr>\n",
       "      <th>61</th>\n",
       "      <td>glo-sub-062</td>\n",
       "      <td>female</td>\n",
       "      <td>25</td>\n",
       "      <td>Stephanie Brady</td>\n",
       "      <td>False</td>\n",
       "      <td>Y</td>\n",
       "      <td>59114.871368</td>\n",
       "      <td>1062.212106</td>\n",
       "    </tr>\n",
       "    <tr>\n",
       "      <th>10</th>\n",
       "      <td>glo-sub-011</td>\n",
       "      <td>male</td>\n",
       "      <td>42</td>\n",
       "      <td>Samuel Donaldson</td>\n",
       "      <td>True</td>\n",
       "      <td>Y</td>\n",
       "      <td>80514.160201</td>\n",
       "      <td>1894.730225</td>\n",
       "    </tr>\n",
       "    <tr>\n",
       "      <th>66</th>\n",
       "      <td>glo-sub-067</td>\n",
       "      <td>male</td>\n",
       "      <td>49</td>\n",
       "      <td>Steven Cantrell</td>\n",
       "      <td>True</td>\n",
       "      <td>N</td>\n",
       "      <td>52810.103921</td>\n",
       "      <td>1450.136227</td>\n",
       "    </tr>\n",
       "    <tr>\n",
       "      <th>39</th>\n",
       "      <td>glo-sub-040</td>\n",
       "      <td>male</td>\n",
       "      <td>54</td>\n",
       "      <td>David Watson</td>\n",
       "      <td>False</td>\n",
       "      <td>Y</td>\n",
       "      <td>53668.763944</td>\n",
       "      <td>951.521961</td>\n",
       "    </tr>\n",
       "    <tr>\n",
       "      <th>7</th>\n",
       "      <td>glo-sub-008</td>\n",
       "      <td>male</td>\n",
       "      <td>52</td>\n",
       "      <td>Stephen Irwin</td>\n",
       "      <td>True</td>\n",
       "      <td>N</td>\n",
       "      <td>46088.455278</td>\n",
       "      <td>601.755190</td>\n",
       "    </tr>\n",
       "  </tbody>\n",
       "</table>\n",
       "</div>"
      ],
      "text/plain": [
       "        sub_uid  gender  age              name  chi_indicator   \n",
       "61  glo-sub-062  female   25   Stephanie Brady          False  \\\n",
       "10  glo-sub-011    male   42  Samuel Donaldson           True   \n",
       "66  glo-sub-067    male   49   Steven Cantrell           True   \n",
       "39  glo-sub-040    male   54      David Watson          False   \n",
       "7   glo-sub-008    male   52     Stephen Irwin           True   \n",
       "\n",
       "   ewallet_user_indicator  total_travel_distance  radius_of_gyration  \n",
       "61                      Y           59114.871368         1062.212106  \n",
       "10                      Y           80514.160201         1894.730225  \n",
       "66                      N           52810.103921         1450.136227  \n",
       "39                      Y           53668.763944          951.521961  \n",
       "7                       N           46088.455278          601.755190  "
      ]
     },
     "execution_count": 29,
     "metadata": {},
     "output_type": "execute_result"
    }
   ],
   "source": [
    "scoring_base.sample(5)"
   ]
  },
  {
   "cell_type": "code",
   "execution_count": null,
   "id": "23874f9e-e1aa-44e0-8300-8f61adc8e3f3",
   "metadata": {},
   "outputs": [],
   "source": []
  },
  {
   "cell_type": "markdown",
   "id": "584edfc0-23e8-427a-9023-200758c5c4a5",
   "metadata": {},
   "source": [
    "## 3: Activity Entropy"
   ]
  },
  {
   "cell_type": "code",
   "execution_count": null,
   "id": "f81dab1e-d187-4844-977e-57db4b6cbf67",
   "metadata": {},
   "outputs": [],
   "source": []
  },
  {
   "cell_type": "code",
   "execution_count": null,
   "id": "3ab4011e-3a92-4491-a300-14a19a43047b",
   "metadata": {},
   "outputs": [],
   "source": []
  },
  {
   "cell_type": "markdown",
   "id": "f892140d-5c96-41c5-ba12-7caa4e78e9e6",
   "metadata": {},
   "source": [
    "## PENDING ITEMS"
   ]
  },
  {
   "cell_type": "markdown",
   "id": "16d4dcd3-93f1-418e-b3f2-3ecb446f931e",
   "metadata": {},
   "source": [
    "1. Redo the fake data simulation, make stay proba variable instead of fixed\n",
    "2. Add visuals on total travel distance, radius of gyration, activity entropy\n",
    "3. Finish lecture part 1, grammar of spatial data science"
   ]
  },
  {
   "cell_type": "markdown",
   "id": "e221b20a-a681-4a96-8015-fa1ebfe7f1a7",
   "metadata": {
    "jp-MarkdownHeadingCollapsed": true,
    "tags": []
   },
   "source": [
    "## ARCHIVE"
   ]
  },
  {
   "cell_type": "code",
   "execution_count": 14,
   "id": "931f072e-5ed5-4244-b507-a1e89df5f6b7",
   "metadata": {},
   "outputs": [],
   "source": [
    "def get_route_fig(r):\n",
    "    fig, ax = plt.subplots(1, 1)\n",
    "    gpd.GeoSeries(r).plot(ax=ax, linewidth=5, zorder=1)\n",
    "    orig = shapely.geometry.Point([r.xy[0][0], r.xy[1][0]])\n",
    "    dest = shapely.geometry.Point([r.xy[0][-1], r.xy[1][-1]])\n",
    "    gpd.GeoSeries(orig).plot(ax=ax, color=\"red\", markersize=250, zorder=2, alpha=0.8)\n",
    "    gpd.GeoSeries(dest).plot(ax=ax, color=\"green\", markersize=250, zorder=2, alpha=0.8)\n",
    "    plt.axis(\"off\")\n",
    "    ax.ticklabel_format(useOffset=False)\n",
    "    plt.close()\n",
    "    return fig\n",
    "\n",
    "import os\n",
    "import shapely\n",
    "import geopandas as gpd\n",
    "import matplotlib.pyplot as plt\n",
    "from PIL import Image\n",
    "import shutil"
   ]
  },
  {
   "cell_type": "code",
   "execution_count": 15,
   "id": "62a84d3b-2631-4174-bd03-e6438cf4f5e4",
   "metadata": {},
   "outputs": [
    {
     "ename": "AttributeError",
     "evalue": "'DataFrame' object has no attribute 'uid'",
     "output_type": "error",
     "traceback": [
      "\u001b[0;31m---------------------------------------------------------------------------\u001b[0m",
      "\u001b[0;31mAttributeError\u001b[0m                            Traceback (most recent call last)",
      "Input \u001b[0;32mIn [15]\u001b[0m, in \u001b[0;36m<cell line: 7>\u001b[0;34m()\u001b[0m\n\u001b[1;32m      7\u001b[0m \u001b[38;5;28;01mfor\u001b[39;00m sample_day \u001b[38;5;129;01min\u001b[39;00m days:\n\u001b[1;32m      8\u001b[0m     sites \u001b[38;5;241m=\u001b[39m fake_transactions\\\n\u001b[1;32m      9\u001b[0m         \u001b[38;5;241m.\u001b[39mloc[fake_transactions\u001b[38;5;241m.\u001b[39msub_id\u001b[38;5;241m==\u001b[39msample_sub]\\\n\u001b[1;32m     10\u001b[0m         \u001b[38;5;241m.\u001b[39mloc[fake_transactions\u001b[38;5;241m.\u001b[39mtransaction_dt\u001b[38;5;241m==\u001b[39msample_day]\\\n\u001b[1;32m     11\u001b[0m         \u001b[38;5;241m.\u001b[39mcel_id\u001b[38;5;241m.\u001b[39mtolist()\n\u001b[0;32m---> 12\u001b[0m     points \u001b[38;5;241m=\u001b[39m \u001b[38;5;28;43mlist\u001b[39;49m\u001b[43m(\u001b[49m\u001b[38;5;28;43mmap\u001b[39;49m\u001b[43m(\u001b[49m\u001b[38;5;28;43;01mlambda\u001b[39;49;00m\u001b[43m \u001b[49m\u001b[43mz\u001b[49m\u001b[43m:\u001b[49m\u001b[43m \u001b[49m\u001b[43mconvert_cel_to_point\u001b[49m\u001b[43m(\u001b[49m\u001b[43mz\u001b[49m\u001b[43m,\u001b[49m\u001b[43m \u001b[49m\u001b[43mfake_cellsites\u001b[49m\u001b[43m)\u001b[49m\u001b[43m,\u001b[49m\u001b[43m \u001b[49m\u001b[43msites\u001b[49m\u001b[43m)\u001b[49m\u001b[43m)\u001b[49m\n\u001b[1;32m     13\u001b[0m     r \u001b[38;5;241m=\u001b[39m shapely\u001b[38;5;241m.\u001b[39mgeometry\u001b[38;5;241m.\u001b[39mLineString(points)\n\u001b[1;32m     14\u001b[0m     route_figs\u001b[38;5;241m.\u001b[39mappend(get_route_fig(r))\n",
      "Input \u001b[0;32mIn [15]\u001b[0m, in \u001b[0;36m<lambda>\u001b[0;34m(z)\u001b[0m\n\u001b[1;32m      7\u001b[0m \u001b[38;5;28;01mfor\u001b[39;00m sample_day \u001b[38;5;129;01min\u001b[39;00m days:\n\u001b[1;32m      8\u001b[0m     sites \u001b[38;5;241m=\u001b[39m fake_transactions\\\n\u001b[1;32m      9\u001b[0m         \u001b[38;5;241m.\u001b[39mloc[fake_transactions\u001b[38;5;241m.\u001b[39msub_id\u001b[38;5;241m==\u001b[39msample_sub]\\\n\u001b[1;32m     10\u001b[0m         \u001b[38;5;241m.\u001b[39mloc[fake_transactions\u001b[38;5;241m.\u001b[39mtransaction_dt\u001b[38;5;241m==\u001b[39msample_day]\\\n\u001b[1;32m     11\u001b[0m         \u001b[38;5;241m.\u001b[39mcel_id\u001b[38;5;241m.\u001b[39mtolist()\n\u001b[0;32m---> 12\u001b[0m     points \u001b[38;5;241m=\u001b[39m \u001b[38;5;28mlist\u001b[39m(\u001b[38;5;28mmap\u001b[39m(\u001b[38;5;28;01mlambda\u001b[39;00m z: \u001b[43mconvert_cel_to_point\u001b[49m\u001b[43m(\u001b[49m\u001b[43mz\u001b[49m\u001b[43m,\u001b[49m\u001b[43m \u001b[49m\u001b[43mfake_cellsites\u001b[49m\u001b[43m)\u001b[49m, sites))\n\u001b[1;32m     13\u001b[0m     r \u001b[38;5;241m=\u001b[39m shapely\u001b[38;5;241m.\u001b[39mgeometry\u001b[38;5;241m.\u001b[39mLineString(points)\n\u001b[1;32m     14\u001b[0m     route_figs\u001b[38;5;241m.\u001b[39mappend(get_route_fig(r))\n",
      "File \u001b[0;32m~/Desktop/dev/aa/sds4gdsp/sds4gdsp/processor.py:21\u001b[0m, in \u001b[0;36mconvert_cel_to_point\u001b[0;34m(cel_id, ref)\u001b[0m\n\u001b[1;32m     19\u001b[0m \u001b[38;5;28;01mdef\u001b[39;00m \u001b[38;5;21mconvert_cel_to_point\u001b[39m(cel_id: \u001b[38;5;28mstr\u001b[39m, ref: pd\u001b[38;5;241m.\u001b[39mDataFrame):\n\u001b[1;32m     20\u001b[0m \u001b[38;5;250m    \u001b[39m\u001b[38;5;124;03m\"\"\"Convert cellsite to shapely point.\"\"\"\u001b[39;00m\n\u001b[0;32m---> 21\u001b[0m     coord \u001b[38;5;241m=\u001b[39m ref\u001b[38;5;241m.\u001b[39mloc[\u001b[43mref\u001b[49m\u001b[38;5;241;43m.\u001b[39;49m\u001b[43muid\u001b[49m\u001b[38;5;241m==\u001b[39mcel_id]\u001b[38;5;241m.\u001b[39mcoords\u001b[38;5;241m.\u001b[39mitem()\n\u001b[1;32m     22\u001b[0m     point \u001b[38;5;241m=\u001b[39m loads(coord)\n\u001b[1;32m     23\u001b[0m     \u001b[38;5;28;01mreturn\u001b[39;00m point\n",
      "File \u001b[0;32m~/opt/anaconda3/envs/gdsenv/lib/python3.8/site-packages/pandas/core/generic.py:5989\u001b[0m, in \u001b[0;36mNDFrame.__getattr__\u001b[0;34m(self, name)\u001b[0m\n\u001b[1;32m   5982\u001b[0m \u001b[38;5;28;01mif\u001b[39;00m (\n\u001b[1;32m   5983\u001b[0m     name \u001b[38;5;129;01mnot\u001b[39;00m \u001b[38;5;129;01min\u001b[39;00m \u001b[38;5;28mself\u001b[39m\u001b[38;5;241m.\u001b[39m_internal_names_set\n\u001b[1;32m   5984\u001b[0m     \u001b[38;5;129;01mand\u001b[39;00m name \u001b[38;5;129;01mnot\u001b[39;00m \u001b[38;5;129;01min\u001b[39;00m \u001b[38;5;28mself\u001b[39m\u001b[38;5;241m.\u001b[39m_metadata\n\u001b[1;32m   5985\u001b[0m     \u001b[38;5;129;01mand\u001b[39;00m name \u001b[38;5;129;01mnot\u001b[39;00m \u001b[38;5;129;01min\u001b[39;00m \u001b[38;5;28mself\u001b[39m\u001b[38;5;241m.\u001b[39m_accessors\n\u001b[1;32m   5986\u001b[0m     \u001b[38;5;129;01mand\u001b[39;00m \u001b[38;5;28mself\u001b[39m\u001b[38;5;241m.\u001b[39m_info_axis\u001b[38;5;241m.\u001b[39m_can_hold_identifiers_and_holds_name(name)\n\u001b[1;32m   5987\u001b[0m ):\n\u001b[1;32m   5988\u001b[0m     \u001b[38;5;28;01mreturn\u001b[39;00m \u001b[38;5;28mself\u001b[39m[name]\n\u001b[0;32m-> 5989\u001b[0m \u001b[38;5;28;01mreturn\u001b[39;00m \u001b[38;5;28;43mobject\u001b[39;49m\u001b[38;5;241;43m.\u001b[39;49m\u001b[38;5;21;43m__getattribute__\u001b[39;49m\u001b[43m(\u001b[49m\u001b[38;5;28;43mself\u001b[39;49m\u001b[43m,\u001b[49m\u001b[43m \u001b[49m\u001b[43mname\u001b[49m\u001b[43m)\u001b[49m\n",
      "\u001b[0;31mAttributeError\u001b[0m: 'DataFrame' object has no attribute 'uid'"
     ]
    }
   ],
   "source": [
    "# day in a life of a sub\n",
    "d = fake_transactions.copy()\n",
    "sample_sub = d.sample(1).sub_id.item()\n",
    "d = d.loc[d.sub_id==sample_sub]\n",
    "days = d.transaction_dt.unique().tolist()\n",
    "route_figs = []\n",
    "for sample_day in days:\n",
    "    sites = fake_transactions\\\n",
    "        .loc[fake_transactions.sub_id==sample_sub]\\\n",
    "        .loc[fake_transactions.transaction_dt==sample_day]\\\n",
    "        .cel_id.tolist()\n",
    "    points = list(map(lambda z: convert_cel_to_point(z, fake_cellsites), sites))\n",
    "    r = shapely.geometry.LineString(points)\n",
    "    route_figs.append(get_route_fig(r))\n",
    "os.mkdir(\"../sample/\")\n",
    "for idx, fig in enumerate(route_figs):\n",
    "    fname = \"../sample/{}_tmp.jpg\".format(idx+1)\n",
    "    fig.savefig(fname)\n",
    "imgs = load_images(\"../sample\")\n",
    "plot_images(imgs)\n",
    "shutil.rmtree(\"../sample\")"
   ]
  }
 ],
 "metadata": {
  "kernelspec": {
   "display_name": "Python 3 (ipykernel)",
   "language": "python",
   "name": "python3"
  },
  "language_info": {
   "codemirror_mode": {
    "name": "ipython",
    "version": 3
   },
   "file_extension": ".py",
   "mimetype": "text/x-python",
   "name": "python",
   "nbconvert_exporter": "python",
   "pygments_lexer": "ipython3",
   "version": "3.8.16"
  }
 },
 "nbformat": 4,
 "nbformat_minor": 5
}
