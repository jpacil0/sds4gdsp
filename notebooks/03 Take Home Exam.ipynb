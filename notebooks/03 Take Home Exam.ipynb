{
 "cells": [
  {
   "cell_type": "markdown",
   "id": "15568cc0-be91-49e5-9a8c-1030cc298650",
   "metadata": {
    "tags": []
   },
   "source": [
    "# Take Home Exam: Lorem Ipsum"
   ]
  }
 ],
 "metadata": {
  "kernelspec": {
   "display_name": "Python 3 (ipykernel)",
   "language": "python",
   "name": "python3"
  },
  "language_info": {
   "codemirror_mode": {
    "name": "ipython",
    "version": 3
   },
   "file_extension": ".py",
   "mimetype": "text/x-python",
   "name": "python",
   "nbconvert_exporter": "python",
   "pygments_lexer": "ipython3",
   "version": "3.8.17"
  }
 },
 "nbformat": 4,
 "nbformat_minor": 5
}
