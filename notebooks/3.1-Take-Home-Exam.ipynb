{
 "cells": [
  {
   "cell_type": "markdown",
   "id": "15568cc0-be91-49e5-9a8c-1030cc298650",
   "metadata": {
    "tags": []
   },
   "source": [
    "# Take Home Exam: Mobility Index Calculation and Profiling"
   ]
  },
  {
   "cell_type": "markdown",
   "id": "94ccdd38",
   "metadata": {},
   "source": [
    "## 1. Create \"Mobility Index\" and \"Mobility Class\""
   ]
  },
  {
   "cell_type": "markdown",
   "id": "b74fd38c",
   "metadata": {},
   "source": [
    "Using the the following features/indicators:<br>\n",
    "<br>\n",
    "    1. Total Distance Traveled<br>\n",
    "    2. Radius of Gyration<br>\n",
    "    3. Activity Entropy<br>\n",
    "     \n",
    "Create a calculated feature called **Mobility Index** (type: decimal/float) and **Mobility Class** (which is are categorized as Low, Mid, and High) for each subscriber.<br>\n",
    "Team is free to use any methods or technique to arrive at the **OPTIMAL** Mobility Index and Mobility Class as long as it is supported by literature/s.<br>\n",
    "<br>\n",
    "**Deadline of the submission is September 1, 2023.** <br>\n",
    "<br>\n",
    "<br>\n",
    "**Criteria for scoring**<br>\n",
    "1. Creation of mobility class - 50 pts  <br>\n",
    "2. Creation of mobility index - 30 pts  <br>\n",
    "3. Efficiency of process      - 20 pts  <br>\n",
    "    Total                     -100 pts \n"
   ]
  },
  {
   "cell_type": "markdown",
   "id": "835e89f7",
   "metadata": {},
   "source": [
    "## 2. Example of Mobility Index"
   ]
  },
  {
   "cell_type": "code",
   "execution_count": null,
   "id": "1cfd98fc",
   "metadata": {},
   "outputs": [],
   "source": [
    "import random\n",
    "import shapely\n",
    "import pendulum\n",
    "import numpy as np\n",
    "import pandas as pd\n",
    "from scipy import stats\n",
    "pd.options.display.max_rows=200\n",
    "import geopandas as gpd\n",
    "import matplotlib.pyplot as plt\n",
    "from IPython.display import HTML, display\n",
    "from functools import reduce\n",
    "import pyproj\n",
    "from functools import partial"
   ]
  },
  {
   "cell_type": "markdown",
   "id": "238621ee",
   "metadata": {},
   "source": [
    "#### Sample ABT"
   ]
  },
  {
   "cell_type": "code",
   "execution_count": null,
   "id": "91355f76",
   "metadata": {},
   "outputs": [],
   "source": [
    "file_path_sample_data = \"C:/Users/10012425/Desktop/sds4gdsp/scoring_base.csv\"\n",
    "ABT_mobility = pd.read_csv(file_path_sample_data)\n",
    "ABT_mobility.sample(5)"
   ]
  },
  {
   "cell_type": "markdown",
   "id": "dc963d69",
   "metadata": {},
   "source": [
    "### Apply min max scaling capping"
   ]
  },
  {
   "cell_type": "code",
   "execution_count": null,
   "id": "c74ec061",
   "metadata": {},
   "outputs": [],
   "source": [
    "from sklearn.preprocessing import MinMaxScaler"
   ]
  },
  {
   "cell_type": "code",
   "execution_count": null,
   "id": "a396858e",
   "metadata": {},
   "outputs": [],
   "source": [
    "df_capping = pd.DataFrame(ABT_mobility, columns=['total_travel_distance', 'radius_of_gyration','activity_entropy'])\n",
    "\n",
    "column_headers = df_capping.columns.tolist()"
   ]
  },
  {
   "cell_type": "code",
   "execution_count": null,
   "id": "3186fb50",
   "metadata": {},
   "outputs": [],
   "source": [
    "# Create a MinMaxScaler instance\n",
    "scaler = MinMaxScaler()\n",
    "\n",
    "# Fit the scaler on the data and transform it\n",
    "scaled_data = scaler.fit_transform(df_capping)\n",
    "\n",
    "# Convert scaled data back to a DataFrame\n",
    "scaled_df = pd.DataFrame(scaled_data, columns=column_headers)\n",
    "scaled_df"
   ]
  },
  {
   "cell_type": "code",
   "execution_count": null,
   "id": "094e9cc1",
   "metadata": {},
   "outputs": [],
   "source": [
    "scaled_df = scaled_df.fillna(0)\n",
    "\n",
    "scaled_df[\"mobility_index\"] = (scaled_df[\"total_travel_distance\"] + scaled_df[\"radius_of_gyration\"] + scaled_df[\"activity_entropy\"]) /3"
   ]
  },
  {
   "cell_type": "code",
   "execution_count": null,
   "id": "1c0b40ab",
   "metadata": {},
   "outputs": [],
   "source": [
    "scaled_df.sample(5)"
   ]
  },
  {
   "cell_type": "code",
   "execution_count": null,
   "id": "f2777ad1",
   "metadata": {},
   "outputs": [],
   "source": [
    "low_threshold = 0.3\n",
    "high_threshold = 0.7\n",
    "\n",
    "# Create a function to categorize values\n",
    "def categorize(value):\n",
    "    if value < low_threshold:\n",
    "        return 'Low'\n",
    "    elif value < high_threshold:\n",
    "        return 'Mid'\n",
    "    elif value > high_threshold:\n",
    "        return 'High'\n",
    "    else:\n",
    "        return 'Low'\n",
    "\n",
    "# Apply the categorize function to the 'Value' column\n",
    "scaled_df['Category'] = scaled_df['mobility_index'].apply(categorize)\n",
    "\n",
    "scaled_df.sample(5)"
   ]
  },
  {
   "cell_type": "code",
   "execution_count": null,
   "id": "e8536d1d",
   "metadata": {},
   "outputs": [],
   "source": [
    "mobility_class = pd.DataFrame(scaled_df)\n",
    "scaled_df.groupby('Category').size()"
   ]
  },
  {
   "cell_type": "code",
   "execution_count": null,
   "id": "06681c5d",
   "metadata": {},
   "outputs": [],
   "source": []
  }
 ],
 "metadata": {
  "kernelspec": {
   "display_name": "Python 3 (ipykernel)",
   "language": "python",
   "name": "python3"
  },
  "language_info": {
   "codemirror_mode": {
    "name": "ipython",
    "version": 3
   },
   "file_extension": ".py",
   "mimetype": "text/x-python",
   "name": "python",
   "nbconvert_exporter": "python",
   "pygments_lexer": "ipython3",
   "version": "3.8.16"
  }
 },
 "nbformat": 4,
 "nbformat_minor": 5
}
