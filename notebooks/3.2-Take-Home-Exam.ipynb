{
 "cells": [
  {
   "cell_type": "markdown",
   "id": "15568cc0-be91-49e5-9a8c-1030cc298650",
   "metadata": {
    "tags": []
   },
   "source": [
    "# Take Home Exam: Mobility Index Calculation and Profiling"
   ]
  },
  {
   "cell_type": "markdown",
   "id": "94ccdd38",
   "metadata": {},
   "source": [
    "## 1. Create \"Mobility Index\" and \"Mobility Class\""
   ]
  },
  {
   "cell_type": "markdown",
   "id": "b74fd38c",
   "metadata": {},
   "source": [
    "Using the the following features/indicators:<br>\n",
    "<br>\n",
    "    1. Total Distance Traveled<br>\n",
    "    2. Radius of Gyration<br>\n",
    "    3. Activity Entropy<br>\n",
    "     \n",
    "Create a calculated feature called: <br>\n",
    "<br>\n",
    "\n",
    "**1. Mobility Index** (type: decimal/float) <br>\n",
    "and <br> \n",
    "**2. Mobility Class** (which is are categorized as Low, Mid, and High) for each subscriber.<br>\n",
    "\n",
    "Team is free to use any methods or technique to arrive at the Mobility Index and Mobility Class as long as it is supported by literature/s.<br>\n",
    "<br>\n",
    "**Deadline of the submission is September 1, 2023.** <br>\n",
    "<br>\n",
    "<br>\n",
    "\n",
    "**Criteria for scoring** <br>\n",
    "\n",
    "**1. Relevance of Literature (25%)**  - Thorough literature review that demonstrates a deep understanding of mobility indices and classes. Wide range of high-quality sources used. <br>\n",
    "**2. Conceptual Clarity and Indicator Selection (25%)** - Clear, well-justified conceptual framework. <br>\n",
    "**3. Methodology, Data, and Robustness (25%)** - Robust methodology with reliable data sources. <br>\n",
    "**4. Interpretability and Usability (15%)** - Detailed explanation of how the index/class can be understood and practically used by various stakeholders. <br>\n",
    "<br> \n",
    "**Total of 100 pts**"
   ]
  },
  {
   "cell_type": "markdown",
   "id": "835e89f7",
   "metadata": {},
   "source": [
    "## 2. Example of Mobility Index"
   ]
  },
  {
   "cell_type": "code",
   "execution_count": null,
   "id": "1cfd98fc",
   "metadata": {},
   "outputs": [],
   "source": [
    "import random\n",
    "import shapely\n",
    "import pendulum\n",
    "import numpy as np\n",
    "import pandas as pd\n",
    "from scipy import stats\n",
    "pd.options.display.max_rows=200\n",
    "import geopandas as gpd\n",
    "import matplotlib.pyplot as plt\n",
    "from IPython.display import HTML, display\n",
    "from functools import reduce\n",
    "import pyproj\n",
    "from functools import partial"
   ]
  },
  {
   "cell_type": "markdown",
   "id": "238621ee",
   "metadata": {},
   "source": [
    "#### Sample ABT"
   ]
  },
  {
   "cell_type": "code",
   "execution_count": null,
   "id": "91355f76",
   "metadata": {},
   "outputs": [],
   "source": [
    "file_path_sample_data = \"data/scoring_base.csv\"\n",
    "ABT_mobility = pd.read_csv(file_path_sample_data)\n",
    "ABT_mobility.sample(6)"
   ]
  },
  {
   "cell_type": "code",
   "execution_count": null,
   "id": "ca6977a1",
   "metadata": {},
   "outputs": [],
   "source": []
  }
 ],
 "metadata": {
  "kernelspec": {
   "display_name": "Python 3 (ipykernel)",
   "language": "python",
   "name": "python3"
  },
  "language_info": {
   "codemirror_mode": {
    "name": "ipython",
    "version": 3
   },
   "file_extension": ".py",
   "mimetype": "text/x-python",
   "name": "python",
   "nbconvert_exporter": "python",
   "pygments_lexer": "ipython3",
   "version": "3.8.16"
  }
 },
 "nbformat": 4,
 "nbformat_minor": 5
}
